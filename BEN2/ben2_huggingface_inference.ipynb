{
 "cells": [
  {
   "cell_type": "markdown",
   "metadata": {},
   "source": [
    "BEN2\n",
    "===\n",
    "\n",
    "**Background Erase Network (BEN)**\n",
    "\n",
    " * Paper: BEN: Using Confidence-Guided Matting for Dichotomous Image Segmentation https://arxiv.org/abs/2501.06230\n"
   ]
  },
  {
   "cell_type": "markdown",
   "metadata": {},
   "source": [
    "```bash\n",
    "pip install torch torchvision\n",
    "pip install transformers\n",
    "pip install matplotlib\n",
    "pip install -e \"git+https://github.com/PramaLLC/BEN2.git#egg=ben2\"\n",
    "```"
   ]
  },
  {
   "cell_type": "code",
   "execution_count": null,
   "metadata": {},
   "outputs": [],
   "source": []
  }
 ],
 "metadata": {
  "kernelspec": {
   "display_name": "py311",
   "language": "python",
   "name": "python3"
  },
  "language_info": {
   "codemirror_mode": {
    "name": "ipython",
    "version": 3
   },
   "file_extension": ".py",
   "mimetype": "text/x-python",
   "name": "python",
   "nbconvert_exporter": "python",
   "pygments_lexer": "ipython3",
   "version": "3.11.11"
  }
 },
 "nbformat": 4,
 "nbformat_minor": 2
}
