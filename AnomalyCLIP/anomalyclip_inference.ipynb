{
 "cells": [
  {
   "cell_type": "markdown",
   "id": "27436cde",
   "metadata": {},
   "source": [
    "AnomalyCLIP\n",
    "======\n",
    "\n",
    " **AnomalyCLIP: Object-agnostic Prompt Learning for Zero-shot Anomaly Detection**\n",
    "\n",
    "* Paper: https://arxiv.org/pdf/2310.18961\n",
    "\n",
    "![AnomalyCLIP overview](../assets/anomalyclip_overview.png)"
   ]
  },
  {
   "cell_type": "markdown",
   "id": "1d31c68f",
   "metadata": {},
   "source": []
  }
 ],
 "metadata": {
  "language_info": {
   "name": "python"
  }
 },
 "nbformat": 4,
 "nbformat_minor": 5
}
