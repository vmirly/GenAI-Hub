{
 "cells": [
  {
   "cell_type": "markdown",
   "id": "27436cde",
   "metadata": {},
   "source": [
    "AnomalyCLIP\n",
    "======\n",
    "\n",
    " **AnomalyCLIP: Object-agnostic Prompt Learning for Zero-shot Anomaly Detection**\n",
    "\n",
    "* Paper: https://arxiv.org/pdf/2310.18961\n",
    "\n",
    "![AnomalyCLIP overview](../assets/anomalyclip_overview.png)"
   ]
  },
  {
   "cell_type": "markdown",
   "id": "1d31c68f",
   "metadata": {},
   "source": [
    "```bash\n",
    "git clone https://github.com/zqhang/AnomalyCLIP.git AnomalyCLIP_repo\n",
    "\n",
    "conda create --name anomalyclip python=3.10 -y\n",
    "conda activate anomalyclip\n",
    "\n",
    "pip install -r AnomalyCLIP_repo/requirements.txt \n",
    "pip install thop ftfy regex tabulate opencv-python\n",
    "\n",
    "pip install \"numpy<2\"\n",
    "```"
   ]
  },
  {
   "cell_type": "markdown",
   "id": "559bdadd",
   "metadata": {},
   "source": []
  }
 ],
 "metadata": {
  "language_info": {
   "name": "python"
  }
 },
 "nbformat": 4,
 "nbformat_minor": 5
}
