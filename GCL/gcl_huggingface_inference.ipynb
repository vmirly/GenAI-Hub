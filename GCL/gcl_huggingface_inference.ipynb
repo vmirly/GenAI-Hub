{
 "cells": [
  {
   "cell_type": "markdown",
   "metadata": {},
   "source": [
    "GCL\n",
    "===\n",
    "\n",
    "**Generalized Contrastive Learning for Multi-Modal Retrieval and Ranking**\n",
    " * Paper: https://arxiv.org/abs/2404.08535\n",
    "\n",
    "![GCL Overview](../assets/gcl_overview.png)"
   ]
  },
  {
   "cell_type": "code",
   "execution_count": 1,
   "metadata": {},
   "outputs": [],
   "source": [
    "import torch\n",
    "import torch.nn.functional as F\n",
    "from torch import Tensor\n",
    "from transformers import AutoTokenizer, AutoModel\n",
    "\n",
    "device = torch.device('cuda' if torch.cuda.is_available() else 'cpu')\n",
    "\n",
    "def average_pool(\n",
    "        last_hidden_states: Tensor,\n",
    "        attention_mask: Tensor\n",
    "    ) -> Tensor:\n",
    "    last_hidden = last_hidden_states.masked_fill(\n",
    "        ~attention_mask[..., None].bool(), 0.0\n",
    "    )\n",
    "    return last_hidden.sum(dim=1) / attention_mask.sum(dim=1)[..., None]\n",
    "\n",
    "\n",
    "tokenizer = AutoTokenizer.from_pretrained(\n",
    "    'Marqo/marqo-gcl-e5-large-v2-130'\n",
    ")\n",
    "model_new = AutoModel.from_pretrained(\n",
    "    'Marqo/marqo-gcl-e5-large-v2-130'\n",
    ").eval().to(device);"
   ]
  },
  {
   "cell_type": "code",
   "execution_count": null,
   "metadata": {},
   "outputs": [
    {
     "data": {
      "text/plain": [
       "odict_keys(['last_hidden_state', 'pooler_output'])"
      ]
     },
     "execution_count": 3,
     "metadata": {},
     "output_type": "execute_result"
    }
   ],
   "source": []
  }
 ],
 "metadata": {
  "kernelspec": {
   "display_name": "py311",
   "language": "python",
   "name": "python3"
  },
  "language_info": {
   "codemirror_mode": {
    "name": "ipython",
    "version": 3
   },
   "file_extension": ".py",
   "mimetype": "text/x-python",
   "name": "python",
   "nbconvert_exporter": "python",
   "pygments_lexer": "ipython3",
   "version": "3.11.11"
  }
 },
 "nbformat": 4,
 "nbformat_minor": 2
}
