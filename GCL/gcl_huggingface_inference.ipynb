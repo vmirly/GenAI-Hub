{
 "cells": [
  {
   "cell_type": "markdown",
   "metadata": {},
   "source": [
    "GCL\n",
    "===\n",
    "\n",
    "**Generalized Contrastive Learning for Multi-Modal Retrieval and Ranking**\n",
    " * Paper: https://arxiv.org/abs/2404.08535\n",
    "\n",
    "![GCL Overview](../assets/gcl_overview.png)"
   ]
  },
  {
   "cell_type": "markdown",
   "metadata": {},
   "source": []
  }
 ],
 "metadata": {
  "language_info": {
   "name": "python"
  }
 },
 "nbformat": 4,
 "nbformat_minor": 2
}
