{
 "cells": [
  {
   "cell_type": "markdown",
   "metadata": {},
   "source": [
    "GCL\n",
    "===\n",
    "\n",
    "**Generalized Contrastive Learning for Multi-Modal Retrieval and Ranking**\n",
    " * Paper: https://arxiv.org/abs/2404.08535\n",
    "\n",
    "![GCL Overview](../assets/gcl_overview.png)"
   ]
  },
  {
   "cell_type": "code",
   "execution_count": 1,
   "metadata": {},
   "outputs": [],
   "source": [
    "import torch\n",
    "import torch.nn.functional as F\n",
    "from torch import Tensor\n",
    "from transformers import AutoTokenizer, AutoModel\n",
    "\n",
    "device = torch.device('cuda' if torch.cuda.is_available() else 'cpu')\n",
    "\n",
    "def average_pool(\n",
    "        last_hidden_states: Tensor,\n",
    "        attention_mask: Tensor\n",
    "    ) -> Tensor:\n",
    "    last_hidden = last_hidden_states.masked_fill(\n",
    "        ~attention_mask[..., None].bool(), 0.0\n",
    "    )\n",
    "    return last_hidden.sum(dim=1) / attention_mask.sum(dim=1)[..., None]\n",
    "\n",
    "\n",
    "tokenizer = AutoTokenizer.from_pretrained(\n",
    "    'Marqo/marqo-gcl-e5-large-v2-130'\n",
    ")\n",
    "model_new = AutoModel.from_pretrained(\n",
    "    'Marqo/marqo-gcl-e5-large-v2-130'\n",
    ").eval().to(device);"
   ]
  },
  {
   "cell_type": "code",
   "execution_count": 2,
   "metadata": {},
   "outputs": [
    {
     "data": {
      "text/plain": [
       "odict_keys(['last_hidden_state', 'pooler_output'])"
      ]
     },
     "execution_count": 2,
     "metadata": {},
     "output_type": "execute_result"
    }
   ],
   "source": [
    "# Each input text should start with \"query: \" or \"passage: \".\n",
    "# For tasks other than retrieval, you can simply use the \"query: \" prefix.\n",
    "queries = [\n",
    "    'query: Espresso Pitcher with Handle',\n",
    "    'query: Women’s designer handbag sale'\n",
    "]\n",
    "\n",
    "passeges = [\n",
    "    \"passage: Dianoo Espresso Steaming Pitcher, Espresso Milk Frothing Pitcher Stainless Steel\",\n",
    "    \"passage: Coach Outlet Eliza Shoulder Bag - Black - One Size\"\n",
    "]\n",
    "\n",
    "# Tokenize the input texts\n",
    "batch_dict = tokenizer(\n",
    "    queries + passeges,\n",
    "    max_length=77,\n",
    "    padding=True,\n",
    "    truncation=True,\n",
    "    return_tensors='pt'\n",
    ").to(device)\n",
    "\n",
    "outputs = model_new(**batch_dict)\n",
    "outputs.keys()"
   ]
  },
  {
   "cell_type": "code",
   "execution_count": 3,
   "metadata": {},
   "outputs": [
    {
     "name": "stdout",
     "output_type": "stream",
     "text": [
      "torch.Size([4, 23, 1024])\n"
     ]
    }
   ],
   "source": [
    "print(outputs.last_hidden_state.shape)"
   ]
  },
  {
   "cell_type": "code",
   "execution_count": 4,
   "metadata": {},
   "outputs": [
    {
     "name": "stdout",
     "output_type": "stream",
     "text": [
      "torch.Size([4, 1024])\n"
     ]
    }
   ],
   "source": [
    "embeddings = average_pool(\n",
    "    outputs.last_hidden_state,\n",
    "    batch_dict['attention_mask']\n",
    ")\n",
    "print(embeddings.shape)"
   ]
  },
  {
   "cell_type": "code",
   "execution_count": 5,
   "metadata": {},
   "outputs": [
    {
     "name": "stdout",
     "output_type": "stream",
     "text": [
      "[[0.6319, 0.1453], [0.0052, 0.7808]]\n"
     ]
    }
   ],
   "source": [
    "# normalize embeddings\n",
    "embeddings = F.normalize(embeddings, p=2, dim=1)\n",
    "\n",
    "query_embeddings = embeddings[:len(queries)]\n",
    "passage_embeddings = embeddings[len(queries):]\n",
    "\n",
    "# calculate cosine similarity\n",
    "scores = (query_embeddings @ passage_embeddings.T)\n",
    "print([[round(s, 4) for s in row] for row in scores.tolist()])"
   ]
  },
  {
   "cell_type": "code",
   "execution_count": null,
   "metadata": {},
   "outputs": [],
   "source": []
  }
 ],
 "metadata": {
  "kernelspec": {
   "display_name": "py311",
   "language": "python",
   "name": "python3"
  },
  "language_info": {
   "codemirror_mode": {
    "name": "ipython",
    "version": 3
   },
   "file_extension": ".py",
   "mimetype": "text/x-python",
   "name": "python",
   "nbconvert_exporter": "python",
   "pygments_lexer": "ipython3",
   "version": "3.11.11"
  }
 },
 "nbformat": 4,
 "nbformat_minor": 2
}
