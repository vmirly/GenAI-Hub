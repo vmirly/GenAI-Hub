{
 "cells": [
  {
   "cell_type": "markdown",
   "id": "f82186d0",
   "metadata": {},
   "source": [
    "AEMatter\n",
    "====\n",
    "\n",
    "**Revisiting Context Aggregation for Image Matting**\n",
    "\n",
    " * Paper: https://arxiv.org/pdf/2304.01171\n",
    "\n",
    "![AEMatter Overview](../assets/aematter_overview.png)"
   ]
  },
  {
   "cell_type": "markdown",
   "id": "c18782a4",
   "metadata": {},
   "source": [
    "```bash\n",
    "git clone https://github.com/aipixel/AEMatter.git\n",
    "```\n",
    "\n",
    "## Download the model\n",
    " * AEMatter https://mega.nz/file/7N4AEKrS#L4h3Cm2qLMMbwBGm1lyGOmVDTXJwDMAi4BlBauqNHrI\n",
    "\n",
    " * Also, download swin model from huggingface"
   ]
  },
  {
   "cell_type": "code",
   "execution_count": 1,
   "id": "e3f7f5db",
   "metadata": {},
   "outputs": [
    {
     "name": "stderr",
     "output_type": "stream",
     "text": [
      "/home/pyml/anaconda3/envs/py311/lib/python3.11/site-packages/tqdm/auto.py:21: TqdmWarning: IProgress not found. Please update jupyter and ipywidgets. See https://ipywidgets.readthedocs.io/en/stable/user_install.html\n",
      "  from .autonotebook import tqdm as notebook_tqdm\n"
     ]
    },
    {
     "name": "stdout",
     "output_type": "stream",
     "text": [
      "Model weights saved as swin_tiny_patch4_window7_224.pth\n"
     ]
    }
   ],
   "source": [
    "import torch\n",
    "from transformers import AutoModel, AutoImageProcessor\n",
    "\n",
    "# Load model and processor\n",
    "model_name = \"microsoft/swin-tiny-patch4-window7-224\"\n",
    "swin_model = AutoModel.from_pretrained(model_name)\n",
    "processor = AutoImageProcessor.from_pretrained(model_name)\n",
    "\n",
    "# Save model as .pth\n",
    "torch.save(\n",
    "    {\"model\": swin_model.state_dict()},\n",
    "    \"swin_tiny_patch4_window7_224.pth\"\n",
    ")\n",
    "print(\"Model weights saved as swin_tiny_patch4_window7_224.pth\")\n"
   ]
  },
  {
   "cell_type": "code",
   "execution_count": 2,
   "id": "a1054a57",
   "metadata": {},
   "outputs": [
    {
     "name": "stderr",
     "output_type": "stream",
     "text": [
      "/home/pyml/anaconda3/envs/py311/lib/python3.11/site-packages/timm/models/layers/__init__.py:48: FutureWarning: Importing from timm.models.layers is deprecated, please import via timm.layers\n",
      "  warnings.warn(f\"Importing from {__name__} is deprecated, please import via timm.layers\", FutureWarning)\n"
     ]
    }
   ],
   "source": [
    "import os\n",
    "import sys\n",
    "\n",
    "import cv2\n",
    "from PIL import Image\n",
    "import numpy as np\n",
    "import torch\n",
    "\n",
    "sys.path.append(\"AEMatter_repo\")\n",
    "import model\n",
    "\n",
    "device = torch.device(\"cuda\" if torch.cuda.is_available() else \"cpu\")"
   ]
  },
  {
   "cell_type": "code",
   "execution_count": 3,
   "id": "21d06b72",
   "metadata": {},
   "outputs": [
    {
     "name": "stderr",
     "output_type": "stream",
     "text": [
      "/home/pyml/anaconda3/envs/py311/lib/python3.11/site-packages/torch/functional.py:554: UserWarning: torch.meshgrid: in an upcoming release, it will be required to pass the indexing argument. (Triggered internally at /pytorch/aten/src/ATen/native/TensorShape.cpp:4314.)\n",
      "  return _VF.meshgrid(tensors, **kwargs)  # type: ignore[attr-defined]\n"
     ]
    }
   ],
   "source": [
    "device = torch.device(\"cuda\" if torch.cuda.is_available() else \"cpu\")\n",
    "\n",
    "matmodel = model.AEMatter()\n",
    "matmodel.load_state_dict(\n",
    "    torch.load('checkpoints/AEMFIX.ckpt', map_location='cpu'\n",
    ")['model'])\n",
    "matmodel=matmodel.to(device)\n",
    "matmodel.eval();"
   ]
  },
  {
   "cell_type": "code",
   "execution_count": 12,
   "id": "4a316a86",
   "metadata": {},
   "outputs": [
    {
     "data": {
      "text/plain": [
       "(1137, 1068, 1)"
      ]
     },
     "execution_count": 12,
     "metadata": {},
     "output_type": "execute_result"
    }
   ],
   "source": [
    "#rawimg=pimgs+file\n",
    "image_path = \"../samples/plants.jpg\"\n",
    "trimap_path = \"plants_trimap.png\"\n",
    "\n",
    "rawimg=cv2.imread(image_path)\n",
    "trimap=cv2.imread(trimap_path, cv2.IMREAD_GRAYSCALE)\n",
    "\n",
    "def run_model(rawimg, trimap):\n",
    "    trimap_nonp = trimap.copy()\n",
    "    h, w, c = rawimg.shape\n",
    "    nonph, nonpw, _ = rawimg.shape\n",
    "    newh = (((h - 1) // 32) + 1) * 32\n",
    "    neww = (((w - 1) // 32) + 1) * 32\n",
    "    padh = newh - h\n",
    "    padh1 = int(padh / 2)\n",
    "    padh2 = padh - padh1\n",
    "    padw = neww - w\n",
    "    padw1 = int(padw / 2)\n",
    "    padw2 = padw - padw1\n",
    "    rawimg_pad = cv2.copyMakeBorder(\n",
    "        rawimg, padh1, padh2, padw1, padw2, cv2.BORDER_REFLECT\n",
    "    )\n",
    "    trimap_pad = cv2.copyMakeBorder(\n",
    "        trimap, padh1, padh2, padw1, padw2, cv2.BORDER_REFLECT\n",
    "    )\n",
    "    h_pad, w_pad, _ = rawimg_pad.shape\n",
    "    tritemp = np.zeros([*trimap_pad.shape, 3], np.float32)\n",
    "    tritemp[:, :, 0] = (trimap_pad == 0)\n",
    "    tritemp[:, :, 1] = (trimap_pad == 128)\n",
    "    tritemp[:, :, 2] = (trimap_pad == 255)\n",
    "    tritempimgs = np.transpose(tritemp, (2, 0, 1))\n",
    "    tritempimgs = tritempimgs[np.newaxis, :, :, :]\n",
    "    img = np.transpose(rawimg_pad, (2, 0, 1))[np.newaxis, ::-1, :, :]\n",
    "    img = np.array(img, np.float32)\n",
    "    img = img / 255.\n",
    "    img = torch.from_numpy(img).to(device)\n",
    "    tritempimgs = torch.from_numpy(tritempimgs).to(device)\n",
    "\n",
    "\n",
    "    with torch.no_grad():\n",
    "        pred = matmodel(img, tritempimgs)\n",
    "        pred = pred.detach().cpu().numpy()[0]\n",
    "        pred = pred[:, padh1: padh1 + h, padw1: padw1 + w]\n",
    "        preda = pred[0: 1, ]*255\n",
    "        preda = np.transpose(preda,(1,2,0))\n",
    "        preda = preda*(trimap_nonp[:, :, None] == 128)+(trimap_nonp[: ,: , None]==255) * 255\n",
    "    preda = np.array(preda, np.uint8)\n",
    "\n",
    "    return preda\n",
    "\n",
    "predicted_alpha_matte = run_model(rawimg, trimap)\n",
    "\n",
    "predicted_alpha_matte.shape"
   ]
  },
  {
   "cell_type": "code",
   "execution_count": null,
   "id": "6725bd2a",
   "metadata": {},
   "outputs": [],
   "source": []
  }
 ],
 "metadata": {
  "kernelspec": {
   "display_name": "py311",
   "language": "python",
   "name": "python3"
  },
  "language_info": {
   "codemirror_mode": {
    "name": "ipython",
    "version": 3
   },
   "file_extension": ".py",
   "mimetype": "text/x-python",
   "name": "python",
   "nbconvert_exporter": "python",
   "pygments_lexer": "ipython3",
   "version": "3.11.13"
  }
 },
 "nbformat": 4,
 "nbformat_minor": 5
}
