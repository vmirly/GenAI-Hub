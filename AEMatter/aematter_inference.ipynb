{
 "cells": [
  {
   "cell_type": "markdown",
   "id": "f82186d0",
   "metadata": {},
   "source": [
    "AEMatter\n",
    "====\n",
    "\n",
    "**Revisiting Context Aggregation for Image Matting**\n",
    "\n",
    " * Paper: https://arxiv.org/pdf/2304.01171\n",
    "\n",
    "![AEMatter Overview](../assets/aematter_overview.png)"
   ]
  },
  {
   "cell_type": "markdown",
   "id": "c18782a4",
   "metadata": {},
   "source": []
  }
 ],
 "metadata": {
  "language_info": {
   "name": "python"
  }
 },
 "nbformat": 4,
 "nbformat_minor": 5
}
