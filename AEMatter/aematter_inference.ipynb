{
 "cells": [
  {
   "cell_type": "markdown",
   "id": "f82186d0",
   "metadata": {},
   "source": [
    "AEMatter\n",
    "====\n",
    "\n",
    "**Revisiting Context Aggregation for Image Matting**\n",
    "\n",
    " * Paper: https://arxiv.org/pdf/2304.01171\n",
    "\n",
    "![AEMatter Overview](../assets/aematter_overview.png)"
   ]
  },
  {
   "cell_type": "markdown",
   "id": "c18782a4",
   "metadata": {},
   "source": [
    "```bash\n",
    "git clone https://github.com/aipixel/AEMatter.git\n",
    "```\n",
    "\n",
    "## Download the model\n",
    " * AEMatter https://mega.nz/file/7N4AEKrS#L4h3Cm2qLMMbwBGm1lyGOmVDTXJwDMAi4BlBauqNHrI\n",
    "\n",
    " * Also, download swin model from huggingface"
   ]
  },
  {
   "cell_type": "code",
   "execution_count": null,
   "id": "e3f7f5db",
   "metadata": {},
   "outputs": [
    {
     "name": "stdout",
     "output_type": "stream",
     "text": [
      "Model weights saved as swin_tiny_patch4_window7_224.pth\n"
     ]
    }
   ],
   "source": [
    "import torch\n",
    "from transformers import AutoModel, AutoImageProcessor\n",
    "\n",
    "# Load model and processor\n",
    "model_name = \"microsoft/swin-tiny-patch4-window7-224\"\n",
    "swin_model = AutoModel.from_pretrained(model_name)\n",
    "processor = AutoImageProcessor.from_pretrained(model_name)\n",
    "\n",
    "# Save model as .pth\n",
    "torch.save(\n",
    "    {\"model\": swin_model.state_dict()},\n",
    "    \"swin_tiny_patch4_window7_224.pth\"\n",
    ")\n",
    "print(\"Model weights saved as swin_tiny_patch4_window7_224.pth\")\n"
   ]
  },
  {
   "cell_type": "code",
   "execution_count": 6,
   "id": "a1054a57",
   "metadata": {},
   "outputs": [],
   "source": [
    "import os\n",
    "import sys\n",
    "\n",
    "import cv2\n",
    "from PIL import Image\n",
    "import numpy as np\n",
    "import torch\n",
    "\n",
    "sys.path.append(\"AEMatter_repo\")\n",
    "import model\n",
    "\n",
    "device = torch.device(\"cuda\" if torch.cuda.is_available() else \"cpu\")"
   ]
  },
  {
   "cell_type": "code",
   "execution_count": null,
   "id": "21d06b72",
   "metadata": {},
   "outputs": [],
   "source": []
  }
 ],
 "metadata": {
  "kernelspec": {
   "display_name": "py311",
   "language": "python",
   "name": "python3"
  },
  "language_info": {
   "codemirror_mode": {
    "name": "ipython",
    "version": 3
   },
   "file_extension": ".py",
   "mimetype": "text/x-python",
   "name": "python",
   "nbconvert_exporter": "python",
   "pygments_lexer": "ipython3",
   "version": "3.10.16"
  }
 },
 "nbformat": 4,
 "nbformat_minor": 5
}
