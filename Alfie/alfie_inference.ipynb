{
 "cells": [
  {
   "cell_type": "markdown",
   "id": "1688f632",
   "metadata": {},
   "source": [
    "Alfie\n",
    "====\n",
    "\n",
    "\n",
    "**Alfie:Democratising RGBA Image Generation With No $$$**\n",
    "\n",
    " * Paper: https://arxiv.org/pdf/2408.14826v1\n",
    "\n"
   ]
  },
  {
   "cell_type": "markdown",
   "id": "05774567",
   "metadata": {},
   "source": []
  }
 ],
 "metadata": {
  "language_info": {
   "name": "python"
  }
 },
 "nbformat": 4,
 "nbformat_minor": 5
}
