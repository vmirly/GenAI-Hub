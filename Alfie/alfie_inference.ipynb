{
 "cells": [
  {
   "cell_type": "markdown",
   "id": "1688f632",
   "metadata": {},
   "source": [
    "Alfie\n",
    "====\n",
    "\n",
    "\n",
    "**Alfie:Democratising RGBA Image Generation With No $$$**\n",
    "\n",
    " * Paper: https://arxiv.org/pdf/2408.14826v1\n",
    "\n",
    "![Alfie Overview](../assets/alfie_overview.png)\n",
    "\n",
    "\n",
    "### Instalation\n",
    "\n",
    "```bash\n",
    "git clone https://github.com/aimagelab/Alfie.git\n",
    "cd Alfie\n",
    "\n",
    "pip install torch torchvision\n",
    "pip install -r requirements.txt\n",
    "```"
   ]
  },
  {
   "cell_type": "code",
   "execution_count": null,
   "id": "2498e789",
   "metadata": {},
   "outputs": [
    {
     "name": "stdout",
     "output_type": "stream",
     "text": [
      "{'centering': 'True', 'use_neg_prompt': 'True', 'exclude_generic_nouns': 'True', 'cutout_model': 'grabcut', 'use_suffix': 'False'}\n"
     ]
    },
    {
     "data": {
      "text/plain": [
       "{'centering': True,\n",
       " 'use_neg_prompt': True,\n",
       " 'exclude_generic_nouns': True,\n",
       " 'cutout_model': False,\n",
       " 'use_suffix': False}"
      ]
     },
     "execution_count": 12,
     "metadata": {},
     "output_type": "execute_result"
    }
   ],
   "source": [
    "import sys\n",
    "sys.path.append(\"Alfie\")\n",
    "import json\n",
    "import ast\n",
    "\n",
    "import matplotlib.pyplot as plt\n",
    "import torch\n",
    "from transformers import VitMatteImageProcessor, VitMatteForImageMatting\n",
    "from accelerate import PartialState\n",
    "from accelerate.logging import get_logger\n",
    "from accelerate.utils import set_seed\n",
    "\n",
    "from alfie.generate import get_pipe\n",
    "#from alfie.grabcut import grabcut, save_rgba\n",
    "#from alfie.trimap import compute_trimap\n",
    "#from alfie.utils import normalize_masks\n",
    "\n",
    "torch.backends.cuda.matmul.allow_tf32 = True\n",
    "\n",
    "SETTING_NAME = \"centering-rgba-alfie\"\n",
    "settings_dict = parse_setting(SETTING_NAME)\n",
    "print(settings_dict)\n",
    "settings_dict = {\n",
    "    k: v == \"True\"\n",
    "    for k, v in settings_dict.items()\n",
    "}\n",
    "\n",
    "settings_dict"
   ]
  },
  {
   "cell_type": "code",
   "execution_count": null,
   "id": "f93b13e1",
   "metadata": {},
   "outputs": [
    {
     "name": "stdout",
     "output_type": "stream",
     "text": [
      "cuda\n"
     ]
    },
    {
     "name": "stderr",
     "output_type": "stream",
     "text": [
      "Downloading shards: 100%|██████████| 2/2 [00:00<00:00, 6141.00it/s]\n",
      "Loading checkpoint shards: 100%|██████████| 2/2 [00:01<00:00,  1.78it/s]\n",
      "You are using the default legacy behaviour of the <class 'transformers.models.t5.tokenization_t5.T5Tokenizer'>. This is expected, and simply means that the `legacy` (previous) behavior will be used so nothing changes for you. If you want to use the new behaviour, set `legacy=False`. This should only be set if you understand what it means, and thoroughly read the reason why this was added as explained in https://github.com/huggingface/transformers/pull/24565\n",
      "Loading pipeline components...: 100%|██████████| 5/5 [00:00<00:00, 156.44it/s]\n"
     ]
    },
    {
     "data": {
      "text/plain": [
       "PixArtSigmaPipeline {\n",
       "  \"_class_name\": \"PixArtSigmaPipeline\",\n",
       "  \"_diffusers_version\": \"0.29.2\",\n",
       "  \"_name_or_path\": \"PixArt-alpha/PixArt-Sigma-XL-2-1024-MS\",\n",
       "  \"scheduler\": [\n",
       "    \"diffusers\",\n",
       "    \"EulerDiscreteScheduler\"\n",
       "  ],\n",
       "  \"text_encoder\": [\n",
       "    \"transformers\",\n",
       "    \"T5EncoderModel\"\n",
       "  ],\n",
       "  \"tokenizer\": [\n",
       "    \"transformers\",\n",
       "    \"T5Tokenizer\"\n",
       "  ],\n",
       "  \"transformer\": [\n",
       "    \"alfie.transformer_2d\",\n",
       "    \"Transformer2DModel\"\n",
       "  ],\n",
       "  \"vae\": [\n",
       "    \"diffusers\",\n",
       "    \"AutoencoderKL\"\n",
       "  ]\n",
       "}"
      ]
     },
     "execution_count": 2,
     "metadata": {},
     "output_type": "execute_result"
    }
   ],
   "source": [
    "distributed_state = PartialState()\n",
    "device = distributed_state.device\n",
    "print(device)\n",
    "\n",
    "IMAGE_SIZE = 512\n",
    "SCHEDULER = 'euler'  # choices=['euler', 'euler_ancestral']\n",
    "\n",
    "pipe = get_pipe(\n",
    "    image_size=IMAGE_SIZE,\n",
    "    scheduler=SCHEDULER,\n",
    "    device=device\n",
    ")\n",
    "pipe"
   ]
  }
 ],
 "metadata": {
  "kernelspec": {
   "display_name": "py311",
   "language": "python",
   "name": "python3"
  },
  "language_info": {
   "codemirror_mode": {
    "name": "ipython",
    "version": 3
   },
   "file_extension": ".py",
   "mimetype": "text/x-python",
   "name": "python",
   "nbconvert_exporter": "python",
   "pygments_lexer": "ipython3",
   "version": "3.10.16"
  }
 },
 "nbformat": 4,
 "nbformat_minor": 5
}
