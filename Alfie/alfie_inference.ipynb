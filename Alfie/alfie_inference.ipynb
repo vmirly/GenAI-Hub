{
 "cells": [
  {
   "cell_type": "markdown",
   "id": "1688f632",
   "metadata": {},
   "source": [
    "Alfie\n",
    "====\n",
    "\n",
    "\n",
    "**Alfie:Democratising RGBA Image Generation With No $$$**\n",
    "\n",
    " * Paper: https://arxiv.org/pdf/2408.14826v1\n",
    "\n",
    "![Alfie Overview](../assets/alfie_overview.png)\n",
    "\n",
    "\n",
    "### Instalation\n",
    "\n",
    "```bash\n",
    "git clone https://github.com/aimagelab/Alfie.git\n",
    "cd Alfie\n",
    "\n",
    "pip install torch torchvision\n",
    "pip install -r requirements.txt\n",
    "```"
   ]
  },
  {
   "cell_type": "code",
   "execution_count": null,
   "id": "2498e789",
   "metadata": {},
   "outputs": [],
   "source": []
  }
 ],
 "metadata": {
  "kernelspec": {
   "display_name": "py311",
   "language": "python",
   "name": "python3"
  },
  "language_info": {
   "name": "python",
   "version": "3.11.11"
  }
 },
 "nbformat": 4,
 "nbformat_minor": 5
}
