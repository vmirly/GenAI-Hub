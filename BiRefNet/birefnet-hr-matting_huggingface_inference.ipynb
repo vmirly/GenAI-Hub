{
 "cells": [
  {
   "cell_type": "markdown",
   "id": "b3d80444",
   "metadata": {},
   "source": [
    "BiRefNet HR Matting\n",
    "====\n",
    "\n",
    "**Bilateral Reference for High-Resolution Dichotomous Image Segmentation**\n",
    "\n",
    " * Paper: https://arxiv.org/abs/2401.03407\n",
    "\n",
    "![BiRefNet Arch](../assets/birefnet_arch.png)\n",
    "\n",
    "![BiRefNet Pipeline](../assets/birefnet_pipeline.png)\n",
    "\n",
    "![BiRefNet Pipeline](../assets/birefnet_block.png)\n",
    "\n",
    "\n",
    "```bash\n",
    "conda create -n birefnet python=3.10 -y\n",
    "conda activate birefnet\n",
    "\n",
    "pip install -r https://raw.githubusercontent.com/ZhengPeng7/BiRefNet/main/requirements.txt\n",
    "\n",
    "pip install transformers\n",
    "pip install matplotlib\n",
    "```"
   ]
  }
 ],
 "metadata": {
  "kernelspec": {
   "display_name": "birefnet",
   "language": "python",
   "name": "python3"
  },
  "language_info": {
   "codemirror_mode": {
    "name": "ipython",
    "version": 3
   },
   "file_extension": ".py",
   "mimetype": "text/x-python",
   "name": "python",
   "nbconvert_exporter": "python",
   "pygments_lexer": "ipython3",
   "version": "3.10.16"
  }
 },
 "nbformat": 4,
 "nbformat_minor": 5
}
