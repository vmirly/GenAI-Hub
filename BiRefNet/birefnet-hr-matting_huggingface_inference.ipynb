{
 "cells": [
  {
   "cell_type": "markdown",
   "id": "b3d80444",
   "metadata": {},
   "source": [
    "BiRefNet HR Matting\n",
    "====\n",
    "\n",
    "**Bilateral Reference for High-Resolution Dichotomous Image Segmentation**\n",
    "\n",
    " * Paper: https://arxiv.org/abs/2401.03407\n",
    "\n",
    "![BiRefNet Arch](../assets/birefnet_arch.png)\n",
    "\n",
    "![BiRefNet Pipeline](../assets/birefnet_pipeline.png)\n",
    "\n",
    "![BiRefNet Pipeline](../assets/birefnet_block.png)"
   ]
  },
  {
   "cell_type": "markdown",
   "id": "c689d61e",
   "metadata": {},
   "source": []
  }
 ],
 "metadata": {
  "kernelspec": {
   "display_name": "birefnet",
   "language": "python",
   "name": "python3"
  },
  "language_info": {
   "name": "python",
   "version": "3.10.16"
  }
 },
 "nbformat": 4,
 "nbformat_minor": 5
}
