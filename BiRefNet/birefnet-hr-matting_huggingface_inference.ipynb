{
 "cells": [
  {
   "cell_type": "markdown",
   "id": "b3d80444",
   "metadata": {},
   "source": [
    "BiRefNet HR Matting\n",
    "====\n",
    "\n",
    "**Bilateral Reference for High-Resolution Dichotomous Image Segmentation**\n",
    "\n",
    " * Paper: https://arxiv.org/abs/2401.03407\n",
    "\n",
    "![BiRefNet Arch](../assets/birefnet_arch.png)\n",
    "\n",
    "![BiRefNet Pipeline](../assets/birefnet_pipeline.png)\n",
    "\n",
    "![BiRefNet Pipeline](../assets/birefnet_block.png)\n",
    "\n",
    "\n",
    "```bash\n",
    "conda create -n birefnet python=3.10 -y\n",
    "conda activate birefnet\n",
    "\n",
    "pip install -r https://raw.githubusercontent.com/ZhengPeng7/BiRefNet/main/requirements.txt\n",
    "\n",
    "pip install transformers\n",
    "pip install matplotlib\n",
    "```"
   ]
  },
  {
   "cell_type": "code",
   "execution_count": 1,
   "id": "f78c0f0a",
   "metadata": {},
   "outputs": [
    {
     "name": "stderr",
     "output_type": "stream",
     "text": [
      "/home/pyml/anaconda3/envs/birefnet/lib/python3.10/site-packages/tqdm/auto.py:21: TqdmWarning: IProgress not found. Please update jupyter and ipywidgets. See https://ipywidgets.readthedocs.io/en/stable/user_install.html\n",
      "  from .autonotebook import tqdm as notebook_tqdm\n",
      "/home/pyml/anaconda3/envs/birefnet/lib/python3.10/site-packages/timm/models/layers/__init__.py:48: FutureWarning: Importing from timm.models.layers is deprecated, please import via timm.layers\n",
      "  warnings.warn(f\"Importing from {__name__} is deprecated, please import via timm.layers\", FutureWarning)\n",
      "/home/pyml/anaconda3/envs/birefnet/lib/python3.10/site-packages/timm/models/registry.py:4: FutureWarning: Importing from timm.models.registry is deprecated, please import via timm.models\n",
      "  warnings.warn(f\"Importing from {__name__} is deprecated, please import via timm.models\", FutureWarning)\n"
     ]
    }
   ],
   "source": [
    "from PIL import Image\n",
    "import matplotlib.pyplot as plt\n",
    "import torch\n",
    "from torchvision import transforms\n",
    "from transformers import AutoModelForImageSegmentation\n",
    "\n",
    "device = torch.device(\"cuda\" if torch.cuda.is_available() else \"cpu\")\n",
    "\n",
    "birefnet = AutoModelForImageSegmentation.from_pretrained(\n",
    "    'ZhengPeng7/BiRefNet_HR-matting',\n",
    "    trust_remote_code=True\n",
    ")\n",
    "torch.set_float32_matmul_precision(['high', 'highest'][0])\n",
    "birefnet.eval().to(device).half();"
   ]
  },
  {
   "cell_type": "code",
   "execution_count": null,
   "id": "705ba6cf",
   "metadata": {},
   "outputs": [],
   "source": []
  }
 ],
 "metadata": {
  "kernelspec": {
   "display_name": "birefnet",
   "language": "python",
   "name": "python3"
  },
  "language_info": {
   "codemirror_mode": {
    "name": "ipython",
    "version": 3
   },
   "file_extension": ".py",
   "mimetype": "text/x-python",
   "name": "python",
   "nbconvert_exporter": "python",
   "pygments_lexer": "ipython3",
   "version": "3.10.16"
  }
 },
 "nbformat": 4,
 "nbformat_minor": 5
}
