{
 "cells": [
  {
   "cell_type": "markdown",
   "id": "9e0b293e",
   "metadata": {},
   "source": [
    "LeFFA\n",
    "===\n",
    "\n",
    "**Learning Flow Fields in Attention for Controllable Person Image Generation**\n",
    "\n",
    " * Paper: https://arxiv.org/abs/2412.08486\n",
    "\n",
    " "
   ]
  }
 ],
 "metadata": {
  "kernelspec": {
   "display_name": "leffa",
   "language": "python",
   "name": "python3"
  },
  "language_info": {
   "name": "python",
   "version": "3.10.0"
  }
 },
 "nbformat": 4,
 "nbformat_minor": 5
}
