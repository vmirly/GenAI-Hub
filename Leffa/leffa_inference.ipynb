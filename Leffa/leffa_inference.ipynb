{
 "cells": [
  {
   "cell_type": "markdown",
   "id": "9e0b293e",
   "metadata": {},
   "source": [
    "LeFFA\n",
    "===\n",
    "\n",
    "**Learning Flow Fields in Attention for Controllable Person Image Generation**\n",
    "\n",
    " * Paper: https://arxiv.org/abs/2412.08486\n",
    "\n"
   ]
  },
  {
   "cell_type": "markdown",
   "id": "270aea84",
   "metadata": {},
   "source": [
    "\n",
    "\n",
    "```bash\n",
    "git clone https://github.com/franciszzj/Leffa.git\n",
    "cd Leffa/\n",
    "\n",
    "\n",
    "conda create -n leffa python==3.10\n",
    "conda activate leffa\n",
    "pip install -r requirements.txt \n",
    "pip install ipykernel\n",
    "python -m ipykernel install --user --name leffa --display-name \"leffa\"\n",
    "```"
   ]
  },
  {
   "cell_type": "markdown",
   "id": "159e2d72",
   "metadata": {},
   "source": []
  }
 ],
 "metadata": {
  "kernelspec": {
   "display_name": "leffa",
   "language": "python",
   "name": "python3"
  },
  "language_info": {
   "name": "python",
   "version": "3.10.0"
  }
 },
 "nbformat": 4,
 "nbformat_minor": 5
}
