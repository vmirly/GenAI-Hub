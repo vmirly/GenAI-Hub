{
 "cells": [
  {
   "cell_type": "markdown",
   "id": "9e0b293e",
   "metadata": {},
   "source": [
    "LeFFA\n",
    "===\n",
    "\n",
    "**Learning Flow Fields in Attention for Controllable Person Image Generation**\n",
    "\n",
    " * Paper: https://arxiv.org/abs/2412.08486\n",
    "\n",
    "\n",
    "![Leffa Overview](../assets/leffa_overview.png)\n"
   ]
  },
  {
   "cell_type": "markdown",
   "id": "270aea84",
   "metadata": {},
   "source": [
    "\n",
    "\n",
    "```bash\n",
    "git clone https://github.com/franciszzj/Leffa.git\n",
    "cd Leffa/\n",
    "\n",
    "\n",
    "conda create -n leffa python==3.10\n",
    "conda activate leffa\n",
    "pip install -r requirements.txt \n",
    "pip install ipykernel\n",
    "python -m ipykernel install --user --name leffa --display-name \"leffa\"\n",
    "```"
   ]
  },
  {
   "cell_type": "code",
   "execution_count": 2,
   "id": "897cfb8b",
   "metadata": {},
   "outputs": [],
   "source": [
    "import sys\n",
    "sys.path.append(\"Leffa_repo\")\n",
    "import numpy as np\n",
    "from PIL import Image\n",
    "import matplotlib.pyplot as plt\n",
    "from huggingface_hub import snapshot_download\n",
    "\n",
    "from leffa.transform import LeffaTransform\n",
    "from leffa.model import LeffaModel\n",
    "from leffa.inference import LeffaInference\n",
    "from leffa_utils.garment_agnostic_mask_predictor import AutoMasker\n",
    "from leffa_utils.densepose_predictor import DensePosePredictor\n",
    "from leffa_utils.utils import resize_and_center, list_dir, get_agnostic_mask_hd, get_agnostic_mask_dc, preprocess_garment_image\n",
    "from preprocess.humanparsing.run_parsing import Parsing\n",
    "from preprocess.openpose.run_openpose import OpenPose"
   ]
  },
  {
   "cell_type": "markdown",
   "id": "f17edde5",
   "metadata": {},
   "source": [
    "## Download checkpoints"
   ]
  },
  {
   "cell_type": "code",
   "execution_count": 3,
   "id": "c9dc8e6c",
   "metadata": {},
   "outputs": [
    {
     "name": "stderr",
     "output_type": "stream",
     "text": [
      "Fetching 37 files: 100%|██████████| 37/37 [00:00<00:00, 2629.03it/s]\n"
     ]
    },
    {
     "data": {
      "text/plain": [
       "'/home/pyml/git_vmirly/GenAI-Hub/tmp/Leffa/ckpts'"
      ]
     },
     "execution_count": 3,
     "metadata": {},
     "output_type": "execute_result"
    }
   ],
   "source": [
    "# Download checkpoints\n",
    "snapshot_download(repo_id=\"franciszzj/Leffa\", local_dir=\"./ckpts\")"
   ]
  },
  {
   "cell_type": "code",
   "execution_count": null,
   "id": "3a652e9d",
   "metadata": {},
   "outputs": [],
   "source": []
  }
 ],
 "metadata": {
  "kernelspec": {
   "display_name": "leffa",
   "language": "python",
   "name": "python3"
  },
  "language_info": {
   "codemirror_mode": {
    "name": "ipython",
    "version": 3
   },
   "file_extension": ".py",
   "mimetype": "text/x-python",
   "name": "python",
   "nbconvert_exporter": "python",
   "pygments_lexer": "ipython3",
   "version": "3.10.0"
  }
 },
 "nbformat": 4,
 "nbformat_minor": 5
}
