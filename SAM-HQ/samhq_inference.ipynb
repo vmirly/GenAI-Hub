{
 "cells": [
  {
   "cell_type": "markdown",
   "id": "43755bcb",
   "metadata": {},
   "source": [
    "SAM-HQ\n",
    "====\n",
    "\n",
    "**Segment Anything in High Quality**\n",
    "(aka HQ-SAM)\n",
    "\n",
    " * Paper: https://arxiv.org/abs/2306.01567\n",
    "\n",
    "![SAM-HQ Model Architrcture](../assets/samhq_arch.jpg)"
   ]
  },
  {
   "cell_type": "markdown",
   "id": "9c2a9254",
   "metadata": {},
   "source": [
    " * Installation\n",
    "\n",
    "```bash\n",
    "conda create -n samhq python=3.12 -y\n",
    "pip install torch torchvision\n",
    "pip install segment-anything-hq\n",
    "pip install timm huggingface-hub matplotlib\n",
    "```"
   ]
  },
  {
   "cell_type": "markdown",
   "id": "ff21fe5d",
   "metadata": {},
   "source": [
    " * Download model\n",
    "\n",
    "```bash\n",
    "from huggingface_hub import hf_hub_download\n",
    "\n",
    "# Repository and filename\n",
    "repo_id = \"lkeab/hq-sam\"\n",
    "filename = \"sam_hq_vit_b.pth\"\n",
    "\n",
    "# Download the file\n",
    "model_path = hf_hub_download(\n",
    "    repo_id=repo_id,\n",
    "    filename=filename,\n",
    "    local_dir=\"checkpoints\",\n",
    "    local_dir_use_symlinks=False\n",
    ")\n",
    "\n",
    "print(f\"Model downloaded to: {model_path}\")\n",
    "```"
   ]
  },
  {
   "cell_type": "markdown",
   "id": "756b71f6",
   "metadata": {},
   "source": []
  }
 ],
 "metadata": {
  "language_info": {
   "name": "python"
  }
 },
 "nbformat": 4,
 "nbformat_minor": 5
}
