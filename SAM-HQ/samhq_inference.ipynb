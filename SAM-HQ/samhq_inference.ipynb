{
 "cells": [
  {
   "cell_type": "markdown",
   "id": "43755bcb",
   "metadata": {},
   "source": [
    "SAM-HQ\n",
    "====\n",
    "\n",
    "**Segment Anything in High Quality**\n",
    "(aka HQ-SAM)\n",
    "\n",
    " * Paper: https://arxiv.org/abs/2306.01567\n",
    "\n",
    "![SAM-HQ Model Architrcture](../assets/samhq_arch.jpg)"
   ]
  },
  {
   "cell_type": "markdown",
   "id": "9c2a9254",
   "metadata": {},
   "source": [
    " * Installation\n",
    "\n",
    "```bash\n",
    "conda create -n samhq python=3.12 -y\n",
    "pip install torch torchvision\n",
    "pip install segment-anything-hq\n",
    "pip install timm huggingface-hub matplotlib\n",
    "```"
   ]
  },
  {
   "cell_type": "markdown",
   "id": "ff21fe5d",
   "metadata": {},
   "source": [
    " * Download model\n",
    "\n",
    "```bash\n",
    "from huggingface_hub import hf_hub_download\n",
    "\n",
    "# Repository and filename\n",
    "repo_id = \"lkeab/hq-sam\"\n",
    "filename = \"sam_hq_vit_b.pth\"\n",
    "\n",
    "# Download the file\n",
    "model_path = hf_hub_download(\n",
    "    repo_id=repo_id,\n",
    "    filename=filename,\n",
    "    local_dir=\"checkpoints\",\n",
    "    local_dir_use_symlinks=False\n",
    ")\n",
    "\n",
    "print(f\"Model downloaded to: {model_path}\")\n",
    "```"
   ]
  },
  {
   "cell_type": "code",
   "execution_count": 1,
   "id": "e4b17547",
   "metadata": {},
   "outputs": [
    {
     "name": "stderr",
     "output_type": "stream",
     "text": [
      "/home/pyml/anaconda3/envs/samhq/lib/python3.12/site-packages/tqdm/auto.py:21: TqdmWarning: IProgress not found. Please update jupyter and ipywidgets. See https://ipywidgets.readthedocs.io/en/stable/user_install.html\n",
      "  from .autonotebook import tqdm as notebook_tqdm\n",
      "/home/pyml/anaconda3/envs/samhq/lib/python3.12/site-packages/timm/models/layers/__init__.py:48: FutureWarning: Importing from timm.models.layers is deprecated, please import via timm.layers\n",
      "  warnings.warn(f\"Importing from {__name__} is deprecated, please import via timm.layers\", FutureWarning)\n",
      "/home/pyml/anaconda3/envs/samhq/lib/python3.12/site-packages/timm/models/registry.py:4: FutureWarning: Importing from timm.models.registry is deprecated, please import via timm.models\n",
      "  warnings.warn(f\"Importing from {__name__} is deprecated, please import via timm.models\", FutureWarning)\n",
      "/home/pyml/anaconda3/envs/samhq/lib/python3.12/site-packages/segment_anything_hq/modeling/tiny_vit_sam.py:662: UserWarning: Overwriting tiny_vit_5m_224 in registry with segment_anything_hq.modeling.tiny_vit_sam.tiny_vit_5m_224. This is because the name being registered conflicts with an existing name. Please check if this is not expected.\n",
      "  return register_model(fn_wrapper)\n",
      "/home/pyml/anaconda3/envs/samhq/lib/python3.12/site-packages/segment_anything_hq/modeling/tiny_vit_sam.py:662: UserWarning: Overwriting tiny_vit_11m_224 in registry with segment_anything_hq.modeling.tiny_vit_sam.tiny_vit_11m_224. This is because the name being registered conflicts with an existing name. Please check if this is not expected.\n",
      "  return register_model(fn_wrapper)\n",
      "/home/pyml/anaconda3/envs/samhq/lib/python3.12/site-packages/segment_anything_hq/modeling/tiny_vit_sam.py:662: UserWarning: Overwriting tiny_vit_21m_224 in registry with segment_anything_hq.modeling.tiny_vit_sam.tiny_vit_21m_224. This is because the name being registered conflicts with an existing name. Please check if this is not expected.\n",
      "  return register_model(fn_wrapper)\n",
      "/home/pyml/anaconda3/envs/samhq/lib/python3.12/site-packages/segment_anything_hq/modeling/tiny_vit_sam.py:662: UserWarning: Overwriting tiny_vit_21m_384 in registry with segment_anything_hq.modeling.tiny_vit_sam.tiny_vit_21m_384. This is because the name being registered conflicts with an existing name. Please check if this is not expected.\n",
      "  return register_model(fn_wrapper)\n",
      "/home/pyml/anaconda3/envs/samhq/lib/python3.12/site-packages/segment_anything_hq/modeling/tiny_vit_sam.py:662: UserWarning: Overwriting tiny_vit_21m_512 in registry with segment_anything_hq.modeling.tiny_vit_sam.tiny_vit_21m_512. This is because the name being registered conflicts with an existing name. Please check if this is not expected.\n",
      "  return register_model(fn_wrapper)\n"
     ]
    },
    {
     "name": "stdout",
     "output_type": "stream",
     "text": [
      "<All keys matched successfully>\n"
     ]
    }
   ],
   "source": [
    "from PIL import Image\n",
    "import numpy as np\n",
    "import matplotlib.pyplot as plt\n",
    "import torch\n",
    "from segment_anything_hq import (\n",
    "    sam_model_registry,\n",
    "    SamPredictor\n",
    ")\n",
    "\n",
    "device = torch.device(\"cuda\" if torch.cuda.is_available() else \"cpu\")\n",
    "model_type = \"vit_b\"\n",
    "checkpoint_path = \"checkpoints/sam_hq_vit_b.pth\"\n",
    "\n",
    "sam = sam_model_registry[model_type](checkpoint=checkpoint_path)\n",
    "sam.to(device=device)\n",
    "\n",
    "predictor = SamPredictor(sam)\n",
    "predictor.model.eval();"
   ]
  },
  {
   "cell_type": "code",
   "execution_count": null,
   "id": "cd74fdcd",
   "metadata": {},
   "outputs": [],
   "source": []
  }
 ],
 "metadata": {
  "kernelspec": {
   "display_name": "samhq",
   "language": "python",
   "name": "python3"
  },
  "language_info": {
   "codemirror_mode": {
    "name": "ipython",
    "version": 3
   },
   "file_extension": ".py",
   "mimetype": "text/x-python",
   "name": "python",
   "nbconvert_exporter": "python",
   "pygments_lexer": "ipython3",
   "version": "3.12.11"
  }
 },
 "nbformat": 4,
 "nbformat_minor": 5
}
