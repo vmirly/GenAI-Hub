{
 "cells": [
  {
   "cell_type": "markdown",
   "id": "43755bcb",
   "metadata": {},
   "source": [
    "SAM-HQ\n",
    "====\n",
    "\n",
    "**Segment Anything in High Quality**\n",
    "(aka HQ-SAM)\n",
    "\n",
    " * Paper: https://arxiv.org/abs/2306.01567\n",
    "\n",
    "![SAM-HQ Model Architrcture](../assets/samhq_arch.jpg)"
   ]
  },
  {
   "cell_type": "markdown",
   "id": "ff21fe5d",
   "metadata": {},
   "source": []
  }
 ],
 "metadata": {
  "language_info": {
   "name": "python"
  }
 },
 "nbformat": 4,
 "nbformat_minor": 5
}
