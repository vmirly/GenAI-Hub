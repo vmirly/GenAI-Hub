{
 "cells": [
  {
   "cell_type": "markdown",
   "id": "9b9fa18b",
   "metadata": {},
   "source": [
    "GLIP\n",
    "=====\n",
    "\n",
    "**Grounded Language-Image Pre-training**\n",
    "\n",
    " * Paper: https://arxiv.org/abs/2112.03857\n",
    "\n",
    "![GLIP Overview](../assets/glip_overview.jpg)"
   ]
  },
  {
   "cell_type": "markdown",
   "id": "451750e8",
   "metadata": {},
   "source": [
    "## Using Docker image\n",
    "\n",
    "```bash\n",
    "# 1) Pull the GLIP docker image (CUDA 10.2 with PyTorch 1.9)\n",
    "sudo docker pull pengchuanzhang/maskrcnn:ubuntu18-py3.7-cuda10.2-pytorch1.9\n",
    "\n",
    "# 2) Clone GLIP and create a directory for models on your host\n",
    "git clone https://github.com/microsoft/GLIP.git GLIP_repo\n",
    "cd GLIP_repo\n",
    "mkdir MODEL\n",
    "\n",
    "# 3) Download the backbone weights (see section 2 below) into the MODEL folder\n",
    "\n",
    "# 4) Run the container and mount the repo\n",
    "sudo docker run --gpus all -it --rm \\\n",
    "  -v $(pwd):/workspace/GLIP_repo \\\n",
    "  pengchuanzhang/maskrcnn:ubuntu18-py3.7-cuda10.2-pytorch1.9 bash\n",
    "\n",
    "```"
   ]
  },
  {
   "cell_type": "markdown",
   "id": "3129683f",
   "metadata": {},
   "source": [
    "```bash\n",
    "cd /workspace/GLIP_repo\n",
    "# Install the Python dependencies\n",
    "pip install einops shapely timm yacs tensorboardX ftfy prettytable pymongo\n",
    "pip install transformers\n",
    "# Build maskrcnn_benchmark\n",
    "python setup.py build develop --user\n",
    "\n",
    "# Now you can run GLIP’s demo.  For example, to run the zero‑shot detector on an image:\n",
    "python -m torch.distributed.launch --nproc_per_node=1 tools/test_grounding_net.py \\\n",
    "  --config-file configs/pretrain/glip_Swin_T_O365_GoldG.yaml \\\n",
    "  --weight MODEL/glip_tiny_model_o365_goldg.pth \\\n",
    "  TEST.IMS_PER_BATCH 1 \\\n",
    "  MODEL.DYHEAD.SCORE_AGG \"MEAN\" \\\n",
    "  TEST.EVAL_TASK detection \\\n",
    "  MODEL.DYHEAD.FUSE_CONFIG.MLM_LOSS False \\\n",
    "  OUTPUT_DIR outputs/demo\n",
    "\n",
    "```"
   ]
  },
  {
   "cell_type": "markdown",
   "id": "20411c42",
   "metadata": {},
   "source": [
    " * Downloading the missing Swin weights\n",
    "\n",
    " ```bash\n",
    " # Download Swin‑Tiny weights (ImageNet‑1K)\n",
    "wget https://github.com/SwinTransformer/storage/releases/download/v1.0.0/swin_tiny_patch4_window7_224.pth -P MODEL\n",
    "\n",
    "# Download Swin‑Large weights (ImageNet‑22K, 384×384)\n",
    "wget https://github.com/SwinTransformer/storage/releases/download/v1.0.0/swin_large_patch4_window12_384_22k.pth -P MODEL\n",
    "```"
   ]
  },
  {
   "cell_type": "markdown",
   "id": "e88dec1a",
   "metadata": {},
   "source": [
    "## Alternative: build outside Docker\n",
    "\n",
    "```bash\n",
    "conda create -n glip python=3.7 -y\n",
    "conda activate glip\n",
    "conda install pytorch==1.9.0 torchvision==0.10.0 cudatoolkit=11.1 -c pytorch -c nvidia -y\n",
    "pip install einops shapely timm yacs tensorboardX ftfy prettytable pymongo transformers\n",
    "# Clone and build GLIP\n",
    "git clone https://github.com/microsoft/GLIP.git\n",
    "cd GLIP\n",
    "python setup.py build develop\n",
    "```"
   ]
  },
  {
   "cell_type": "markdown",
   "id": "baec2568",
   "metadata": {},
   "source": [
    "## Download model\n",
    "\n",
    "```python\n",
    "import os\n",
    "from huggingface_hub import hf_hub_download\n",
    "\n",
    "os.makedirs(\"MODEL\", exist_ok=True)\n",
    "\n",
    "repo_id = \"GLIPModel/GLIP\"\n",
    "filename = \"glip_tiny_model_o365.pth\"\n",
    "\n",
    "# Download\n",
    "model_path = hf_hub_download(\n",
    "    repo_id=repo_id,\n",
    "    filename=filename,\n",
    "    cache_dir=\"GLIP_repo/MODEL\",\n",
    "    repo_type=\"model\"  # ensures downloading from model repo\n",
    ")\n",
    "print(f\"Downloaded {filename} → {model_path}\")\n",
    "\n",
    "```"
   ]
  },
  {
   "cell_type": "markdown",
   "id": "6aef9638",
   "metadata": {},
   "source": []
  }
 ],
 "metadata": {
  "language_info": {
   "name": "python"
  }
 },
 "nbformat": 4,
 "nbformat_minor": 5
}
