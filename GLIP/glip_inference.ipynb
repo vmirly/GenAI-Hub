{
 "cells": [
  {
   "cell_type": "markdown",
   "id": "9b9fa18b",
   "metadata": {},
   "source": [
    "GLIP\n",
    "=====\n",
    "\n",
    "**Grounded Language-Image Pre-training**\n",
    "\n",
    " * Paper: https://arxiv.org/abs/2112.03857\n",
    "\n",
    "![GLIP Overview](../assets/glip_overview.jpg)"
   ]
  },
  {
   "cell_type": "markdown",
   "id": "451750e8",
   "metadata": {},
   "source": []
  }
 ],
 "metadata": {
  "language_info": {
   "name": "python"
  }
 },
 "nbformat": 4,
 "nbformat_minor": 5
}
