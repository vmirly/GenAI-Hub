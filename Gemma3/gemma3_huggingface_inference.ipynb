{
 "cells": [
  {
   "cell_type": "markdown",
   "metadata": {},
   "source": [
    "Gemma 3\n",
    "====\n",
    "\n",
    " * Gated model aggreement\n",
    "\n",
    "![Gated Model License](../assets/hf-gated-model-license.png)\n",
    "\n",
    "```bash\n",
    "pip install --upgrade transformers  # required\n",
    "```"
   ]
  }
 ],
 "metadata": {
  "language_info": {
   "name": "python"
  }
 },
 "nbformat": 4,
 "nbformat_minor": 2
}
