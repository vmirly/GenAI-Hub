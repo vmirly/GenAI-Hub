{
 "cells": [
  {
   "cell_type": "markdown",
   "id": "0042d2d4",
   "metadata": {},
   "source": [
    "SmolVLM\n",
    "=====\n",
    "\n",
    " * Article: https://huggingface.co/blog/smolvlm\n",
    " * Paper: https://arxiv.org/pdf/2408.12637\n",
    "\n",
    "![SmolVLM / Idefics3 Architecture Overview](../assets/smolvlm_arch_overview.jpg)"
   ]
  }
 ],
 "metadata": {
  "kernelspec": {
   "display_name": "owlvit",
   "language": "python",
   "name": "python3"
  },
  "language_info": {
   "codemirror_mode": {
    "name": "ipython",
    "version": 3
   },
   "file_extension": ".py",
   "mimetype": "text/x-python",
   "name": "python",
   "nbconvert_exporter": "python",
   "pygments_lexer": "ipython3",
   "version": "3.11.13"
  }
 },
 "nbformat": 4,
 "nbformat_minor": 5
}
