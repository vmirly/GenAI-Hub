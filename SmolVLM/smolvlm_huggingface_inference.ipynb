{
 "cells": [
  {
   "cell_type": "markdown",
   "id": "0042d2d4",
   "metadata": {},
   "source": [
    "SmolVLM\n",
    "=====\n",
    "\n",
    " * Article: https://huggingface.co/blog/smolvlm\n",
    " * Paper: https://arxiv.org/pdf/2408.12637\n",
    "\n",
    "![SmolVLM / Idefics3 Architecture Overview](../assets/smolvlm_arch_overview.jpg)"
   ]
  },
  {
   "cell_type": "markdown",
   "id": "640f7f25",
   "metadata": {},
   "source": [
    "```bash\n",
    "pip install torch torchvision\n",
    "pip install transformers\n",
    "```"
   ]
  },
  {
   "cell_type": "code",
   "execution_count": null,
   "id": "af70a00f",
   "metadata": {},
   "outputs": [],
   "source": [
    "from PIL import Image\n",
    "from transformers.image_utils import load_image\n",
    "from transformers import AutoProcessor, AutoModelForVision2Seq\n",
    "import torch\n",
    "\n",
    "device = \"cuda\" if torch.cuda.is_available() else \"cpu\"\n",
    "\n",
    "processor = AutoProcessor.from_pretrained(\n",
    "    \"HuggingFaceTB/SmolVLM-Instruct\")\n",
    "model = AutoModelForVision2Seq.from_pretrained(\n",
    "    \"HuggingFaceTB/SmolVLM-Instruct\",\n",
    "    torch_dtype=torch.bfloat16,\n",
    "    #_attn_implementation=\"flash_attention_2\" if device == \"cuda\" else \"eager\"\n",
    ")\n",
    "\n",
    "model.eval().to(device);"
   ]
  }
 ],
 "metadata": {
  "kernelspec": {
   "display_name": "owlvit",
   "language": "python",
   "name": "python3"
  },
  "language_info": {
   "codemirror_mode": {
    "name": "ipython",
    "version": 3
   },
   "file_extension": ".py",
   "mimetype": "text/x-python",
   "name": "python",
   "nbconvert_exporter": "python",
   "pygments_lexer": "ipython3",
   "version": "3.11.13"
  }
 },
 "nbformat": 4,
 "nbformat_minor": 5
}
