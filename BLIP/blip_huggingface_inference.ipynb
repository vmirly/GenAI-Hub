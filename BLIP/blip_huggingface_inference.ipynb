{
 "cells": [
  {
   "cell_type": "markdown",
   "metadata": {},
   "source": [
    "BLIP\n",
    "====\n",
    "\n",
    "**BLIP: Bootstrapping Language-Image Pre-training for Unified Vision-Language Understanding and Generation**\n",
    "\n",
    "* Paper: https://arxiv.org/abs/2201.12086\n",
    "\n",
    "```bash\n",
    "pip install torch torchvision\n",
    "pip install transformers\n",
    "pip install matplotlib\n",
    "pip install supervision\n",
    "```"
   ]
  },
  {
   "cell_type": "markdown",
   "metadata": {},
   "source": [
    "### Models\n",
    "\n",
    " * `BlipForConditionalGeneration`\n",
    " * `BlipForQuestionAnswering`\n",
    " * `BlipForImageTextRetrieval`"
   ]
  },
  {
   "cell_type": "markdown",
   "metadata": {},
   "source": [
    "### Captioning"
   ]
  },
  {
   "cell_type": "code",
   "execution_count": 1,
   "metadata": {},
   "outputs": [
    {
     "name": "stderr",
     "output_type": "stream",
     "text": [
      "/home/pyml/anaconda3/envs/py311/lib/python3.11/site-packages/tqdm/auto.py:21: TqdmWarning: IProgress not found. Please update jupyter and ipywidgets. See https://ipywidgets.readthedocs.io/en/stable/user_install.html\n",
      "  from .autonotebook import tqdm as notebook_tqdm\n"
     ]
    }
   ],
   "source": [
    "from PIL import Image\n",
    "import torch\n",
    "from transformers import BlipProcessor\n",
    "from transformers import BlipForConditionalGeneration\n",
    "\n",
    "processor = BlipProcessor.from_pretrained(\n",
    "    \"Salesforce/blip-image-captioning-large\"\n",
    ")\n",
    "model = BlipForConditionalGeneration.from_pretrained(\n",
    "    \"Salesforce/blip-image-captioning-large\"\n",
    ")\n",
    "\n",
    "device = torch.device(\n",
    "    \"cuda\" if torch.cuda.is_available() else \"cpu\"\n",
    ")\n",
    "model = model.to(device)"
   ]
  },
  {
   "cell_type": "code",
   "execution_count": 2,
   "metadata": {},
   "outputs": [
    {
     "name": "stdout",
     "output_type": "stream",
     "text": [
      "tensor([[30522,  1037,  5855,  1997,  1037, 10165,  9083,  2114,  1037,  2630,\n",
      "          2341,   102]], device='cuda:0')\n",
      "a photography of a bicycle parked against a blue door\n"
     ]
    }
   ],
   "source": [
    "image_path = \"../samples/bicycle.jpg\"\n",
    "\n",
    "image = Image.open(image_path).convert(\"RGB\")\n",
    "image = image.resize((image.width // 4, image.height // 4))\n",
    "\n",
    "text = \"a photography of\"\n",
    "inputs = processor(image, text, return_tensors=\"pt\").to(device)\n",
    "\n",
    "with torch.no_grad():\n",
    "    outputs = model.generate(**inputs)\n",
    "print(outputs)\n",
    "\n",
    "caption = processor.decode(outputs[0], skip_special_tokens=True)\n",
    "print(caption)"
   ]
  }
 ],
 "metadata": {
  "kernelspec": {
   "display_name": "py311",
   "language": "python",
   "name": "python3"
  },
  "language_info": {
   "codemirror_mode": {
    "name": "ipython",
    "version": 3
   },
   "file_extension": ".py",
   "mimetype": "text/x-python",
   "name": "python",
   "nbconvert_exporter": "python",
   "pygments_lexer": "ipython3",
   "version": "3.11.11"
  }
 },
 "nbformat": 4,
 "nbformat_minor": 2
}
