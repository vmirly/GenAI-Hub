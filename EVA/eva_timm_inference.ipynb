{
 "cells": [
  {
   "cell_type": "markdown",
   "id": "cea47a55",
   "metadata": {},
   "source": [
    "EVA\n",
    "===\n",
    "\n",
    "**EVA: Exploring the Limits of Masked Visual Representation Learning at Scale**\n",
    "\n",
    " * Paper: https://arxiv.org/abs/2211.07636\n",
    "\n",
    "![EVA Overview](../assets/eva_overview.png)"
   ]
  },
  {
   "cell_type": "code",
   "execution_count": 1,
   "id": "c6168d8c",
   "metadata": {},
   "outputs": [],
   "source": [
    "from PIL import Image\n",
    "import timm\n",
    "import torch\n",
    "\n",
    "\n",
    "device = torch.device(\"cuda\" if torch.cuda.is_available() else \"cpu\")\n",
    "model = timm.create_model(\n",
    "    'eva_large_patch14_196.in22k_ft_in22k_in1k', pretrained=True\n",
    ")\n",
    "model.eval().to(device);\n",
    "\n",
    "# get model specific transforms (normalization, resize)\n",
    "data_config = timm.data.resolve_model_data_config(model)\n",
    "transforms = timm.data.create_transform(\n",
    "    **data_config, is_training=False\n",
    ")"
   ]
  },
  {
   "cell_type": "code",
   "execution_count": 3,
   "id": "f0c50432",
   "metadata": {},
   "outputs": [
    {
     "name": "stdout",
     "output_type": "stream",
     "text": [
      "tensor([[12.8416, 10.4233,  5.0744,  4.5568,  4.2718]], device='cuda:0')\n",
      "tensor([[665, 695, 444, 637, 671]], device='cuda:0')\n"
     ]
    }
   ],
   "source": [
    "image_path = \"../samples/bicycle.jpg\"\n",
    "\n",
    "img = Image.open(image_path).convert(\"RGB\")\n",
    "\n",
    "with torch.no_grad():\n",
    "    inputs = transforms(img).unsqueeze(0).to(device)\n",
    "    output = model(inputs)\n",
    "\n",
    "top5_logits, top5_class_ids = torch.topk(\n",
    "    output.softmax(dim=1) * 100, k=5\n",
    ")\n",
    "print(top5_logits)\n",
    "print(top5_class_ids)"
   ]
  },
  {
   "cell_type": "code",
   "execution_count": null,
   "id": "0b20e823",
   "metadata": {},
   "outputs": [],
   "source": []
  }
 ],
 "metadata": {
  "kernelspec": {
   "display_name": "py311",
   "language": "python",
   "name": "python3"
  },
  "language_info": {
   "codemirror_mode": {
    "name": "ipython",
    "version": 3
   },
   "file_extension": ".py",
   "mimetype": "text/x-python",
   "name": "python",
   "nbconvert_exporter": "python",
   "pygments_lexer": "ipython3",
   "version": "3.11.11"
  }
 },
 "nbformat": 4,
 "nbformat_minor": 5
}
