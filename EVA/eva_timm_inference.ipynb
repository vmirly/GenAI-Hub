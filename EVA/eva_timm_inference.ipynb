{
 "cells": [
  {
   "cell_type": "markdown",
   "id": "cea47a55",
   "metadata": {},
   "source": [
    "EVA\n",
    "===\n",
    "\n",
    "**EVA: Exploring the Limits of Masked Visual Representation Learning at Scale**\n",
    "\n",
    " * Paper: https://arxiv.org/abs/2211.07636\n",
    "\n",
    "![EVA Overview](../assets/eva_overview.png)"
   ]
  },
  {
   "cell_type": "markdown",
   "id": "136869ac",
   "metadata": {},
   "source": []
  }
 ],
 "metadata": {
  "language_info": {
   "name": "python"
  }
 },
 "nbformat": 4,
 "nbformat_minor": 5
}
