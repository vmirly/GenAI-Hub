{
 "cells": [
  {
   "cell_type": "markdown",
   "id": "45340c57",
   "metadata": {},
   "source": [
    "UperNet\n",
    "===\n",
    "\n",
    "**Unified Perceptual Parsing for Scene Understanding**\n",
    "\n",
    " * Paper: https://arxiv.org/abs/1807.10221\n",
    "\n",
    "![UperNet Overview](../assets/upernet_overview.png)"
   ]
  },
  {
   "cell_type": "markdown",
   "id": "a8712573",
   "metadata": {},
   "source": []
  }
 ],
 "metadata": {
  "language_info": {
   "name": "python"
  }
 },
 "nbformat": 4,
 "nbformat_minor": 5
}
