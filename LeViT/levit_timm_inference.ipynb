{
 "cells": [
  {
   "cell_type": "markdown",
   "id": "5ab7b73c",
   "metadata": {},
   "source": [
    "LeViT\n",
    "====\n",
    "\n",
    "**LeViT: a Vision Transformer in ConvNet's Clothing for Faster Inference**\n",
    " * Paper: https://arxiv.org/abs/2104.01136\n",
    "\n",
    "![LeViT Architecture](../assets/levit_architecture.png)"
   ]
  },
  {
   "cell_type": "markdown",
   "id": "5ac974ce",
   "metadata": {},
   "source": []
  }
 ],
 "metadata": {
  "language_info": {
   "name": "python"
  }
 },
 "nbformat": 4,
 "nbformat_minor": 5
}
