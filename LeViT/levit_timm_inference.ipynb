{
 "cells": [
  {
   "cell_type": "markdown",
   "id": "5ab7b73c",
   "metadata": {},
   "source": [
    "LeViT\n",
    "====\n",
    "\n",
    "**LeViT: a Vision Transformer in ConvNet's Clothing for Faster Inference**\n",
    " * Paper: https://arxiv.org/abs/2104.01136\n",
    "\n",
    "![LeViT Architecture](../assets/levit_architecture.png)"
   ]
  },
  {
   "cell_type": "code",
   "execution_count": 3,
   "id": "fc1abe87",
   "metadata": {},
   "outputs": [],
   "source": [
    "from PIL import Image\n",
    "import timm\n",
    "import torch\n",
    "\n",
    "\n",
    "device = torch.device(\"cuda\" if torch.cuda.is_available() else \"cpu\")\n",
    "model = timm.create_model(\n",
    "    'levit_128.fb_dist_in1k', pretrained=True\n",
    ")\n",
    "model.eval().to(device);\n",
    "\n",
    "# get model specific transforms (normalization, resize)\n",
    "data_config = timm.data.resolve_model_data_config(model)\n",
    "transforms = timm.data.create_transform(\n",
    "    **data_config, is_training=False\n",
    ")"
   ]
  },
  {
   "cell_type": "code",
   "execution_count": 5,
   "id": "a0f1098b",
   "metadata": {},
   "outputs": [
    {
     "name": "stdout",
     "output_type": "stream",
     "text": [
      "Class: 738, Probability: 62.17%\n",
      "Class: 883, Probability: 27.89%\n",
      "Class: 725, Probability: 0.65%\n",
      "Class: 503, Probability: 0.47%\n",
      "Class: 773, Probability: 0.46%\n"
     ]
    }
   ],
   "source": [
    "image_path = \"../samples/plants.jpg\"\n",
    "img = Image.open(image_path).convert(\"RGB\")\n",
    "\n",
    "output = model(transforms(img).unsqueeze(0).to(device))\n",
    "\n",
    "top5_probabilities, top5_class_indices = torch.topk(output.softmax(dim=1) * 100, k=5)\n",
    "\n",
    "for i in range(5):\n",
    "    print(f\"Class: {top5_class_indices[0][i].item()}, Probability: {top5_probabilities[0][i].item():.2f}%\")\n"
   ]
  },
  {
   "cell_type": "code",
   "execution_count": null,
   "id": "c59afb02",
   "metadata": {},
   "outputs": [],
   "source": []
  }
 ],
 "metadata": {
  "kernelspec": {
   "display_name": "py311",
   "language": "python",
   "name": "python3"
  },
  "language_info": {
   "codemirror_mode": {
    "name": "ipython",
    "version": 3
   },
   "file_extension": ".py",
   "mimetype": "text/x-python",
   "name": "python",
   "nbconvert_exporter": "python",
   "pygments_lexer": "ipython3",
   "version": "3.10.16"
  }
 },
 "nbformat": 4,
 "nbformat_minor": 5
}
