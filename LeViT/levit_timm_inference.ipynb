{
 "cells": [
  {
   "cell_type": "markdown",
   "id": "5ab7b73c",
   "metadata": {},
   "source": [
    "LeViT\n",
    "====\n",
    "\n",
    "**LeViT: a Vision Transformer in ConvNet's Clothing for Faster Inference**\n",
    " * Paper: https://arxiv.org/abs/2104.01136\n",
    "\n",
    "![LeViT Architecture](../assets/levit_architecture.png)"
   ]
  },
  {
   "cell_type": "code",
   "execution_count": 3,
   "id": "fc1abe87",
   "metadata": {},
   "outputs": [],
   "source": [
    "from PIL import Image\n",
    "import timm\n",
    "import torch\n",
    "\n",
    "\n",
    "device = torch.device(\"cuda\" if torch.cuda.is_available() else \"cpu\")\n",
    "model = timm.create_model(\n",
    "    'levit_128.fb_dist_in1k', pretrained=True\n",
    ")\n",
    "model.eval().to(device);\n",
    "\n",
    "# get model specific transforms (normalization, resize)\n",
    "data_config = timm.data.resolve_model_data_config(model)\n",
    "transforms = timm.data.create_transform(\n",
    "    **data_config, is_training=False\n",
    ")"
   ]
  },
  {
   "cell_type": "code",
   "execution_count": null,
   "id": "a0f1098b",
   "metadata": {},
   "outputs": [],
   "source": []
  }
 ],
 "metadata": {
  "kernelspec": {
   "display_name": "py311",
   "language": "python",
   "name": "python3"
  },
  "language_info": {
   "codemirror_mode": {
    "name": "ipython",
    "version": 3
   },
   "file_extension": ".py",
   "mimetype": "text/x-python",
   "name": "python",
   "nbconvert_exporter": "python",
   "pygments_lexer": "ipython3",
   "version": "3.10.16"
  }
 },
 "nbformat": 4,
 "nbformat_minor": 5
}
