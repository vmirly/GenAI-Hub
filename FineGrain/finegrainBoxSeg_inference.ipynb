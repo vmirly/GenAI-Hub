{
 "cells": [
  {
   "cell_type": "markdown",
   "id": "a17fa9c8",
   "metadata": {},
   "source": [
    "FineGrain Box Segmenter\n",
    "====\n",
    "\n",
    "### Installation\n",
    "\n",
    "* Install `uv` \n",
    "```bash\n",
    "# On macOS and Linux.\n",
    "curl -LsSf https://astral.sh/uv/install.sh | sh\n",
    "``` \n",
    "   * Clone and install refiners\n",
    "\n",
    "```bash\n",
    "git clone https://github.com/finegrain-ai/refiners.git\n",
    "cd refiners\n",
    "uv sync --all-extras\n",
    "```\n",
    "\n",
    "  * Install jupyter kernel, matplolib\n",
    "```bash\n",
    "python -m venv .venv\n",
    "source .venv/bin/activate\n",
    "uv add ipykernel\n",
    "uv add matplotlib\n",
    "python -m ipykernel install --user --name refiners --display-name \"Python (refiners)\"\n",
    "```"
   ]
  },
  {
   "cell_type": "code",
   "execution_count": 1,
   "id": "00516131",
   "metadata": {},
   "outputs": [
    {
     "name": "stderr",
     "output_type": "stream",
     "text": [
      "/home/pyml/git_vmirly/GenAI-Hub/tmp/refiners/.venv/lib/python3.13/site-packages/tqdm/auto.py:21: TqdmWarning: IProgress not found. Please update jupyter and ipywidgets. See https://ipywidgets.readthedocs.io/en/stable/user_install.html\n",
      "  from .autonotebook import tqdm as notebook_tqdm\n"
     ]
    }
   ],
   "source": [
    "from PIL import Image\n",
    "import matplotlib.pyplot as plt\n",
    "from refiners.solutions import BoxSegmenter\n",
    "\n",
    "# Downloads the weights from finegrain/finegrain-box-segmenter\n",
    "segmenter = BoxSegmenter()"
   ]
  },
  {
   "cell_type": "code",
   "execution_count": null,
   "id": "c799e6ba",
   "metadata": {},
   "outputs": [],
   "source": []
  }
 ],
 "metadata": {
  "kernelspec": {
   "display_name": "Python (refiners)",
   "language": "python",
   "name": "refiners"
  },
  "language_info": {
   "codemirror_mode": {
    "name": "ipython",
    "version": 3
   },
   "file_extension": ".py",
   "mimetype": "text/x-python",
   "name": "python",
   "nbconvert_exporter": "python",
   "pygments_lexer": "ipython3",
   "version": "3.13.3"
  }
 },
 "nbformat": 4,
 "nbformat_minor": 5
}
