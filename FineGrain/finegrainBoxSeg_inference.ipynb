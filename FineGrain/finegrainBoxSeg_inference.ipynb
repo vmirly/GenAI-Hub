{
 "cells": [
  {
   "cell_type": "markdown",
   "id": "a17fa9c8",
   "metadata": {},
   "source": [
    "FineGrain Box Segmenter\n",
    "====\n",
    "\n",
    "### Installation\n",
    "\n",
    "* Install `uv` \n",
    "```bash\n",
    "# On macOS and Linux.\n",
    "curl -LsSf https://astral.sh/uv/install.sh | sh\n",
    "``` \n",
    "   * Clone and install refiners\n",
    "\n",
    "```bash\n",
    "git clone https://github.com/finegrain-ai/refiners.git\n",
    "cd refiners\n",
    "uv sync --all-extras\n",
    "```\n",
    "\n",
    "  * Install jupyter kernel, matplolib\n",
    "```bash\n",
    "python -m venv .venv\n",
    "source .venv/bin/activate\n",
    "uv add ipykernel\n",
    "uv add matplotlib\n",
    "python -m ipykernel install --user --name refiners --display-name \"Python (refiners)\"\n",
    "```"
   ]
  },
  {
   "cell_type": "markdown",
   "id": "a58d7bea",
   "metadata": {},
   "source": []
  }
 ],
 "metadata": {
  "language_info": {
   "name": "python"
  }
 },
 "nbformat": 4,
 "nbformat_minor": 5
}
