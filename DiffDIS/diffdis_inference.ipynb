{
 "cells": [
  {
   "cell_type": "markdown",
   "id": "f4d3651f",
   "metadata": {},
   "source": [
    "DiffDIS\n",
    "====\n",
    "\n",
    "**High-Precision Dichotomous Image Segmentation via Probing Diffusion Capacity**\n",
    "\n",
    " * Paper: https://arxiv.org/abs/2410.10105\n",
    "\n",
    "![DiffDIS Overview](../assets/diffdis_overview.png)\n"
   ]
  },
  {
   "cell_type": "markdown",
   "id": "dc1c1782",
   "metadata": {},
   "source": []
  }
 ],
 "metadata": {
  "language_info": {
   "name": "python"
  }
 },
 "nbformat": 4,
 "nbformat_minor": 5
}
