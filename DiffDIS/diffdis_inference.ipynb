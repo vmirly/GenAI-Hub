{
 "cells": [
  {
   "cell_type": "markdown",
   "id": "f4d3651f",
   "metadata": {},
   "source": [
    "DiffDIS\n",
    "====\n",
    "\n",
    "**High-Precision Dichotomous Image Segmentation via Probing Diffusion Capacity**\n",
    "\n",
    " * Paper: https://arxiv.org/abs/2410.10105\n",
    "\n",
    "![DiffDIS Overview](../assets/diffdis_overview.png)\n"
   ]
  },
  {
   "cell_type": "markdown",
   "id": "dc1c1782",
   "metadata": {},
   "source": [
    "\n",
    "! Installation\n",
    "\n",
    "```bash\n",
    "git clone https://github.com/qianyu-dlut/DiffDIS.git\n",
    "cd DiffDIS\n",
    "\n",
    "pip install torch==2.2.0 torchvision==0.17.0 torchaudio==2.2.0 --index-url https://download.pytorch.org/whl/cu118\n",
    "pip install -r requirements.txt\n",
    "pip install -e diffusers-0.30.2/\n",
    "```"
   ]
  },
  {
   "cell_type": "markdown",
   "id": "5b3c15db",
   "metadata": {},
   "source": []
  }
 ],
 "metadata": {
  "language_info": {
   "name": "python"
  }
 },
 "nbformat": 4,
 "nbformat_minor": 5
}
