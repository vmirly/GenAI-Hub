{
 "cells": [
  {
   "cell_type": "markdown",
   "id": "30668b86",
   "metadata": {},
   "source": [
    "Janus\n",
    "===\n",
    "\n",
    "**Janus: Decoupling Visual Encoding for Unified Multimodal Understanding and Generation**\n",
    "\n",
    " * Paper: https://arxiv.org/abs/2410.13848\n",
    "\n",
    "![Janus Architecture](../assets/janus_arch.jpg)"
   ]
  },
  {
   "cell_type": "markdown",
   "id": "ddfb6990",
   "metadata": {},
   "source": [
    "![Janus Training Stages](../assets/janus_training_stages.jpg)"
   ]
  },
  {
   "cell_type": "markdown",
   "id": "3e6ec8bb",
   "metadata": {},
   "source": [
    " * Installation\n",
    "```bash\n",
    "pip install torch torchvision\n",
    "pip install transformers\n",
    "```"
   ]
  },
  {
   "cell_type": "code",
   "execution_count": 1,
   "id": "05f5f783",
   "metadata": {},
   "outputs": [
    {
     "name": "stderr",
     "output_type": "stream",
     "text": [
      "/home/pyml/anaconda3/envs/janus/lib/python3.10/site-packages/tqdm/auto.py:21: TqdmWarning: IProgress not found. Please update jupyter and ipywidgets. See https://ipywidgets.readthedocs.io/en/stable/user_install.html\n",
      "  from .autonotebook import tqdm as notebook_tqdm\n"
     ]
    }
   ],
   "source": [
    "from PIL import Image  \n",
    "import torch  \n",
    "  \n",
    "from transformers import JanusForConditionalGeneration, JanusProcessor  \n",
    "\n",
    "device = torch.device(\"cuda\" if torch.cuda.is_available() else \"cpu\")\n"
   ]
  },
  {
   "cell_type": "code",
   "execution_count": 2,
   "id": "e8a90322",
   "metadata": {},
   "outputs": [],
   "source": [
    "model_id = \"deepseek-community/Janus-Pro-1B\"\n",
    "\n",
    "# Set generation mode to `text` to perform text generation.\n",
    "processor = JanusProcessor.from_pretrained(model_id)\n",
    "model = JanusForConditionalGeneration.from_pretrained(\n",
    "    model_id,     \n",
    "    torch_dtype=torch.bfloat16,\n",
    "    device_map=\"auto\"\n",
    ")\n",
    "\n",
    "model.eval().to(device);"
   ]
  },
  {
   "cell_type": "code",
   "execution_count": null,
   "id": "385604c2",
   "metadata": {},
   "outputs": [],
   "source": []
  }
 ],
 "metadata": {
  "kernelspec": {
   "display_name": "janus",
   "language": "python",
   "name": "python3"
  },
  "language_info": {
   "codemirror_mode": {
    "name": "ipython",
    "version": 3
   },
   "file_extension": ".py",
   "mimetype": "text/x-python",
   "name": "python",
   "nbconvert_exporter": "python",
   "pygments_lexer": "ipython3",
   "version": "3.10.18"
  }
 },
 "nbformat": 4,
 "nbformat_minor": 5
}
