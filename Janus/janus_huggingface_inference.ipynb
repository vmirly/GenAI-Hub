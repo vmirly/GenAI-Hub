{
 "cells": [
  {
   "cell_type": "markdown",
   "id": "30668b86",
   "metadata": {},
   "source": [
    "Janus\n",
    "===\n",
    "\n",
    "**Janus: Decoupling Visual Encoding for Unified Multimodal Understanding and Generation**\n",
    "\n",
    " * Paper: https://arxiv.org/abs/2410.13848"
   ]
  },
  {
   "cell_type": "markdown",
   "id": "ddfb6990",
   "metadata": {},
   "source": []
  }
 ],
 "metadata": {
  "language_info": {
   "name": "python"
  }
 },
 "nbformat": 4,
 "nbformat_minor": 5
}
