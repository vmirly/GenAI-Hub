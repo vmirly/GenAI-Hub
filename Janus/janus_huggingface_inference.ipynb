{
 "cells": [
  {
   "cell_type": "markdown",
   "id": "30668b86",
   "metadata": {},
   "source": [
    "Janus\n",
    "===\n",
    "\n",
    "**Janus: Decoupling Visual Encoding for Unified Multimodal Understanding and Generation**\n",
    "\n",
    " * Paper: https://arxiv.org/abs/2410.13848\n",
    "\n",
    "![Janus Architecture](../assets/janus_arch.jpg)"
   ]
  },
  {
   "cell_type": "markdown",
   "id": "ddfb6990",
   "metadata": {},
   "source": [
    "![Janus Training Stages](../assets/janus_training_stages.jpg)"
   ]
  },
  {
   "cell_type": "markdown",
   "id": "3e6ec8bb",
   "metadata": {},
   "source": [
    " * Installation\n",
    "```bash\n",
    "pip install torch torchvision\n",
    "pip install transformers\n",
    "```"
   ]
  },
  {
   "cell_type": "code",
   "execution_count": 4,
   "id": "05f5f783",
   "metadata": {},
   "outputs": [],
   "source": [
    "from PIL import Image\n",
    "import torch\n",
    "import textwrap\n",
    "  \n",
    "from transformers import (\n",
    "    JanusForConditionalGeneration,\n",
    "    JanusProcessor\n",
    ")\n",
    "\n",
    "device = torch.device(\"cuda\" if torch.cuda.is_available() else \"cpu\")\n"
   ]
  },
  {
   "cell_type": "code",
   "execution_count": 2,
   "id": "e8a90322",
   "metadata": {},
   "outputs": [],
   "source": [
    "model_id = \"deepseek-community/Janus-Pro-1B\"\n",
    "\n",
    "# Set generation mode to `text` to perform text generation.\n",
    "processor = JanusProcessor.from_pretrained(model_id)\n",
    "model = JanusForConditionalGeneration.from_pretrained(\n",
    "    model_id,     \n",
    "    torch_dtype=torch.bfloat16,\n",
    "    device_map=\"auto\"\n",
    ")\n",
    "\n",
    "model.eval().to(device);"
   ]
  },
  {
   "cell_type": "code",
   "execution_count": 5,
   "id": "385604c2",
   "metadata": {},
   "outputs": [
    {
     "name": "stdout",
     "output_type": "stream",
     "text": [
      "You are a helpful language and vision assistant. You are able to understand the\n",
      "visual content that the user provides, and assist the user with a variety of\n",
      "tasks using natural language.  :  What do you see in this image?  :In this\n",
      "image, I see two decorative flower pots. One pot is taller and has a large plant\n",
      "in it, while the other pot is shorter and has a smaller plant. Both pots are\n",
      "placed on\n"
     ]
    }
   ],
   "source": [
    "image_path = \"../samples/plants.jpg\"\n",
    "# Prepare Input for generation.\n",
    "messages = [\n",
    "    {\n",
    "        \"role\": \"user\",\n",
    "        \"content\": [\n",
    "            #{'type':'image', 'url': 'http://images.cocodataset.org/val2017/000000039769.jpg'},\n",
    "            {'type':'image', 'image': image_path},\n",
    "            {'type':\"text\", \"text\": \"What do you see in this image?\"}\n",
    "        ]\n",
    "    },\n",
    "]\n",
    "\n",
    "inputs = processor.apply_chat_template(\n",
    "    messages,\n",
    "    add_generation_prompt=True,\n",
    "    generation_mode=\"text\",\n",
    "    tokenize=True,\n",
    "    return_dict=True,\n",
    "    return_tensors=\"pt\",\n",
    ").to(model.device, dtype=torch.bfloat16)\n",
    "\n",
    "output = model.generate(**inputs, max_new_tokens=40,generation_mode='text',do_sample=True)\n",
    "text = processor.decode(output[0], skip_special_tokens=True)\n",
    "print(textwrap.fill(text, 80))"
   ]
  },
  {
   "cell_type": "code",
   "execution_count": null,
   "id": "a3a2066c",
   "metadata": {},
   "outputs": [],
   "source": []
  }
 ],
 "metadata": {
  "kernelspec": {
   "display_name": "janus",
   "language": "python",
   "name": "python3"
  },
  "language_info": {
   "codemirror_mode": {
    "name": "ipython",
    "version": 3
   },
   "file_extension": ".py",
   "mimetype": "text/x-python",
   "name": "python",
   "nbconvert_exporter": "python",
   "pygments_lexer": "ipython3",
   "version": "3.10.18"
  }
 },
 "nbformat": 4,
 "nbformat_minor": 5
}
