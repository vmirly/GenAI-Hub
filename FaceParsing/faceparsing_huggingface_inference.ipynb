{
 "cells": [
  {
   "cell_type": "markdown",
   "id": "169909ee",
   "metadata": {},
   "source": [
    "FaceParsing\n",
    "====\n",
    "\n",
    "```bash\n",
    "pip install torch torchvision\n",
    "pip install transformers\n",
    "```"
   ]
  },
  {
   "cell_type": "code",
   "execution_count": 2,
   "id": "520cc587",
   "metadata": {},
   "outputs": [],
   "source": [
    "from PIL import Image\n",
    "import matplotlib.pyplot as plt\n",
    "import torch\n",
    "from torch import nn\n",
    "from transformers import (\n",
    "    SegformerImageProcessor,\n",
    "    SegformerForSemanticSegmentation\n",
    ")\n",
    "\n",
    "device = (\"cuda\" if torch.cuda.is_available() else \"cpu\")\n",
    "\n",
    "# load models\n",
    "image_processor = SegformerImageProcessor.from_pretrained(\n",
    "    \"jonathandinu/face-parsing\"\n",
    ")\n",
    "model = SegformerForSemanticSegmentation.from_pretrained(\n",
    "    \"jonathandinu/face-parsing\"\n",
    ")\n",
    "model.eval().to(device);"
   ]
  },
  {
   "cell_type": "code",
   "execution_count": null,
   "id": "44285dc5",
   "metadata": {},
   "outputs": [],
   "source": []
  }
 ],
 "metadata": {
  "kernelspec": {
   "display_name": "py311",
   "language": "python",
   "name": "python3"
  },
  "language_info": {
   "codemirror_mode": {
    "name": "ipython",
    "version": 3
   },
   "file_extension": ".py",
   "mimetype": "text/x-python",
   "name": "python",
   "nbconvert_exporter": "python",
   "pygments_lexer": "ipython3",
   "version": "3.10.16"
  }
 },
 "nbformat": 4,
 "nbformat_minor": 5
}
