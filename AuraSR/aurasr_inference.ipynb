{
 "cells": [
  {
   "cell_type": "markdown",
   "id": "bc1e3eef",
   "metadata": {},
   "source": [
    "Aura-SR\n",
    "====\n",
    "\n",
    "Based on the paper: **Scaling up GANs for Text-to-Image Synthesis**\n",
    "\n",
    "https://arxiv.org/abs/2303.05511\n",
    "\n",
    "![GigaGAN](../assets/gigagan_overview.png)\n",
    "\n",
    "```bash\n",
    "pip install torch torchvision\n",
    "pip install transformers\n",
    "pip install aura-sr\n",
    "```"
   ]
  },
  {
   "cell_type": "code",
   "execution_count": 2,
   "id": "d0c681fe",
   "metadata": {},
   "outputs": [
    {
     "name": "stderr",
     "output_type": "stream",
     "text": [
      "Fetching 6 files: 100%|██████████| 6/6 [00:00<00:00, 88301.14it/s]\n"
     ]
    }
   ],
   "source": [
    "from PIL import Image\n",
    "import matplotlib.pyplot as plt\n",
    "from aura_sr import AuraSR\n",
    "\n",
    "\n",
    "aura_sr = AuraSR.from_pretrained(\"fal/AuraSR-v2\")\n"
   ]
  },
  {
   "cell_type": "code",
   "execution_count": 19,
   "id": "77e82a45",
   "metadata": {},
   "outputs": [
    {
     "name": "stdout",
     "output_type": "stream",
     "text": [
      "Input image size (106, 113)\n",
      "Upscaled image size (424, 452)\n"
     ]
    }
   ],
   "source": [
    "image_path = \"../samples/plants.jpg\"\n",
    "image = Image.open(image_path).convert(\"RGB\")\n",
    "\n",
    "\n",
    "# downscale the image\n",
    "downscaled_image = image.resize(\n",
    "    (image.size[0] // 10, image.size[1] // 10), Image.LANCZOS\n",
    ")\n",
    "print(\"Input image size\", downscaled_image.size)\n",
    "\n",
    "# inference: upscaling the image\n",
    "upscaled_image = aura_sr.upscale_4x_overlapped(downscaled_image)\n",
    "print(\"Upscaled image size\", upscaled_image.size)"
   ]
  },
  {
   "cell_type": "code",
   "execution_count": null,
   "id": "9882824a",
   "metadata": {},
   "outputs": [],
   "source": []
  }
 ],
 "metadata": {
  "kernelspec": {
   "display_name": "py311",
   "language": "python",
   "name": "python3"
  },
  "language_info": {
   "codemirror_mode": {
    "name": "ipython",
    "version": 3
   },
   "file_extension": ".py",
   "mimetype": "text/x-python",
   "name": "python",
   "nbconvert_exporter": "python",
   "pygments_lexer": "ipython3",
   "version": "3.10.16"
  }
 },
 "nbformat": 4,
 "nbformat_minor": 5
}
