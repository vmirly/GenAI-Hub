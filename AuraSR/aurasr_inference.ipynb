{
 "cells": [
  {
   "cell_type": "markdown",
   "id": "bc1e3eef",
   "metadata": {},
   "source": [
    "Aura-SR\n",
    "====\n",
    "\n",
    "Based on the paper: **Scaling up GANs for Text-to-Image Synthesis**\n",
    "\n",
    "https://arxiv.org/abs/2303.05511\n",
    "\n",
    "![GigaGAN](../assets/gigagan_overview.png)\n",
    "\n",
    "```bash\n",
    "pip install torch torchvision\n",
    "pip install transformers\n",
    "pip install aura-sr\n",
    "```"
   ]
  }
 ],
 "metadata": {
  "kernelspec": {
   "display_name": "py311",
   "language": "python",
   "name": "python3"
  },
  "language_info": {
   "name": "python",
   "version": "3.11.11"
  }
 },
 "nbformat": 4,
 "nbformat_minor": 5
}
