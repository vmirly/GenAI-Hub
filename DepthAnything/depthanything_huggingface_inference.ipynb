{
 "cells": [
  {
   "cell_type": "markdown",
   "id": "3a068552",
   "metadata": {},
   "source": [
    "DepthAnything\n",
    "====\n",
    "\n",
    "**Depth Anything: Unleashing the Power of Large-Scale Unlabeled Data**\n",
    "\n",
    " * Paper: https://arxiv.org/abs/2401.10891\n",
    "\n",
    "![DepthAnything Mdoel](../assets/depthanything_overview.png)\n",
    "\n",
    "```bash\n",
    "pip install torch torchvision\n",
    "pip install transformers\n",
    "```"
   ]
  },
  {
   "cell_type": "code",
   "execution_count": null,
   "id": "f83b74e6",
   "metadata": {},
   "outputs": [],
   "source": []
  }
 ],
 "metadata": {
  "kernelspec": {
   "display_name": "py311",
   "language": "python",
   "name": "python3"
  },
  "language_info": {
   "codemirror_mode": {
    "name": "ipython",
    "version": 3
   },
   "file_extension": ".py",
   "mimetype": "text/x-python",
   "name": "python",
   "nbconvert_exporter": "python",
   "pygments_lexer": "ipython3",
   "version": "3.10.16"
  }
 },
 "nbformat": 4,
 "nbformat_minor": 5
}
