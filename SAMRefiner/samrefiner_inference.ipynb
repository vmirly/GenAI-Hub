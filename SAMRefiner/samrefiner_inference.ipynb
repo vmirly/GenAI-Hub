{
 "cells": [
  {
   "cell_type": "markdown",
   "id": "885fb869",
   "metadata": {},
   "source": [
    "SAMRefiner\n",
    "=====\n",
    "\n",
    "**SAMRefiner: Taming Segment Anything Model for Universal Mask Refinement**\n",
    "\n",
    " * Paper: https://arxiv.org/abs/2502.06756\n",
    "\n",
    "![SAMRefiner Overview](../assets/samrefiner_overview.jpg)"
   ]
  },
  {
   "cell_type": "markdown",
   "id": "15bb446e",
   "metadata": {},
   "source": []
  }
 ],
 "metadata": {
  "language_info": {
   "name": "python"
  }
 },
 "nbformat": 4,
 "nbformat_minor": 5
}
