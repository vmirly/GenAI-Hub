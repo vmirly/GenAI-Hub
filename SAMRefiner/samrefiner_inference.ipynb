{
 "cells": [
  {
   "cell_type": "markdown",
   "id": "885fb869",
   "metadata": {},
   "source": [
    "SAMRefiner\n",
    "=====\n",
    "\n",
    "**SAMRefiner: Taming Segment Anything Model for Universal Mask Refinement**\n",
    "\n",
    " * Paper: https://arxiv.org/abs/2502.06756\n",
    "\n",
    "![SAMRefiner Overview](../assets/samrefiner_overview.jpg)"
   ]
  },
  {
   "cell_type": "markdown",
   "id": "a2c9880d",
   "metadata": {},
   "source": [
    " * Installation\n",
    "\n",
    "```bash\n",
    "git clone https://github.com/linyq2117/SAMRefiner.git SAMRefiner_repo\n",
    "\n",
    "# create conda env\n",
    "conda create -n SAMRefiner python=3.8 -y\n",
    "conda activate SAMRefiner\n",
    "\n",
    "# install packages\n",
    "pip install torch==1.11.0+cu113 torchvision==0.12.0+cu113 --extra-index-url https://download.pytorch.org/whl/cu113\n",
    "pip install opencv-python tqdm matplotlib scipy\n",
    "pip install FastGeodis --no-build-isolation --no-cache-dir\n",
    "\n",
    "cd SAMRefiner_repo/segment-anything; pip install -e .; cd ../../\n",
    "```"
   ]
  },
  {
   "cell_type": "markdown",
   "id": "15bb446e",
   "metadata": {},
   "source": []
  }
 ],
 "metadata": {
  "language_info": {
   "name": "python"
  }
 },
 "nbformat": 4,
 "nbformat_minor": 5
}
