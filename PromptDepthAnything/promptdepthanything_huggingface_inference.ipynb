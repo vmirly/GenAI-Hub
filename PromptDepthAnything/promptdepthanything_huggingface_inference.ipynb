{
 "cells": [
  {
   "cell_type": "markdown",
   "id": "71ae2137",
   "metadata": {},
   "source": [
    "Prompt Depth Anything\n",
    "====\n",
    "\n",
    "**Prompting Depth Anything for 4K Resolution Accurate Metric Depth Estimation**\n",
    "\n",
    " * Paper: https://arxiv.org/abs/2412.14015\n",
    "\n",
    "![Prompt Depth Anything](../assets/promptdepthanything_overview.png)"
   ]
  },
  {
   "cell_type": "code",
   "execution_count": 1,
   "id": "e3973936",
   "metadata": {},
   "outputs": [
    {
     "name": "stderr",
     "output_type": "stream",
     "text": [
      "/home/pyml/anaconda3/envs/py311/lib/python3.10/site-packages/tqdm/auto.py:21: TqdmWarning: IProgress not found. Please update jupyter and ipywidgets. See https://ipywidgets.readthedocs.io/en/stable/user_install.html\n",
      "  from .autonotebook import tqdm as notebook_tqdm\n",
      "Using a slow image processor as `use_fast` is unset and a slow processor was saved with this model. `use_fast=True` will be the default behavior in v4.52, even if the model was saved with a slow processor. This will result in minor differences in outputs. You'll still be able to use a slow processor with `use_fast=False`.\n"
     ]
    }
   ],
   "source": [
    "import torch\n",
    "import numpy as np\n",
    "\n",
    "from PIL import Image\n",
    "from transformers import AutoImageProcessor, AutoModelForDepthEstimation\n",
    "\n",
    "device = torch.device(\"cuda\" if torch.cuda.is_available() else \"cpu\")\n",
    "image_processor = AutoImageProcessor.from_pretrained(\n",
    "    \"depth-anything/prompt-depth-anything-vits-hf\"\n",
    ")\n",
    "model = AutoModelForDepthEstimation.from_pretrained(\n",
    "    \"depth-anything/prompt-depth-anything-vits-hf\"\n",
    ").eval().to(device)\n"
   ]
  },
  {
   "cell_type": "code",
   "execution_count": null,
   "id": "7a852c68",
   "metadata": {},
   "outputs": [],
   "source": []
  }
 ],
 "metadata": {
  "kernelspec": {
   "display_name": "py311",
   "language": "python",
   "name": "python3"
  },
  "language_info": {
   "codemirror_mode": {
    "name": "ipython",
    "version": 3
   },
   "file_extension": ".py",
   "mimetype": "text/x-python",
   "name": "python",
   "nbconvert_exporter": "python",
   "pygments_lexer": "ipython3",
   "version": "3.10.16"
  }
 },
 "nbformat": 4,
 "nbformat_minor": 5
}
