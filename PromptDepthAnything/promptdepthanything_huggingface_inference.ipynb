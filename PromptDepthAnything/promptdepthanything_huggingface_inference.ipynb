{
 "cells": [
  {
   "cell_type": "markdown",
   "id": "71ae2137",
   "metadata": {},
   "source": [
    "Prompt Depth Anything\n",
    "====\n",
    "\n",
    "**Prompting Depth Anything for 4K Resolution Accurate Metric Depth Estimation**\n",
    "\n",
    " * Paper: https://arxiv.org/abs/2412.14015\n",
    "\n",
    "![Prompt Depth Anything](../assets/promptdepthanything_overview.png)"
   ]
  },
  {
   "cell_type": "markdown",
   "id": "9dd698de",
   "metadata": {},
   "source": []
  }
 ],
 "metadata": {
  "language_info": {
   "name": "python"
  }
 },
 "nbformat": 4,
 "nbformat_minor": 5
}
