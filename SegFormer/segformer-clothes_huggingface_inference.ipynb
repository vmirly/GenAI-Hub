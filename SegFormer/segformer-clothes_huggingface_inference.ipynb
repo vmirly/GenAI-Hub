{
 "cells": [
  {
   "cell_type": "markdown",
   "id": "e690c3d0",
   "metadata": {},
   "source": [
    "SegFormer-ft on ATR Dataset\n",
    "====\n",
    "\n",
    "\n",
    "**SegFormer: Simple and Efficient Design for Semantic Segmentation with Transformers**\n",
    " * Original SegFormer paper: https://arxiv.org/abs/2105.15203\n",
    "\n",
    "![SegFormer](../assets/segformer_overview.png)"
   ]
  },
  {
   "cell_type": "code",
   "execution_count": 2,
   "id": "968d9cc1",
   "metadata": {},
   "outputs": [
    {
     "name": "stderr",
     "output_type": "stream",
     "text": [
      "/home/pyml/anaconda3/envs/py311/lib/python3.11/site-packages/transformers/utils/deprecation.py:172: UserWarning: The following named arguments are not valid for `SegformerImageProcessor.__init__` and were ignored: 'feature_extractor_type'\n",
      "  return func(*args, **kwargs)\n"
     ]
    }
   ],
   "source": [
    "from PIL import Image\n",
    "import matplotlib.pyplot as plt\n",
    "import torch\n",
    "import torch.nn as nn\n",
    "from transformers import SegformerImageProcessor\n",
    "from transformers import AutoModelForSemanticSegmentation\n",
    "\n",
    "\n",
    "device = torch.device(\"cuda\" if torch.cuda.is_available() else \"cpu\")\n",
    "processor = SegformerImageProcessor.from_pretrained(\n",
    "    \"mattmdjaga/segformer_b2_clothes\"\n",
    ")\n",
    "model = AutoModelForSemanticSegmentation.from_pretrained(\n",
    "    \"mattmdjaga/segformer_b2_clothes\"\n",
    ")\n",
    "\n",
    "model.eval().to(device);"
   ]
  },
  {
   "cell_type": "code",
   "execution_count": null,
   "id": "5f1414d6",
   "metadata": {},
   "outputs": [],
   "source": []
  }
 ],
 "metadata": {
  "kernelspec": {
   "display_name": "py311",
   "language": "python",
   "name": "python3"
  },
  "language_info": {
   "codemirror_mode": {
    "name": "ipython",
    "version": 3
   },
   "file_extension": ".py",
   "mimetype": "text/x-python",
   "name": "python",
   "nbconvert_exporter": "python",
   "pygments_lexer": "ipython3",
   "version": "3.11.11"
  }
 },
 "nbformat": 4,
 "nbformat_minor": 5
}
