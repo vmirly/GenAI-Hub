{
 "cells": [
  {
   "cell_type": "markdown",
   "id": "e690c3d0",
   "metadata": {},
   "source": [
    "SegFormer-ft on ATR Dataset\n",
    "====\n",
    "\n",
    "\n",
    "**SegFormer: Simple and Efficient Design for Semantic Segmentation with Transformers**\n",
    " * Original SegFormer paper: https://arxiv.org/abs/2105.15203\n",
    "\n",
    "![SegFormer](../assets/segformer_overview.png)"
   ]
  }
 ],
 "metadata": {
  "kernelspec": {
   "display_name": "py311",
   "language": "python",
   "name": "python3"
  },
  "language_info": {
   "name": "python",
   "version": "3.11.11"
  }
 },
 "nbformat": 4,
 "nbformat_minor": 5
}
