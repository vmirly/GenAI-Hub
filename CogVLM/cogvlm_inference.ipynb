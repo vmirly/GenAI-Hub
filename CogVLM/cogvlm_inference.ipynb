{
 "cells": [
  {
   "cell_type": "markdown",
   "id": "c87f6613",
   "metadata": {},
   "source": [
    "CogVLM\n",
    "====\n",
    "\n",
    "```bash\n",
    "conda create -n cogvlm python=3.10 -y\n",
    "conda activate cogvlm\n",
    "\n",
    "python -m pip install --upgrade pip\n",
    "\n",
    "# nvidia-smi => cuda 12.2 (12.1 works)\n",
    "pip install torch==2.1.2+cu121 torchvision==0.16.2+cu121 \\\n",
    "  --extra-index-url https://download.pytorch.org/whl/cu121\n",
    "\n",
    "pip install xformers==0.0.22 -f https://download.pytorch.org/whl/cu121/torch_stable.html\n",
    "\n",
    "pip install -r requirements.txt\n",
    "\n",
    "# download spacy data\n",
    "python -m spacy download en_core_web_sm\n",
    "\n",
    "python -c \"import torch;print(torch.cuda.is_available(), torch.cuda.get_device_name(0))\"\n",
    "\n",
    "```"
   ]
  },
  {
   "cell_type": "markdown",
   "id": "01487f00",
   "metadata": {},
   "source": [
    "## Installation\n",
    "\n",
    "Requires transformers 4.36.2\n",
    "```bash\n",
    "pip install --force-reinstall transformers==4.36.2\n",
    "```"
   ]
  },
  {
   "cell_type": "code",
   "execution_count": null,
   "id": "3e93b498",
   "metadata": {},
   "outputs": [],
   "source": []
  }
 ],
 "metadata": {
  "kernelspec": {
   "display_name": "cogvlm",
   "language": "python",
   "name": "python3"
  },
  "language_info": {
   "codemirror_mode": {
    "name": "ipython",
    "version": 3
   },
   "file_extension": ".py",
   "mimetype": "text/x-python",
   "name": "python",
   "nbconvert_exporter": "python",
   "pygments_lexer": "ipython3",
   "version": "3.10.18"
  }
 },
 "nbformat": 4,
 "nbformat_minor": 5
}
