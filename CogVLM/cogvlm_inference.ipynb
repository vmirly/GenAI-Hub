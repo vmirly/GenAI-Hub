{
 "cells": [
  {
   "cell_type": "markdown",
   "id": "c87f6613",
   "metadata": {},
   "source": [
    "CogVLM\n",
    "====\n",
    "\n",
    "**CogVLM: Visual Expert for Pretrained Language Models**\n",
    "\n",
    " * Paper: https://arxiv.org/pdf/2311.03079\n",
    "\n",
    "![CogVLM Arch](../assets/cogvlm_arch.jpg)\n",
    "\n",
    "## Installation\n",
    "\n",
    "```bash\n",
    "conda create -n cogvlm python=3.10 -y\n",
    "conda activate cogvlm\n",
    "\n",
    "python -m pip install --upgrade pip\n",
    "\n",
    "# nvidia-smi => cuda 12.2 (12.1 works)\n",
    "pip install torch==2.1.2+cu121 torchvision==0.16.2+cu121 \\\n",
    "  --extra-index-url https://download.pytorch.org/whl/cu121\n",
    "\n",
    "pip install xformers==0.0.22 -f https://download.pytorch.org/whl/cu121/torch_stable.html\n",
    "\n",
    "pip install -r requirements.txt\n",
    "\n",
    "# download spacy data\n",
    "python -m spacy download en_core_web_sm\n",
    "\n",
    "python -c \"import torch;print(torch.cuda.is_available(), torch.cuda.get_device_name(0))\"\n",
    "\n",
    "```"
   ]
  },
  {
   "cell_type": "markdown",
   "id": "01487f00",
   "metadata": {},
   "source": [
    "* Note:\n",
    "Requires transformers 4.36.2 (newer versions won't work)\n",
    "```bash\n",
    "pip install --force-reinstall transformers==4.36.2\n",
    "```"
   ]
  },
  {
   "cell_type": "code",
   "execution_count": 3,
   "id": "3e93b498",
   "metadata": {},
   "outputs": [],
   "source": [
    "import argparse\n",
    "from typing import Optional\n",
    "\n",
    "import torch\n",
    "from PIL import Image\n",
    "from transformers import AutoModelForCausalLM, LlamaTokenizer\n",
    "\n",
    "use_bf16 = False\n",
    "use_fp16 = True\n",
    "quant = True\n",
    "device = \"cuda\" if torch.cuda.is_available() else \"cpu\"\n",
    "\n",
    "# Choose appropriate floating point type\n",
    "if use_bf16 and not use_fp16:\n",
    "    torch_dtype = torch.bfloat16\n",
    "else:\n",
    "    torch_dtype = torch.float16\n",
    "\n",
    "tokenizer_name = \"lmsys/vicuna-7b-v1.5\"\n",
    "model_name = \"THUDM/cogvlm-chat-hf\""
   ]
  },
  {
   "cell_type": "code",
   "execution_count": null,
   "id": "e1d937b6",
   "metadata": {},
   "outputs": [
    {
     "name": "stderr",
     "output_type": "stream",
     "text": [
      "Loading checkpoint shards:  38%|███▊      | 3/8 [00:04<00:06,  1.35s/it]"
     ]
    }
   ],
   "source": [
    "tokenizer = LlamaTokenizer.from_pretrained(tokenizer_name)\n",
    "\n",
    "if quant:\n",
    "    model = AutoModelForCausalLM.from_pretrained(\n",
    "        model_name,\n",
    "        torch_dtype=torch_dtype,\n",
    "        low_cpu_mem_usage=True,\n",
    "        load_in_4bit=True,\n",
    "        trust_remote_code=True,\n",
    "    )\n",
    "    model.eval();\n",
    "else:\n",
    "    model = AutoModelForCausalLM.from_pretrained(\n",
    "        model_name,\n",
    "        torch_dtype=torch_dtype,\n",
    "        low_cpu_mem_usage=True,\n",
    "        trust_remote_code=True,\n",
    "    )\n",
    "    model.to(device)\n",
    "    model.eval();\n"
   ]
  },
  {
   "cell_type": "code",
   "execution_count": null,
   "id": "99ebe4d5",
   "metadata": {},
   "outputs": [],
   "source": []
  }
 ],
 "metadata": {
  "kernelspec": {
   "display_name": "cogvlm",
   "language": "python",
   "name": "python3"
  },
  "language_info": {
   "codemirror_mode": {
    "name": "ipython",
    "version": 3
   },
   "file_extension": ".py",
   "mimetype": "text/x-python",
   "name": "python",
   "nbconvert_exporter": "python",
   "pygments_lexer": "ipython3",
   "version": "3.10.18"
  }
 },
 "nbformat": 4,
 "nbformat_minor": 5
}
