{
 "cells": [
  {
   "cell_type": "markdown",
   "id": "c87f6613",
   "metadata": {},
   "source": [
    "CogVLM\n",
    "====\n",
    "\n",
    "**CogVLM: Visual Expert for Pretrained Language Models**\n",
    "\n",
    " * Paper: https://arxiv.org/pdf/2311.03079\n",
    "\n",
    "![CogVLM Arch](../assets/cogvlm_arch.jpg)\n",
    "\n",
    "## Installation\n",
    "\n",
    "```bash\n",
    "conda create -n cogvlm python=3.10 -y\n",
    "conda activate cogvlm\n",
    "\n",
    "python -m pip install --upgrade pip\n",
    "\n",
    "# nvidia-smi => cuda 12.2 (12.1 works)\n",
    "pip install torch==2.1.2+cu121 torchvision==0.16.2+cu121 \\\n",
    "  --extra-index-url https://download.pytorch.org/whl/cu121\n",
    "\n",
    "pip install xformers==0.0.22 -f https://download.pytorch.org/whl/cu121/torch_stable.html\n",
    "\n",
    "pip install -r requirements.txt\n",
    "\n",
    "# download spacy data\n",
    "python -m spacy download en_core_web_sm\n",
    "\n",
    "python -c \"import torch;print(torch.cuda.is_available(), torch.cuda.get_device_name(0))\"\n",
    "\n",
    "\n",
    "# for quantization:\n",
    "pip install bitsandbytes\n",
    "```"
   ]
  },
  {
   "cell_type": "markdown",
   "id": "01487f00",
   "metadata": {},
   "source": [
    "* Note:\n",
    "Requires transformers 4.36.2 (newer versions won't work)\n",
    "```bash\n",
    "pip install --force-reinstall transformers==4.36.2\n",
    "```"
   ]
  },
  {
   "cell_type": "code",
   "execution_count": null,
   "id": "3e93b498",
   "metadata": {},
   "outputs": [
    {
     "name": "stderr",
     "output_type": "stream",
     "text": [
      "/home/pyml/anaconda3/envs/cogvlm/lib/python3.10/site-packages/tqdm/auto.py:21: TqdmWarning: IProgress not found. Please update jupyter and ipywidgets. See https://ipywidgets.readthedocs.io/en/stable/user_install.html\n",
      "  from .autonotebook import tqdm as notebook_tqdm\n",
      "/home/pyml/anaconda3/envs/cogvlm/lib/python3.10/site-packages/transformers/utils/generic.py:441: FutureWarning: `torch.utils._pytree._register_pytree_node` is deprecated. Please use `torch.utils._pytree.register_pytree_node` instead.\n",
      "  _torch_pytree._register_pytree_node(\n"
     ]
    }
   ],
   "source": [
    "import os\n",
    "import argparse\n",
    "from typing import Optional\n",
    "\n",
    "import torch\n",
    "from PIL import Image\n",
    "from transformers import AutoModelForCausalLM, LlamaTokenizer\n",
    "\n",
    "# export XFORMERS_FORCE_DISABLE=1\n",
    "os.environ[\"XFORMERS_FORCE_DISABLE\"] = \"1\"\n",
    "\n",
    "use_bf16 = False\n",
    "use_fp16 = False\n",
    "quant = False\n",
    "device = \"cuda\" if torch.cuda.is_available() else \"cpu\"\n",
    "\n",
    "# Choose appropriate floating point type\n",
    "if use_bf16 and not use_fp16:\n",
    "    torch_dtype = torch.bfloat16\n",
    "else:\n",
    "    torch_dtype = torch.float16\n",
    "\n",
    "#torch_dtype = torch.float16 if use_fp16 else torch.float32\n",
    "\n",
    "tokenizer_name = \"lmsys/vicuna-7b-v1.5\"\n",
    "model_name = \"THUDM/cogvlm-chat-hf\""
   ]
  },
  {
   "cell_type": "code",
   "execution_count": 2,
   "id": "e1d937b6",
   "metadata": {},
   "outputs": [
    {
     "name": "stderr",
     "output_type": "stream",
     "text": [
      "/home/pyml/anaconda3/envs/cogvlm/lib/python3.10/site-packages/huggingface_hub/file_download.py:945: FutureWarning: `resume_download` is deprecated and will be removed in version 1.0.0. Downloads always resume when possible. If you want to force a new download, use `force_download=True`.\n",
      "  warnings.warn(\n",
      "/home/pyml/anaconda3/envs/cogvlm/lib/python3.10/site-packages/transformers/utils/generic.py:309: FutureWarning: `torch.utils._pytree._register_pytree_node` is deprecated. Please use `torch.utils._pytree.register_pytree_node` instead.\n",
      "  _torch_pytree._register_pytree_node(\n",
      "WARNING[XFORMERS]: xFormers can't load C++/CUDA extensions. xFormers was built for:\n",
      "    PyTorch 2.0.1+cu118 with CUDA 1108 (you have 2.8.0+cu128)\n",
      "    Python  3.10.13 (you have 3.10.18)\n",
      "  Please reinstall xformers (see https://github.com/facebookresearch/xformers#installing-xformers)\n",
      "  Memory-efficient attention, SwiGLU, sparse and more won't be available.\n",
      "  Set XFORMERS_MORE_DETAILS=1 for more details\n",
      "/home/pyml/anaconda3/envs/cogvlm/lib/python3.10/site-packages/xformers/ops/swiglu_op.py:107: FutureWarning: `torch.cuda.amp.custom_fwd(args...)` is deprecated. Please use `torch.amp.custom_fwd(args..., device_type='cuda')` instead.\n",
      "  def forward(cls, ctx, x, w1, b1, w2, b2, w3, b3):\n",
      "/home/pyml/anaconda3/envs/cogvlm/lib/python3.10/site-packages/xformers/ops/swiglu_op.py:128: FutureWarning: `torch.cuda.amp.custom_bwd(args...)` is deprecated. Please use `torch.amp.custom_bwd(args..., device_type='cuda')` instead.\n",
      "  def backward(cls, ctx, dx5):\n",
      "Loading checkpoint shards: 100%|██████████| 8/8 [00:16<00:00,  2.07s/it]\n",
      "/home/pyml/anaconda3/envs/cogvlm/lib/python3.10/site-packages/huggingface_hub/file_download.py:945: FutureWarning: `resume_download` is deprecated and will be removed in version 1.0.0. Downloads always resume when possible. If you want to force a new download, use `force_download=True`.\n",
      "  warnings.warn(\n"
     ]
    }
   ],
   "source": [
    "tokenizer = LlamaTokenizer.from_pretrained(tokenizer_name)\n",
    "\n",
    "if quant:\n",
    "    model = AutoModelForCausalLM.from_pretrained(\n",
    "        model_name,\n",
    "        torch_dtype=torch_dtype,\n",
    "        low_cpu_mem_usage=True,\n",
    "        load_in_4bit=True,\n",
    "        trust_remote_code=True,\n",
    "    )\n",
    "    model.eval();\n",
    "else:\n",
    "    model = AutoModelForCausalLM.from_pretrained(\n",
    "        model_name,\n",
    "        torch_dtype=torch_dtype,\n",
    "        low_cpu_mem_usage=True,\n",
    "        trust_remote_code=True,\n",
    "    )\n",
    "    model.to(device)\n",
    "    model.eval();\n"
   ]
  },
  {
   "cell_type": "code",
   "execution_count": 3,
   "id": "99ebe4d5",
   "metadata": {},
   "outputs": [
    {
     "data": {
      "text/plain": [
       "dict_keys(['input_ids', 'token_type_ids', 'attention_mask', 'images'])"
      ]
     },
     "execution_count": 3,
     "metadata": {},
     "output_type": "execute_result"
    }
   ],
   "source": [
    "image_path = \"../samples/plants.jpg\"\n",
    "query = \"What are the objects in the image?\"\n",
    "\n",
    "image = Image.open(image_path).convert(\"RGB\")\n",
    "image = image.resize((224, 224))\n",
    "\n",
    "input_by_model = model.build_conversation_input_ids(\n",
    "    tokenizer,\n",
    "    query=query,\n",
    "    history=[],\n",
    "    images=[image],\n",
    ")\n",
    "input_by_model.keys()"
   ]
  },
  {
   "cell_type": "code",
   "execution_count": 4,
   "id": "a95faddc",
   "metadata": {},
   "outputs": [],
   "source": [
    "# Construct the dict of tensors expected by the model.generate API.  Note\n",
    "# that ``images`` and ``cross_images`` tensors live on the CPU until\n",
    "# generation time.  They are moved to ``device`` and cast to the model's\n",
    "# dtype as needed.  For quantized models ``images`` must remain as a\n",
    "# nested list (one list per batch) of tensors.\n",
    "inputs = {\n",
    "    \"input_ids\": input_by_model[\"input_ids\"].unsqueeze(0).to(device),\n",
    "    \"token_type_ids\": input_by_model[\"token_type_ids\"].unsqueeze(0).to(device),\n",
    "    \"attention_mask\": input_by_model[\"attention_mask\"].unsqueeze(0).to(device),\n",
    "    \"images\": [[input_by_model[\"images\"][0].to(device).to(torch_dtype)]],\n",
    "}\n",
    "\n",
    "# Some models also return ``cross_images`` for cross‑attention layers\n",
    "if \"cross_images\" in input_by_model and input_by_model[\"cross_images\"]:\n",
    "    inputs[\"cross_images\"] = [[input_by_model[\"cross_images\"][0].to(device).to(torch_dtype)]]\n",
    "\n",
    "# Generation parameters: disable sampling for deterministic output and limit\n",
    "# the total sequence length.  Feel free to adjust ``max_length`` to suit\n",
    "# your needs.\n",
    "gen_kwargs = {\"max_length\": 2048, \"do_sample\": False}\n"
   ]
  },
  {
   "cell_type": "code",
   "execution_count": null,
   "id": "f00231be",
   "metadata": {},
   "outputs": [],
   "source": [
    "with torch.no_grad():\n",
    "    outputs = model.generate(**inputs, **gen_kwargs)\n",
    "    # Slice off the input tokens to obtain only newly generated tokens\n",
    "    new_tokens = outputs[:, inputs[\"input_ids\"].shape[1]:]\n",
    "    response = tokenizer.decode(new_tokens[0], skip_special_tokens=True)\n",
    "\n",
    "print(response)"
   ]
  },
  {
   "cell_type": "code",
   "execution_count": null,
   "id": "cac259c4",
   "metadata": {},
   "outputs": [],
   "source": []
  }
 ],
 "metadata": {
  "kernelspec": {
   "display_name": "cogvlm",
   "language": "python",
   "name": "python3"
  },
  "language_info": {
   "codemirror_mode": {
    "name": "ipython",
    "version": 3
   },
   "file_extension": ".py",
   "mimetype": "text/x-python",
   "name": "python",
   "nbconvert_exporter": "python",
   "pygments_lexer": "ipython3",
   "version": "3.10.18"
  }
 },
 "nbformat": 4,
 "nbformat_minor": 5
}
