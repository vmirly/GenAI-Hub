{
 "cells": [
  {
   "cell_type": "markdown",
   "metadata": {},
   "source": [
    "CLIP\n",
    "====\n",
    "\n",
    "**Learning Transferable Visual Models From Natural Language Supervision**\n",
    "\n",
    "* Paper: https://arxiv.org/abs/2103.00020\n",
    "\n",
    "![CLIP](../assets/clip-overview.png)\n",
    "\n",
    "```bash\n",
    "pip install torch torchvision\n",
    "pip install transformers\n",
    "pip install matplotlib\n",
    "pip install supervision\n",
    "```"
   ]
  },
  {
   "cell_type": "code",
   "execution_count": 1,
   "metadata": {},
   "outputs": [],
   "source": [
    "from PIL import Image\n",
    "import numpy as np\n",
    "import torch\n",
    "from transformers import CLIPProcessor, CLIPModel\n",
    "\n",
    "model = CLIPModel.from_pretrained(\n",
    "    \"openai/clip-vit-base-patch32\"\n",
    ")\n",
    "processor = CLIPProcessor.from_pretrained(\n",
    "    \"openai/clip-vit-base-patch32\"\n",
    ")\n",
    "\n",
    "device = torch.device(\n",
    "    \"cuda\" if torch.cuda.is_available() else \"cpu\"\n",
    ")\n",
    "model = model.to(device)"
   ]
  },
  {
   "cell_type": "markdown",
   "metadata": {},
   "source": [
    "### Image Embedding"
   ]
  },
  {
   "cell_type": "code",
   "execution_count": 2,
   "metadata": {},
   "outputs": [
    {
     "name": "stdout",
     "output_type": "stream",
     "text": [
      "(1068, 1137)\n",
      "dict_keys(['pixel_values'])\n",
      "torch.Size([1, 3, 224, 224])\n",
      "torch.Size([1, 512])\n"
     ]
    }
   ],
   "source": [
    "image_path = \"../samples/plants.jpg\"\n",
    "\n",
    "image = Image.open(image_path).convert(\"RGB\")\n",
    "print(image.size)\n",
    "\n",
    "inputs = processor(images=image, return_tensors=\"pt\", padding=True)\n",
    "inputs = {k: v.to(device) for k, v in inputs.items()}\n",
    "print(inputs.keys())\n",
    "print(inputs[\"pixel_values\"].shape)\n",
    "\n",
    "with torch.no_grad():\n",
    "    img_embeds = model.get_image_features(\n",
    "        pixel_values=inputs[\"pixel_values\"]\n",
    "    )\n",
    "print(img_embeds.shape)\n"
   ]
  },
  {
   "cell_type": "markdown",
   "metadata": {},
   "source": [
    "### Text embeddings"
   ]
  },
  {
   "cell_type": "code",
   "execution_count": 3,
   "metadata": {},
   "outputs": [
    {
     "name": "stdout",
     "output_type": "stream",
     "text": [
      "dict_keys(['input_ids', 'attention_mask'])\n",
      "torch.Size([3, 12])\n",
      "torch.Size([3, 512])\n"
     ]
    }
   ],
   "source": [
    "texts = [\n",
    "    \"a photo of an indoor plant\",\n",
    "    \"a photo of two indoor plant in a golden vase\",\n",
    "    \"a phot of a cat sitting on a couch\"\n",
    "]\n",
    "\n",
    "inputs = processor(\n",
    "    text=texts, return_tensors=\"pt\", padding=True\n",
    ")\n",
    "inputs = {k: v.to(device) for k, v in inputs.items()}\n",
    "print(inputs.keys())\n",
    "print(inputs[\"input_ids\"].shape)\n",
    "\n",
    "with torch.no_grad():\n",
    "    txt_embeds = model.get_text_features(\n",
    "        input_ids=inputs[\"input_ids\"]\n",
    "    )\n",
    "print(txt_embeds.shape)"
   ]
  },
  {
   "cell_type": "markdown",
   "metadata": {},
   "source": [
    "### Image-Text Matching"
   ]
  },
  {
   "cell_type": "code",
   "execution_count": 4,
   "metadata": {},
   "outputs": [
    {
     "name": "stdout",
     "output_type": "stream",
     "text": [
      "Before normalization:\n",
      "[[10.161607]]\n",
      "[[9.406647]\n",
      " [7.691049]\n",
      " [8.129713]]\n"
     ]
    }
   ],
   "source": [
    "img_embeds_array = img_embeds.detach().cpu().numpy()\n",
    "txt_embeds_array = txt_embeds.detach().cpu().numpy()\n",
    "# print L2 norm of the embeddings\n",
    "print(\"Before normalization:\")\n",
    "print(np.linalg.norm(img_embeds_array, ord=2, axis=-1, keepdims=True))\n",
    "print(np.linalg.norm(txt_embeds_array, ord=2, axis=-1, keepdims=True))"
   ]
  },
  {
   "cell_type": "code",
   "execution_count": 5,
   "metadata": {},
   "outputs": [
    {
     "name": "stdout",
     "output_type": "stream",
     "text": [
      "Before normalization:\n",
      "[10.161607]\n",
      "[9.406647 7.691049 8.129713]\n",
      "\n",
      "After normalization:\n",
      "[1.]\n",
      "[1. 1. 1.]\n"
     ]
    }
   ],
   "source": [
    "img_embeds_array = img_embeds.detach().cpu().numpy()\n",
    "txt_embeds_array = txt_embeds.detach().cpu().numpy()\n",
    "\n",
    "# print L2 norm of the embeddings\n",
    "print(\"Before normalization:\")\n",
    "print(np.linalg.norm(img_embeds_array, ord=2, axis=-1))\n",
    "print(np.linalg.norm(txt_embeds_array, ord=2, axis=-1))\n",
    "\n",
    "# normalize embeddings by L2 norm\n",
    "img_embeds_array /= np.linalg.norm(\n",
    "    img_embeds_array, axis=-1, ord=2, keepdims=True\n",
    ")\n",
    "txt_embeds_array /= np.linalg.norm(\n",
    "    txt_embeds_array, axis=-1, ord=2, keepdims=True\n",
    ")\n",
    "\n",
    "print(\"\\nAfter normalization:\")\n",
    "# print L2 norm of the normalized embeddings\n",
    "print(np.linalg.norm(img_embeds_array, ord=2, axis=-1))\n",
    "print(np.linalg.norm(txt_embeds_array, ord=2, axis=-1))"
   ]
  },
  {
   "cell_type": "code",
   "execution_count": 6,
   "metadata": {},
   "outputs": [
    {
     "name": "stdout",
     "output_type": "stream",
     "text": [
      "[[0.28259343 0.31666955 0.11867781]]\n"
     ]
    }
   ],
   "source": [
    "# calculate similarity between image and text\n",
    "similarity = np.inner(img_embeds_array, txt_embeds_array)\n",
    "print(similarity)"
   ]
  },
  {
   "cell_type": "code",
   "execution_count": null,
   "metadata": {},
   "outputs": [],
   "source": []
  }
 ],
 "metadata": {
  "kernelspec": {
   "display_name": "py311",
   "language": "python",
   "name": "python3"
  },
  "language_info": {
   "codemirror_mode": {
    "name": "ipython",
    "version": 3
   },
   "file_extension": ".py",
   "mimetype": "text/x-python",
   "name": "python",
   "nbconvert_exporter": "python",
   "pygments_lexer": "ipython3",
   "version": "3.11.11"
  }
 },
 "nbformat": 4,
 "nbformat_minor": 2
}
