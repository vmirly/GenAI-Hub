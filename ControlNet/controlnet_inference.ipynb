{
 "cells": [
  {
   "cell_type": "markdown",
   "id": "3918a874",
   "metadata": {},
   "source": [
    "ControlNet\n",
    "=====\n",
    "\n",
    "**Adding Conditional Control to Text-to-Image Diffusion Models**\n",
    "\n",
    " * Paper: https://arxiv.org/pdf/2302.05543\n",
    "\n",
    "![ControlNet Overview](../assets/controlnet_overview.png)\n",
    "\n",
    "![ControlNet Overview](../assets/controlnet_arch.png)"
   ]
  },
  {
   "cell_type": "markdown",
   "id": "27d51147",
   "metadata": {},
   "source": [
    "```bash\n",
    "git clone https://github.com/lllyasviel/ControlNet.git ControlNet_repo\n",
    "\n",
    "sed -i 's,name: control$,name: controlnet,g' ControlNet_repo/environment.yaml\n",
    "\n",
    "# upgrade transformers to be able to download 'openai/clip-vit-large-patch14'\n",
    "pip install --upgrade transformers\n",
    "```"
   ]
  },
  {
   "cell_type": "markdown",
   "id": "12ace113",
   "metadata": {},
   "source": [
    " * Download the model using huggingface hub\n",
    "\n",
    "```python\n",
    "import shutil\n",
    "from huggingface_hub import hf_hub_download\n",
    "import os\n",
    "\n",
    "repo_id = \"lllyasviel/ControlNet\"\n",
    "filenames = [\n",
    "    \"models/control_sd15_canny.pth\",\n",
    "    \"models/control_sd15_depth.pth\",\n",
    "    \"models/control_sd15_seg.pth\"\n",
    "]\n",
    "\n",
    "save_dir = \"./models\"\n",
    "\n",
    "os.makedirs(save_dir, exist_ok=True)\n",
    "\n",
    "for filename in filenames:\n",
    "    cached_path = hf_hub_download(repo_id=repo_id, filename=filename)\n",
    "    \n",
    "    # Copy to your custom directory\n",
    "    dst_path = os.path.join(save_dir, os.path.basename(filename))\n",
    "    shutil.copyfile(cached_path, dst_path)\n",
    "    print(f\"Copied to: {dst_path}\")\n",
    "\n",
    "```"
   ]
  },
  {
   "cell_type": "code",
   "execution_count": null,
   "id": "89ad67ea",
   "metadata": {},
   "outputs": [
    {
     "name": "stderr",
     "output_type": "stream",
     "text": [
      "/home/pyml/anaconda3/envs/controlnet/lib/python3.8/site-packages/tqdm/auto.py:21: TqdmWarning: IProgress not found. Please update jupyter and ipywidgets. See https://ipywidgets.readthedocs.io/en/stable/user_install.html\n",
      "  from .autonotebook import tqdm as notebook_tqdm\n"
     ]
    },
    {
     "name": "stdout",
     "output_type": "stream",
     "text": [
      "logging improved.\n"
     ]
    }
   ],
   "source": [
    "import sys\n",
    "sys.path.append(\"ControlNet_repo\")\n",
    "\n",
    "import cv2\n",
    "import einops\n",
    "import gradio as gr\n",
    "import numpy as np\n",
    "import torch\n",
    "import random\n",
    "from pytorch_lightning import seed_everything\n",
    "\n",
    "from annotator.util import resize_image, HWC3\n",
    "#from annotator.canny import CannyDetector\n",
    "from cldm.model import create_model, load_state_dict\n",
    "from cldm.ddim_hacked import DDIMSampler\n",
    "\n",
    "from share import *\n",
    "import config\n"
   ]
  },
  {
   "cell_type": "code",
   "execution_count": 3,
   "id": "e77465c5",
   "metadata": {},
   "outputs": [
    {
     "name": "stdout",
     "output_type": "stream",
     "text": [
      "ControlLDM: Running in eps-prediction mode\n",
      "DiffusionWrapper has 859.52 M params.\n",
      "making attention of type 'vanilla' with 512 in_channels\n",
      "Working with z of shape (1, 4, 32, 32) = 4096 dimensions.\n",
      "making attention of type 'vanilla' with 512 in_channels\n",
      "Loaded model config from [ControlNet_repo/models/cldm_v15.yaml]\n",
      "Loaded state_dict from [./models/control_sd15_canny.pth]\n",
      "Missing keys: []\n",
      "Unexpected keys: ['cond_stage_model.transformer.text_model.embeddings.position_ids']\n"
     ]
    }
   ],
   "source": [
    "device = torch.device(\"cuda\" if torch.cuda.is_available() else \"cpu\")\n",
    "\n",
    "model = create_model('ControlNet_repo/models/cldm_v15.yaml').cpu()\n",
    "#model.load_state_dict(load_state_dict('./models/control_sd15_canny.pth', location='cuda'))\n",
    "state_dict = load_state_dict('./models/control_sd15_canny.pth', location=device)\n",
    "missing_keys, unexpected_keys = model.load_state_dict(state_dict, strict=False)\n",
    "print(f\"Missing keys: {missing_keys}\")\n",
    "print(f\"Unexpected keys: {unexpected_keys}\")\n",
    "model = model.to(device)\n",
    "ddim_sampler = DDIMSampler(model)"
   ]
  },
  {
   "cell_type": "code",
   "execution_count": null,
   "id": "4dc61e58",
   "metadata": {},
   "outputs": [],
   "source": []
  }
 ],
 "metadata": {
  "kernelspec": {
   "display_name": "controlnet",
   "language": "python",
   "name": "python3"
  },
  "language_info": {
   "codemirror_mode": {
    "name": "ipython",
    "version": 3
   },
   "file_extension": ".py",
   "mimetype": "text/x-python",
   "name": "python",
   "nbconvert_exporter": "python",
   "pygments_lexer": "ipython3",
   "version": "3.8.5"
  }
 },
 "nbformat": 4,
 "nbformat_minor": 5
}
