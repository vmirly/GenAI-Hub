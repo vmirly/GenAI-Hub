{
 "cells": [
  {
   "cell_type": "markdown",
   "id": "3918a874",
   "metadata": {},
   "source": [
    "ControlNet\n",
    "=====\n",
    "\n",
    "**Adding Conditional Control to Text-to-Image Diffusion Models**\n",
    "\n",
    " * Paper: https://arxiv.org/pdf/2302.05543\n",
    "\n",
    "![ControlNet Overview](../assets/controlnet_overview.png)\n",
    "\n",
    "![ControlNet Overview](../assets/controlnet_arch.png)"
   ]
  },
  {
   "cell_type": "markdown",
   "id": "27d51147",
   "metadata": {},
   "source": []
  }
 ],
 "metadata": {
  "language_info": {
   "name": "python"
  }
 },
 "nbformat": 4,
 "nbformat_minor": 5
}
