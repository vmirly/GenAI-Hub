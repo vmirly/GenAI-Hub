{
 "cells": [
  {
   "cell_type": "markdown",
   "id": "6e6547a2",
   "metadata": {},
   "source": [
    "Mask2Former\n",
    "====\n",
    "\n",
    "**Masked-attention Mask Transformer for Universal Image Segmentation**\n",
    "\n",
    " * Paper: https://arxiv.org/abs/2112.01527\n",
    "\n",
    "![Mask2Former Overview](../assets/mask2former_overview.png)"
   ]
  },
  {
   "cell_type": "markdown",
   "id": "48d23f79",
   "metadata": {},
   "source": []
  }
 ],
 "metadata": {
  "kernelspec": {
   "display_name": "birefnet",
   "language": "python",
   "name": "python3"
  },
  "language_info": {
   "name": "python",
   "version": "3.10.16"
  }
 },
 "nbformat": 4,
 "nbformat_minor": 5
}
