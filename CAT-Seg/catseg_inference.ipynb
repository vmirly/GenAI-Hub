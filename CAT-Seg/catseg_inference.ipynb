{
 "cells": [
  {
   "cell_type": "markdown",
   "id": "6f5d2d02",
   "metadata": {},
   "source": [
    "CAT-Seg\n",
    "====\n",
    "\n",
    "**CAT-Seg: Cost Aggregation for Open-Vocabulary Semantic Segmentation**\n",
    "\n",
    " * Paper: https://arxiv.org/abs/2303.11797\n",
    "\n",
    "![CAT-Seg Overview](../assets/catseg_overview.jpg)"
   ]
  },
  {
   "cell_type": "markdown",
   "id": "09a0772d",
   "metadata": {},
   "source": [
    "## Installation\n",
    "\n",
    "```bash\n",
    "conda create -n catseg python=3.8 -y\n",
    "conda activate catseg\n",
    "\n",
    "conda install pytorch==1.13.1 torchvision==0.14.1 torchaudio==0.13.1 \\\n",
    "    pytorch-cuda=11.7 -c pytorch -c nvidia\n",
    "\n",
    "\n",
    "# install detectron2:\n",
    "python -m pip install 'git+https://github.com/facebookresearch/detectron2.git'\n",
    "\n",
    "# install open-clip\n",
    "pip install open-clip-torch\n",
    "\n",
    "# other requirements:\n",
    "pip install -r requirements.txt\n",
    "```"
   ]
  },
  {
   "cell_type": "markdown",
   "id": "273a4c4c",
   "metadata": {},
   "source": [
    "\n",
    "### Other setup\n",
    "```bash\n",
    "ln -s CATSeg_repo/datasets/ .\n",
    "```\n",
    "\n",
    "## Download model\n",
    "```bash\n",
    "wget https://huggingface.co/spaces/hamacojr/CAT-Seg-weights/resolve/main/model_base.pth\n",
    "```"
   ]
  },
  {
   "cell_type": "markdown",
   "id": "1758026a",
   "metadata": {},
   "source": []
  }
 ],
 "metadata": {
  "kernelspec": {
   "display_name": "catseg",
   "language": "python",
   "name": "python3"
  },
  "language_info": {
   "name": "python",
   "version": "3.8.20"
  }
 },
 "nbformat": 4,
 "nbformat_minor": 5
}
