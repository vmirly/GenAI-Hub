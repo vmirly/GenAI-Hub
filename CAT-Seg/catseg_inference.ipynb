{
 "cells": [
  {
   "cell_type": "markdown",
   "id": "6f5d2d02",
   "metadata": {},
   "source": [
    "CAT-Seg\n",
    "====\n",
    "\n",
    "**CAT-Seg: Cost Aggregation for Open-Vocabulary Semantic Segmentation**\n",
    "\n",
    " * Paper: https://arxiv.org/abs/2303.11797\n",
    "\n",
    "![CAT-Seg Overview](../assets/catseg_overview.jpg)"
   ]
  },
  {
   "cell_type": "markdown",
   "id": "09a0772d",
   "metadata": {},
   "source": [
    "## Installation\n",
    "\n",
    "```bash\n",
    "conda create -n catseg python=3.8 -y\n",
    "conda activate catseg\n",
    "\n",
    "conda install pytorch==1.13.1 torchvision==0.14.1 torchaudio==0.13.1 \\\n",
    "    pytorch-cuda=11.7 -c pytorch -c nvidia\n",
    "\n",
    "\n",
    "# install detectron2:\n",
    "python -m pip install 'git+https://github.com/facebookresearch/detectron2.git'\n",
    "\n",
    "# install open-clip\n",
    "pip install open-clip-torch\n",
    "\n",
    "# other requirements:\n",
    "pip install -r requirements.txt\n",
    "```"
   ]
  },
  {
   "cell_type": "markdown",
   "id": "273a4c4c",
   "metadata": {},
   "source": [
    "\n",
    "### Other setup\n",
    "```bash\n",
    "ln -s CATSeg_repo/datasets/ .\n",
    "```\n",
    "\n",
    "## Download model\n",
    "```bash\n",
    "wget https://huggingface.co/spaces/hamacojr/CAT-Seg-weights/resolve/main/model_base.pth\n",
    "```"
   ]
  },
  {
   "cell_type": "code",
   "execution_count": 1,
   "id": "0b6628a8",
   "metadata": {},
   "outputs": [
    {
     "name": "stderr",
     "output_type": "stream",
     "text": [
      "/home/pyml/anaconda3/envs/catseg/lib/python3.8/site-packages/tqdm/auto.py:21: TqdmWarning: IProgress not found. Please update jupyter and ipywidgets. See https://ipywidgets.readthedocs.io/en/stable/user_install.html\n",
      "  from .autonotebook import tqdm as notebook_tqdm\n"
     ]
    }
   ],
   "source": [
    "import os\n",
    "import sys\n",
    "import cv2\n",
    "import numpy as np\n",
    "import torch\n",
    "\n",
    "from detectron2.config import get_cfg\n",
    "from detectron2.projects.deeplab import add_deeplab_config\n",
    "from detectron2.engine.defaults import DefaultPredictor\n",
    "\n",
    "# Import CAT-Seg's configuration helper\n",
    "# Make sure the CAT-Seg repository root is in your PYTHONPATH\n",
    "sys.path.append(\"CATSeg_repo\")\n",
    "from cat_seg import add_cat_seg_config\n",
    "from demo.predictor import VisualizationDemo  # optional for overlay\n",
    "\n",
    "\n",
    "def setup_cfg(\n",
    "        config_file: str,\n",
    "        weights: str,\n",
    "        class_json: str = None,\n",
    "        device: str = None\n",
    "    ):\n",
    "    cfg = get_cfg()\n",
    "    add_deeplab_config(cfg)\n",
    "    add_cat_seg_config(cfg)\n",
    "    cfg.merge_from_file(config_file)\n",
    "\n",
    "    # Override the weights and device\n",
    "    cfg.MODEL.WEIGHTS = weights\n",
    "\n",
    "    if class_json:\n",
    "        # Override class JSON paths for zero-shot classification\n",
    "        cfg.MODEL.SEM_SEG_HEAD.TRAIN_CLASS_JSON = class_json\n",
    "        cfg.MODEL.SEM_SEG_HEAD.TEST_CLASS_JSON = class_json\n",
    "\n",
    "    # Set the computation device\n",
    "    if device is not None:\n",
    "        cfg.MODEL.DEVICE = device\n",
    "    else:\n",
    "        cfg.MODEL.DEVICE = \"cuda\" if torch.cuda.is_available() else \"cpu\"\n",
    "\n",
    "    cfg.freeze()\n",
    "    return cfg\n",
    "\n",
    "\n",
    "def run_inference(\n",
    "        predictor: DefaultPredictor,\n",
    "        image: np.ndarray\n",
    "    ):\n",
    "    # Run the model\n",
    "    predictions = predictor(image)\n",
    "\n",
    "    # Extract semantic segmentation mask if available\n",
    "    sem_seg_mask = None\n",
    "    if \"sem_seg\" in predictions:\n",
    "        # ``predictions['sem_seg']`` is a tensor of shape (num_classes, H, W)\n",
    "        sem_seg = predictions[\"sem_seg\"]\n",
    "        # Convert to numpy array of class indices (H, W)\n",
    "        sem_seg_mask = sem_seg.argmax(dim=0).to(torch.int32).cpu().numpy()\n",
    "\n",
    "    return predictions, sem_seg_mask\n"
   ]
  },
  {
   "cell_type": "code",
   "execution_count": null,
   "id": "874ff147",
   "metadata": {},
   "outputs": [],
   "source": []
  }
 ],
 "metadata": {
  "kernelspec": {
   "display_name": "catseg",
   "language": "python",
   "name": "python3"
  },
  "language_info": {
   "codemirror_mode": {
    "name": "ipython",
    "version": 3
   },
   "file_extension": ".py",
   "mimetype": "text/x-python",
   "name": "python",
   "nbconvert_exporter": "python",
   "pygments_lexer": "ipython3",
   "version": "3.8.20"
  }
 },
 "nbformat": 4,
 "nbformat_minor": 5
}
