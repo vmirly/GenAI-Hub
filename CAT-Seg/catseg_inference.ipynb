{
 "cells": [
  {
   "cell_type": "markdown",
   "id": "6f5d2d02",
   "metadata": {},
   "source": [
    "CAT-Seg\n",
    "====\n",
    "\n",
    "**CAT-Seg: Cost Aggregation for Open-Vocabulary Semantic Segmentation**\n",
    "\n",
    " * Paper: https://arxiv.org/abs/2303.11797\n",
    "\n",
    "![CAT-Seg Overview](../assets/catseg_overview.jpg)"
   ]
  },
  {
   "cell_type": "markdown",
   "id": "09a0772d",
   "metadata": {},
   "source": []
  }
 ],
 "metadata": {
  "kernelspec": {
   "display_name": "catseg",
   "language": "python",
   "name": "python3"
  },
  "language_info": {
   "name": "python",
   "version": "3.8.20"
  }
 },
 "nbformat": 4,
 "nbformat_minor": 5
}
