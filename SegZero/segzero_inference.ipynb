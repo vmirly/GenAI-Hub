{
 "cells": [
  {
   "cell_type": "markdown",
   "id": "f042944d",
   "metadata": {},
   "source": [
    "Seg-Zero\n",
    "====\n",
    "\n",
    "**Seg-Zero: Reasoning-Chain Guided Segmentation via Cognitive Reinforcement**\n",
    "\n",
    "* Paper: https://arxiv.org/abs/2503.06520\n",
    "\n",
    "\n",
    "![Seg-Zero Overview](../assets/segzero_arch.jpg)\n",
    "\n",
    "\n",
    "## Installation\n",
    "\n",
    "\n",
    "```bash\n",
    "git clone https://github.com/dvlab-research/Seg-Zero.git SegZero_repo\n",
    "cd SegZero_repo\n",
    "conda create -n segzero python=3.12 -y\n",
    "conda activate segzero\n",
    "pip install torch==2.6.0 torchvision==0.21.0\n",
    "pip install -e .\n",
    "```\n",
    "\n",
    "## Download models\n",
    "\n",
    "```bash\n",
    "mkdir pretrained_models\n",
    "cd pretrained_models\n",
    "git lfs install\n",
    "git clone https://huggingface.co/Ricky06662/VisionReasoner-7B\n",
    "```"
   ]
  },
  {
   "cell_type": "code",
   "execution_count": null,
   "id": "49ea57d4",
   "metadata": {},
   "outputs": [
    {
     "name": "stderr",
     "output_type": "stream",
     "text": [
      "/home/pyml/anaconda3/envs/segzero/lib/python3.12/site-packages/tqdm/auto.py:21: TqdmWarning: IProgress not found. Please update jupyter and ipywidgets. See https://ipywidgets.readthedocs.io/en/stable/user_install.html\n",
      "  from .autonotebook import tqdm as notebook_tqdm\n"
     ]
    }
   ],
   "source": [
    "import os\n",
    "import json\n",
    "import pdb\n",
    "import re\n",
    "os.environ[\"CUDA_VISIBLE_DEVICES\"] = \"0\"\n",
    "\n",
    "import cv2\n",
    "import torch\n",
    "from PIL import Image as PILImage\n",
    "from sam2.sam2_image_predictor import SAM2ImagePredictor\n",
    "import numpy as np\n",
    "import matplotlib.pyplot as plt\n",
    "\n",
    "from transformers import Qwen2VLForConditionalGeneration, Qwen2_5_VLForConditionalGeneration, AutoProcessor\n",
    "from qwen_vl_utils import process_vision_info\n"
   ]
  },
  {
   "cell_type": "code",
   "execution_count": null,
   "id": "48659ea7",
   "metadata": {},
   "outputs": [],
   "source": [
    "reasoning_model_path = \"SegZero_repo/pretrained_models/VisionReasoner-7B\"\n",
    "segmentation_model_path = \"facebook/sam2-hiera-large\"\n",
    "text = \"Which plant is taller?\"\n",
    "image_path = \"../samples/plants.jpg\""
   ]
  },
  {
   "cell_type": "code",
   "execution_count": 4,
   "id": "d9119ea5",
   "metadata": {},
   "outputs": [
    {
     "name": "stderr",
     "output_type": "stream",
     "text": [
      "Loading checkpoint shards: 100%|██████████| 4/4 [00:02<00:00,  1.64it/s]\n",
      "Using a slow image processor as `use_fast` is unset and a slow processor was saved with this model. `use_fast=True` will be the default behavior in v4.52, even if the model was saved with a slow processor. This will result in minor differences in outputs. You'll still be able to use a slow processor with `use_fast=False`.\n"
     ]
    },
    {
     "name": "stdout",
     "output_type": "stream",
     "text": [
      "User question:  Which plant is taller?\n"
     ]
    }
   ],
   "source": [
    "reasoning_model = Qwen2_5_VLForConditionalGeneration.from_pretrained(\n",
    "    reasoning_model_path,\n",
    "    torch_dtype=torch.bfloat16,\n",
    "    attn_implementation=\"flash_attention_2\",\n",
    "    device_map=\"auto\",\n",
    ")\n",
    "\n",
    "segmentation_model = SAM2ImagePredictor.from_pretrained(segmentation_model_path)\n",
    "\n",
    "reasoning_model.eval()\n",
    "\n",
    "# default processer\n",
    "processor = AutoProcessor.from_pretrained(reasoning_model_path, padding_side=\"left\")\n",
    "\n",
    "print(\"User question: \", text)\n",
    "\n",
    "QUESTION_TEMPLATE = \\\n",
    "    \"Please find \\\"{Question}\\\" with bboxs and points.\" \\\n",
    "    \"Compare the difference between object(s) and find the most closely matched object(s).\" \\\n",
    "    \"Output the thinking process in <think> </think> and final answer in <answer> </answer> tags.\" \\\n",
    "    \"Output the bbox(es) and point(s) inside the interested object(s) in JSON format.\" \\\n",
    "    \"i.e., <think> thinking process here </think>\" \\\n",
    "    \"<answer>{Answer}</answer>\""
   ]
  },
  {
   "cell_type": "code",
   "execution_count": null,
   "id": "e9a769c6",
   "metadata": {},
   "outputs": [],
   "source": []
  }
 ],
 "metadata": {
  "kernelspec": {
   "display_name": "segzero",
   "language": "python",
   "name": "python3"
  },
  "language_info": {
   "codemirror_mode": {
    "name": "ipython",
    "version": 3
   },
   "file_extension": ".py",
   "mimetype": "text/x-python",
   "name": "python",
   "nbconvert_exporter": "python",
   "pygments_lexer": "ipython3",
   "version": "3.12.12"
  }
 },
 "nbformat": 4,
 "nbformat_minor": 5
}
