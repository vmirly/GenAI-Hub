{
 "cells": [
  {
   "cell_type": "markdown",
   "id": "f042944d",
   "metadata": {},
   "source": [
    "Seg-Zero\n",
    "====\n",
    "\n",
    "**Seg-Zero: Reasoning-Chain Guided Segmentation via Cognitive Reinforcement**\n",
    "\n",
    "* Paper: https://arxiv.org/abs/2503.06520\n",
    "\n",
    "\n",
    "![Seg-Zero Overview](../assets/segzero_arch.jpg)"
   ]
  },
  {
   "cell_type": "markdown",
   "id": "d91869cf",
   "metadata": {},
   "source": []
  }
 ],
 "metadata": {
  "kernelspec": {
   "display_name": "segzero",
   "language": "python",
   "name": "python3"
  },
  "language_info": {
   "name": "python",
   "version": "3.12.12"
  }
 },
 "nbformat": 4,
 "nbformat_minor": 5
}
