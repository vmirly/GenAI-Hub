{
 "cells": [
  {
   "cell_type": "markdown",
   "id": "f042944d",
   "metadata": {},
   "source": [
    "Seg-Zero\n",
    "====\n",
    "\n",
    "**Seg-Zero: Reasoning-Chain Guided Segmentation via Cognitive Reinforcement**\n",
    "\n",
    "* Paper: https://arxiv.org/abs/2503.06520\n",
    "\n",
    "\n",
    "![Seg-Zero Overview](../assets/segzero_arch.jpg)\n",
    "\n",
    "\n",
    "## Installation\n",
    "\n",
    "\n",
    "```bash\n",
    "git clone https://github.com/dvlab-research/Seg-Zero.git SegZero_repo\n",
    "cd SegZero_repo\n",
    "conda create -n segzero python=3.12 -y\n",
    "conda activate segzero\n",
    "pip install torch==2.6.0 torchvision==0.21.0\n",
    "pip install -e .\n",
    "```\n",
    "\n",
    "## Download models\n",
    "\n",
    "```bash\n",
    "mkdir pretrained_models\n",
    "cd pretrained_models\n",
    "git lfs install\n",
    "git clone https://huggingface.co/Ricky06662/VisionReasoner-7B\n",
    "```"
   ]
  },
  {
   "cell_type": "markdown",
   "id": "d91869cf",
   "metadata": {},
   "source": []
  }
 ],
 "metadata": {
  "kernelspec": {
   "display_name": "segzero",
   "language": "python",
   "name": "python3"
  },
  "language_info": {
   "name": "python",
   "version": "3.12.12"
  }
 },
 "nbformat": 4,
 "nbformat_minor": 5
}
