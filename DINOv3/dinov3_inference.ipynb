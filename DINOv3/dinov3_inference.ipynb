{
 "cells": [
  {
   "cell_type": "markdown",
   "id": "62895c3a",
   "metadata": {},
   "source": [
    "DINOv3\n",
    "====\n",
    "\n",
    " * Paper: https://arxiv.org/abs/2508.10104\n",
    "\n",
    "![DINOv3](../assets/dinov3_example.jpg)"
   ]
  },
  {
   "cell_type": "markdown",
   "id": "bbe169a6",
   "metadata": {},
   "source": [
    "* Installation\n",
    "\n",
    "```bash\n",
    "git clone https://github.com/facebookresearch/dinov3.git dinov3_repo\n",
    "cd dinov3_repo\n",
    "\n",
    "conda env create -f conda.yaml\n",
    "conda activate dinov3\n",
    "```"
   ]
  },
  {
   "cell_type": "markdown",
   "id": "abe5090b",
   "metadata": {},
   "source": [
    " * Request to download the weights\n",
    "\n",
    "![DINOv3 Request](dinov3_request.jpg)"
   ]
  },
  {
   "cell_type": "markdown",
   "id": "5d8a13c1",
   "metadata": {},
   "source": []
  }
 ],
 "metadata": {
  "kernelspec": {
   "display_name": "dinov3",
   "language": "python",
   "name": "python3"
  },
  "language_info": {
   "name": "python",
   "version": "3.11.13"
  }
 },
 "nbformat": 4,
 "nbformat_minor": 5
}
