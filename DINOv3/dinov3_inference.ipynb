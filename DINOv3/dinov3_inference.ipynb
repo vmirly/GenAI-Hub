{
 "cells": [
  {
   "cell_type": "markdown",
   "id": "62895c3a",
   "metadata": {},
   "source": [
    "DINOv3\n",
    "====\n",
    "\n",
    " * Paper: https://arxiv.org/abs/2508.10104\n",
    "\n",
    "![DINOv3](../assets/dinov3_example.jpg)"
   ]
  },
  {
   "cell_type": "markdown",
   "id": "bbe169a6",
   "metadata": {},
   "source": [
    "* Installation\n",
    "\n",
    "```bash\n",
    "git clone https://github.com/facebookresearch/dinov3.git dinov3_repo\n",
    "cd dinov3_repo\n",
    "\n",
    "conda env create -f conda.yaml\n",
    "conda activate dinov3\n",
    "```"
   ]
  },
  {
   "cell_type": "markdown",
   "id": "abe5090b",
   "metadata": {},
   "source": [
    " * Request to download the weights\n",
    "\n",
    "![DINOv3 Request](dinov3_request.jpg)"
   ]
  },
  {
   "cell_type": "code",
   "execution_count": 3,
   "id": "827ee03b",
   "metadata": {},
   "outputs": [],
   "source": [
    "import torch\n",
    "import torchvision.transforms as transforms\n",
    "from PIL import Image\n",
    "\n",
    "# Set path where the repository was cloned\n",
    "REPO_DIR = \"dinov3_repo\"\n",
    "\n",
    "# Load a ConvNeXt‑Base backbone pre‑trained on web images (LVD‑1689M)\n",
    "model = torch.hub.load(\n",
    "    REPO_DIR,\n",
    "    'dinov3_convnext_base',\n",
    "    source='local',\n",
    "    weights='models/dinov3_convnext_base_pretrain_lvd1689m-801f2ba9.pth'\n",
    ")\n",
    "\n",
    "device = torch.device(\"cuda\" if torch.cuda.is_available() else \"cpu\")\n",
    "model.eval().to(device);"
   ]
  },
  {
   "cell_type": "code",
   "execution_count": null,
   "id": "2b50155f",
   "metadata": {},
   "outputs": [],
   "source": []
  }
 ],
 "metadata": {
  "kernelspec": {
   "display_name": "dinov3",
   "language": "python",
   "name": "python3"
  },
  "language_info": {
   "codemirror_mode": {
    "name": "ipython",
    "version": 3
   },
   "file_extension": ".py",
   "mimetype": "text/x-python",
   "name": "python",
   "nbconvert_exporter": "python",
   "pygments_lexer": "ipython3",
   "version": "3.11.13"
  }
 },
 "nbformat": 4,
 "nbformat_minor": 5
}
