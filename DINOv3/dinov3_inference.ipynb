{
 "cells": [
  {
   "cell_type": "markdown",
   "id": "62895c3a",
   "metadata": {},
   "source": [
    "DINOv3\n",
    "====\n",
    "\n",
    " * Paper: https://arxiv.org/abs/2508.10104\n",
    "\n",
    "![DINOv3](../assets/dinov3_example.jpg)"
   ]
  },
  {
   "cell_type": "markdown",
   "id": "abe5090b",
   "metadata": {},
   "source": []
  }
 ],
 "metadata": {
  "kernelspec": {
   "display_name": "dinov3",
   "language": "python",
   "name": "python3"
  },
  "language_info": {
   "name": "python",
   "version": "3.11.13"
  }
 },
 "nbformat": 4,
 "nbformat_minor": 5
}
