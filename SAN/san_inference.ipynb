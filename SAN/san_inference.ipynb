{
 "cells": [
  {
   "cell_type": "markdown",
   "id": "a952c88f",
   "metadata": {},
   "source": [
    "SAN\n",
    "====\n",
    "\n",
    "**Side Adapter Network for Open-Vocabulary Semantic Segmentation**\n",
    "\n",
    " * Paper: https://arxiv.org/pdf/2302.12242\n",
    "\n",
    "![SAN Overview](../assets/san_overview.jpg)\n",
    "\n",
    "![SAN Architecture](../assets/san_arch.jpg)\n",
    "\n",
    "![SAN using CLIP-attn to predict mask](../assets/san_attn-mask.jpg)"
   ]
  },
  {
   "cell_type": "code",
   "execution_count": null,
   "id": "6bae0f20",
   "metadata": {},
   "outputs": [],
   "source": []
  }
 ],
 "metadata": {
  "kernelspec": {
   "display_name": "san",
   "language": "python",
   "name": "python3"
  },
  "language_info": {
   "codemirror_mode": {
    "name": "ipython",
    "version": 3
   },
   "file_extension": ".py",
   "mimetype": "text/x-python",
   "name": "python",
   "nbconvert_exporter": "python",
   "pygments_lexer": "ipython3",
   "version": "3.9.24"
  }
 },
 "nbformat": 4,
 "nbformat_minor": 5
}
