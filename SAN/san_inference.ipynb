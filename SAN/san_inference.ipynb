{
 "cells": [
  {
   "cell_type": "markdown",
   "id": "a952c88f",
   "metadata": {},
   "source": [
    "SAN\n",
    "====\n",
    "\n",
    "**Side Adapter Network for Open-Vocabulary Semantic Segmentation**\n",
    "\n",
    " * Paper: https://arxiv.org/pdf/2302.12242\n",
    "\n",
    "![SAN Overview](../assets/san_overview.jpg)\n",
    "\n",
    "![SAN Architecture](../assets/san_arch.jpg)\n",
    "\n",
    "![SAN using CLIP-attn to predict mask](../assets/san_attn-mask.jpg)"
   ]
  },
  {
   "cell_type": "markdown",
   "id": "f6b87535",
   "metadata": {},
   "source": [
    "## Installation\n",
    "\n",
    "```bash\n",
    "sudo apt update\n",
    "sudo apt install -y build-essential git pkg-config \\\n",
    "  libjpeg-dev libpng-dev libglib2.0-0 libsm6 libxext6 libxrender-dev\n",
    "\n",
    "conda create -n san python=3.9 -y\n",
    "condaq activate san\n",
    "\n",
    "pip install torch==1.12.1+cu113 torchvision==0.13.1+cu113 \\\n",
    "  torchaudio==0.12.1 --extra-index-url https://download.pytorch.org/whl/cu113\n",
    "\n",
    "python -c \"import torch; print('CUDA available:', torch.cuda.is_available())\"\n",
    "\n",
    "\n",
    "git clone https://github.com/MendelXu/SAN.git SAN_repo\n",
    "cd SAN_repo\n",
    "\n",
    "pip install -r requirements.txt\n",
    "\n",
    "# Install cuda-toolkit matching with pytorch's cuda version (11.3)\n",
    "# nvcc 11.3 (matches PyTorch +cu113)\n",
    "conda install -y -c nvidia/label/cuda-11.3.1 cuda-nvcc\n",
    "\n",
    "# alternatively install full cuda 11.3\n",
    "#conda install -y -c nvidia/label/cuda-11.3.1 cuda\n",
    "nvcc -V  # should now report CUDA release 11.3\n",
    "\n",
    "# ~~~~~~~~~~~~~~~~~~~~~~~~~~~~~~~~~~~~~~~~~~~~~~~~~~~~~~\n",
    "# next install detectron2 (but I got the following error)\n",
    "# error: #error – unsupported GNU version! gcc versions later than 8 are not supported!\n",
    "# so, installing gcc-8\n",
    "sudo apt update\n",
    "sudo apt install -y gcc-8 g++-8\n",
    "\n",
    "# Set CUDA_HOME to the location of the conda-installed toolkit\n",
    "export CUDA_HOME=$(dirname $(dirname $(which nvcc)))\n",
    "export PATH=\"$CUDA_HOME/bin:$PATH\"\n",
    "export LD_LIBRARY_PATH=\"$CUDA_HOME/lib64:$LD_LIBRARY_PATH\"\n",
    "# Build from source with the correct compiler\n",
    "CC=gcc-8 CXX=g++-8 python -m pip install \\\n",
    "    'git+https://github.com/facebookresearch/detectron2.git@v0.6'\n",
    "\n",
    "```\n",
    "\n",
    "## Downgrade Numpy to avoid this error: `Numpy is not available`\n",
    "\n",
    "```bash\n",
    "pip install numpy==1.26.4\n",
    "\n",
    "python -c \"import numpy; print('NumPy version:', numpy.__version__)\"\n",
    "```"
   ]
  },
  {
   "cell_type": "code",
   "execution_count": null,
   "id": "6bae0f20",
   "metadata": {},
   "outputs": [],
   "source": []
  }
 ],
 "metadata": {
  "kernelspec": {
   "display_name": "san",
   "language": "python",
   "name": "python3"
  },
  "language_info": {
   "codemirror_mode": {
    "name": "ipython",
    "version": 3
   },
   "file_extension": ".py",
   "mimetype": "text/x-python",
   "name": "python",
   "nbconvert_exporter": "python",
   "pygments_lexer": "ipython3",
   "version": "3.9.24"
  }
 },
 "nbformat": 4,
 "nbformat_minor": 5
}
