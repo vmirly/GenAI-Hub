{
 "cells": [
  {
   "cell_type": "markdown",
   "id": "a952c88f",
   "metadata": {},
   "source": [
    "SAN\n",
    "====\n",
    "\n",
    "**Side Adapter Network for Open-Vocabulary Semantic Segmentation**\n",
    "\n",
    " * Paper: https://arxiv.org/pdf/2302.12242\n",
    "\n",
    "![SAN Overview](../assets/san_overview.jpg)\n",
    "\n",
    "![SAN Architecture](../assets/san_arch.jpg)\n",
    "\n",
    "![SAN using CLIP-attn to predict mask](../assets/san_attn-mask.jpg)"
   ]
  },
  {
   "cell_type": "markdown",
   "id": "f6b87535",
   "metadata": {},
   "source": [
    "## Installation\n",
    "\n",
    "```bash\n",
    "sudo apt update\n",
    "sudo apt install -y build-essential git pkg-config \\\n",
    "  libjpeg-dev libpng-dev libglib2.0-0 libsm6 libxext6 libxrender-dev\n",
    "\n",
    "conda create -n san python=3.9 -y\n",
    "condaq activate san\n",
    "\n",
    "pip install torch==1.12.1+cu113 torchvision==0.13.1+cu113 \\\n",
    "  torchaudio==0.12.1 --extra-index-url https://download.pytorch.org/whl/cu113\n",
    "\n",
    "python -c \"import torch; print('CUDA available:', torch.cuda.is_available())\"\n",
    "\n",
    "\n",
    "git clone https://github.com/MendelXu/SAN.git SAN_repo\n",
    "cd SAN_repo\n",
    "\n",
    "pip install -r requirements.txt\n",
    "\n",
    "# Install cuda-toolkit matching with pytorch's cuda version (11.3)\n",
    "# nvcc 11.3 (matches PyTorch +cu113)\n",
    "conda install -y -c nvidia/label/cuda-11.3.1 cuda-nvcc\n",
    "\n",
    "# alternatively install full cuda 11.3\n",
    "#conda install -y -c nvidia/label/cuda-11.3.1 cuda\n",
    "nvcc -V  # should now report CUDA release 11.3\n",
    "\n",
    "# ~~~~~~~~~~~~~~~~~~~~~~~~~~~~~~~~~~~~~~~~~~~~~~~~~~~~~~\n",
    "# next install detectron2 (but I got the following error)\n",
    "# error: #error – unsupported GNU version! gcc versions later than 8 are not supported!\n",
    "# so, installing gcc-8\n",
    "sudo apt update\n",
    "sudo apt install -y gcc-8 g++-8\n",
    "\n",
    "# Set CUDA_HOME to the location of the conda-installed toolkit\n",
    "export CUDA_HOME=$(dirname $(dirname $(which nvcc)))\n",
    "export PATH=\"$CUDA_HOME/bin:$PATH\"\n",
    "export LD_LIBRARY_PATH=\"$CUDA_HOME/lib64:$LD_LIBRARY_PATH\"\n",
    "# Build from source with the correct compiler\n",
    "CC=gcc-8 CXX=g++-8 python -m pip install \\\n",
    "    'git+https://github.com/facebookresearch/detectron2.git@v0.6'\n",
    "\n",
    "```\n",
    "\n",
    "## Downgrade Numpy to avoid this error: `Numpy is not available`\n",
    "\n",
    "```bash\n",
    "pip install numpy==1.26.4\n",
    "\n",
    "python -c \"import numpy; print('NumPy version:', numpy.__version__)\"\n",
    "```"
   ]
  },
  {
   "cell_type": "code",
   "execution_count": 3,
   "id": "6bae0f20",
   "metadata": {},
   "outputs": [
    {
     "name": "stderr",
     "output_type": "stream",
     "text": [
      "WARNING:fvcore.common.config:Loading config SAN_repo/configs/Base-coco-stuff-164K-171.yaml with yaml.unsafe_load. Your machine may be at risk if the file contains malicious content.\n",
      "WARNING:timm.models._builder:No pretrained configuration specified for vit_tiny_patch16_224_in21k model. Using a default. Please add a config to the model pretrained_cfg registry or pass explicitly.\n",
      "/home/pyml/git_vmirly/GenAI-Hub/SAN/SAN_repo/san/model/side_adapter/timm_wrapper.py:24: UserWarning: Unused kwargs are provided:{'dynamic_img_pad': False}.\n",
      "  warnings.warn(f\"Unused kwargs are provided:{kwargs}.\")\n"
     ]
    },
    {
     "name": "stdout",
     "output_type": "stream",
     "text": [
      "Loading model from:  /home/pyml/.cache/huggingface/hub/models--Mendel192--san/snapshots/0d24a51312b517e86044f845185d09002d032443/san_vit_b_16.pth\n",
      "Loaded model from:  /home/pyml/.cache/huggingface/hub/models--Mendel192--san/snapshots/0d24a51312b517e86044f845185d09002d032443/san_vit_b_16.pth\n"
     ]
    }
   ],
   "source": [
    "import os\n",
    "import sys\n",
    "import matplotlib.pyplot as plt\n",
    "\n",
    "sys.path.append(\"SAN_repo\")\n",
    "from predict import Predictor, model_cfg\n",
    "\n",
    "\n",
    "# Choose the ViT-B/16 model; the config and weight names come from predict.py.\n",
    "model_key = \"san_vit_b_16\"\n",
    "config_file = model_cfg[model_key][\"config_file\"]\n",
    "model_path = model_cfg[model_key][\"model_path\"]\n",
    "config_file = \"SAN_repo/\" + config_file\n",
    "\n",
    "# Build the predictor.  This will download the weights from HuggingFace on first use.\n",
    "predictor = Predictor(config_file=config_file, model_path=model_path)\n"
   ]
  },
  {
   "cell_type": "code",
   "execution_count": null,
   "id": "e1204bc2",
   "metadata": {},
   "outputs": [],
   "source": []
  }
 ],
 "metadata": {
  "kernelspec": {
   "display_name": "san",
   "language": "python",
   "name": "python3"
  },
  "language_info": {
   "codemirror_mode": {
    "name": "ipython",
    "version": 3
   },
   "file_extension": ".py",
   "mimetype": "text/x-python",
   "name": "python",
   "nbconvert_exporter": "python",
   "pygments_lexer": "ipython3",
   "version": "3.9.24"
  }
 },
 "nbformat": 4,
 "nbformat_minor": 5
}
