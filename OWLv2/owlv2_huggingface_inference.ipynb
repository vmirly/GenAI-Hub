{
 "cells": [
  {
   "cell_type": "markdown",
   "id": "b55448a4",
   "metadata": {},
   "source": [
    "OWLv2\n",
    "=====\n",
    "\n",
    "**Scaling Open-Vocabulary Object Detection**\n",
    "\n",
    " * Paper: https://arxiv.org/abs/2306.09683\n",
    "\n",
    "![OWLv2 Overview - Trainnig Steps](../assets/owlv2_overview.jpg)"
   ]
  },
  {
   "cell_type": "markdown",
   "id": "21a63d10",
   "metadata": {},
   "source": [
    "**Installation**\n",
    "\n",
    "```bash\n",
    "pip install matplotlib\n",
    "pip install supervision\n",
    "pip install torch torchvision\n",
    "pip install transformers\n",
    "```"
   ]
  },
  {
   "cell_type": "markdown",
   "id": "99a4e118",
   "metadata": {},
   "source": []
  }
 ],
 "metadata": {
  "kernelspec": {
   "display_name": "owlvit",
   "language": "python",
   "name": "python3"
  },
  "language_info": {
   "codemirror_mode": {
    "name": "ipython",
    "version": 3
   },
   "file_extension": ".py",
   "mimetype": "text/x-python",
   "name": "python",
   "nbconvert_exporter": "python",
   "pygments_lexer": "ipython3",
   "version": "3.11.13"
  }
 },
 "nbformat": 4,
 "nbformat_minor": 5
}
