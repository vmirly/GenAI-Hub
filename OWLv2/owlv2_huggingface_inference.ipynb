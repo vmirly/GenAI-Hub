{
 "cells": [
  {
   "cell_type": "markdown",
   "id": "b55448a4",
   "metadata": {},
   "source": [
    "OWLv2\n",
    "=====\n",
    "\n",
    "**Scaling Open-Vocabulary Object Detection**\n",
    "\n",
    " * Paper: https://arxiv.org/abs/2306.09683\n",
    "\n",
    "![OWLv2 Overview - Trainnig Steps](../assets/owlv2_overview.jpg)"
   ]
  },
  {
   "cell_type": "code",
   "execution_count": null,
   "id": "e835dab0",
   "metadata": {},
   "outputs": [],
   "source": []
  }
 ],
 "metadata": {
  "kernelspec": {
   "display_name": "owlvit",
   "language": "python",
   "name": "python3"
  },
  "language_info": {
   "codemirror_mode": {
    "name": "ipython",
    "version": 3
   },
   "file_extension": ".py",
   "mimetype": "text/x-python",
   "name": "python",
   "nbconvert_exporter": "python",
   "pygments_lexer": "ipython3",
   "version": "3.11.13"
  }
 },
 "nbformat": 4,
 "nbformat_minor": 5
}
