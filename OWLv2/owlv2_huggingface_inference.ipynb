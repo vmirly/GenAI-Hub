{
 "cells": [
  {
   "cell_type": "markdown",
   "id": "b55448a4",
   "metadata": {},
   "source": [
    "OWLv2\n",
    "=====\n",
    "\n",
    "**Scaling Open-Vocabulary Object Detection**\n",
    "\n",
    " * Paper: https://arxiv.org/abs/2306.09683\n",
    "\n",
    "![OWLv2 Overview - Trainnig Steps](../assets/owlv2_overview.jpg)"
   ]
  },
  {
   "cell_type": "markdown",
   "id": "21a63d10",
   "metadata": {},
   "source": [
    "**Installation**\n",
    "\n",
    "```bash\n",
    "pip install matplotlib\n",
    "pip install supervision\n",
    "pip install torch torchvision\n",
    "pip install transformers\n",
    "```"
   ]
  },
  {
   "cell_type": "code",
   "execution_count": 1,
   "id": "3c364d1e",
   "metadata": {},
   "outputs": [
    {
     "name": "stderr",
     "output_type": "stream",
     "text": [
      "TqdmWarning: IProgress not found. Please update jupyter and ipywidgets. See https://ipywidgets.readthedocs.io/en/stable/user_install.html\n",
      "Using a slow image processor as `use_fast` is unset and a slow processor was saved with this model. `use_fast=True` will be the default behavior in v4.52, even if the model was saved with a slow processor. This will result in minor differences in outputs. You'll still be able to use a slow processor with `use_fast=False`.\n"
     ]
    }
   ],
   "source": [
    "from PIL import Image\n",
    "import numpy as np\n",
    "import supervision as sv\n",
    "import matplotlib.pyplot as plt\n",
    "import torch\n",
    "from transformers import Owlv2Processor, Owlv2ForObjectDetection\n",
    "\n",
    "device = torch.device(\"cuda\" if torch.cuda.is_available() else \"cpu\")\n",
    "\n",
    "processor = Owlv2Processor.from_pretrained(\n",
    "    \"google/owlv2-base-patch16-ensemble\"\n",
    ")\n",
    "model = Owlv2ForObjectDetection.from_pretrained(\n",
    "    \"google/owlv2-base-patch16-ensemble\"\n",
    ")\n",
    "\n",
    "model.eval().to(device);"
   ]
  },
  {
   "cell_type": "code",
   "execution_count": null,
   "id": "662a34eb",
   "metadata": {},
   "outputs": [],
   "source": []
  }
 ],
 "metadata": {
  "kernelspec": {
   "display_name": "owlvit",
   "language": "python",
   "name": "python3"
  },
  "language_info": {
   "codemirror_mode": {
    "name": "ipython",
    "version": 3
   },
   "file_extension": ".py",
   "mimetype": "text/x-python",
   "name": "python",
   "nbconvert_exporter": "python",
   "pygments_lexer": "ipython3",
   "version": "3.11.13"
  }
 },
 "nbformat": 4,
 "nbformat_minor": 5
}
