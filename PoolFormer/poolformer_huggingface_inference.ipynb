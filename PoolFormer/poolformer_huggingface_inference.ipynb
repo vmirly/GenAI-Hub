{
 "cells": [
  {
   "cell_type": "markdown",
   "id": "75e0e2a2",
   "metadata": {},
   "source": [
    "PoolFormer\n",
    "====\n",
    "\n",
    "\n",
    "**MetaFormer Is Actually What You Need for Vision**\n",
    "\n",
    " * Paper: https://arxiv.org/abs/2111.11418\n",
    "\n",
    "![PoolFormer Architecture](../assets/poolformer_architecture.png)\n",
    "\n",
    "![PoolFormer Comparison](../assets/poolformer_comparison.png)"
   ]
  }
 ],
 "metadata": {
  "language_info": {
   "name": "python"
  }
 },
 "nbformat": 4,
 "nbformat_minor": 5
}
