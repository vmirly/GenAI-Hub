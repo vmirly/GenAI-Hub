{
 "cells": [
  {
   "cell_type": "markdown",
   "id": "75e0e2a2",
   "metadata": {},
   "source": [
    "PoolFormer\n",
    "====\n",
    "\n",
    "\n",
    "**MetaFormer Is Actually What You Need for Vision**\n",
    "\n",
    " * Paper: https://arxiv.org/abs/2111.11418\n",
    "\n",
    "![PoolFormer Architecture](../assets/poolformer_architecture.png)\n",
    "\n",
    "![PoolFormer Comparison](../assets/poolformer_comparison.png)"
   ]
  },
  {
   "cell_type": "code",
   "execution_count": 1,
   "id": "0af211b8",
   "metadata": {},
   "outputs": [
    {
     "name": "stderr",
     "output_type": "stream",
     "text": [
      "/home/pyml/anaconda3/envs/py311/lib/python3.10/site-packages/transformers/models/poolformer/feature_extraction_poolformer.py:28: FutureWarning: The class PoolFormerFeatureExtractor is deprecated and will be removed in version 5 of Transformers. Please use PoolFormerImageProcessor instead.\n",
      "  warnings.warn(\n"
     ]
    }
   ],
   "source": [
    "from PIL import Image\n",
    "import torch\n",
    "from transformers import (\n",
    "    PoolFormerFeatureExtractor,\n",
    "    PoolFormerForImageClassification\n",
    ")\n",
    "\n",
    "device = torch.device(\"cuda\" if torch.cuda.is_available() else \"cpu\")\n",
    "feature_extractor = PoolFormerFeatureExtractor.from_pretrained(\n",
    "    \"sail/poolformer_s12\"\n",
    ")\n",
    "model = PoolFormerForImageClassification.from_pretrained(\n",
    "    \"sail/poolformer_s12\"\n",
    ").eval().to(device)"
   ]
  }
 ],
 "metadata": {
  "kernelspec": {
   "display_name": "py311",
   "language": "python",
   "name": "python3"
  },
  "language_info": {
   "codemirror_mode": {
    "name": "ipython",
    "version": 3
   },
   "file_extension": ".py",
   "mimetype": "text/x-python",
   "name": "python",
   "nbconvert_exporter": "python",
   "pygments_lexer": "ipython3",
   "version": "3.10.16"
  }
 },
 "nbformat": 4,
 "nbformat_minor": 5
}
