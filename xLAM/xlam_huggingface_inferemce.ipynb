{
 "cells": [
  {
   "cell_type": "markdown",
   "id": "22de8481",
   "metadata": {},
   "source": [
    "xLAM\n",
    "===\n",
    "\n",
    "**xLAM: A Family of Large Action Models to Empower AI Agent Systems**\n",
    "\n",
    "* Paper: https://arxiv.org/abs/2409.03215"
   ]
  },
  {
   "cell_type": "code",
   "execution_count": 1,
   "id": "d50a3266",
   "metadata": {},
   "outputs": [
    {
     "name": "stderr",
     "output_type": "stream",
     "text": [
      "/home/pyml/anaconda3/envs/birefnet/lib/python3.10/site-packages/tqdm/auto.py:21: TqdmWarning: IProgress not found. Please update jupyter and ipywidgets. See https://ipywidgets.readthedocs.io/en/stable/user_install.html\n",
      "  from .autonotebook import tqdm as notebook_tqdm\n"
     ]
    }
   ],
   "source": [
    "import torch\n",
    "from transformers import AutoModelForCausalLM, AutoTokenizer\n",
    "\n",
    "tokenizer = AutoTokenizer.from_pretrained(\n",
    "    \"Salesforce/xLAM-2-1b-fc-r\"\n",
    ")\n",
    "model = AutoModelForCausalLM.from_pretrained(\n",
    "    \"Salesforce/xLAM-2-1b-fc-r\",\n",
    "    torch_dtype=torch.bfloat16, device_map=\"auto\"\n",
    ")\n"
   ]
  },
  {
   "cell_type": "code",
   "execution_count": null,
   "id": "6dc5d942",
   "metadata": {},
   "outputs": [],
   "source": []
  }
 ],
 "metadata": {
  "kernelspec": {
   "display_name": "birefnet",
   "language": "python",
   "name": "python3"
  },
  "language_info": {
   "codemirror_mode": {
    "name": "ipython",
    "version": 3
   },
   "file_extension": ".py",
   "mimetype": "text/x-python",
   "name": "python",
   "nbconvert_exporter": "python",
   "pygments_lexer": "ipython3",
   "version": "3.10.16"
  }
 },
 "nbformat": 4,
 "nbformat_minor": 5
}
