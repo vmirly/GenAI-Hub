{
 "cells": [
  {
   "cell_type": "markdown",
   "id": "22de8481",
   "metadata": {},
   "source": [
    "xLAM\n",
    "===\n",
    "\n",
    "**xLAM: A Family of Large Action Models to Empower AI Agent Systems**\n",
    "\n",
    "* Paper: https://arxiv.org/abs/2409.03215\n",
    "\n",
    "![xLAM Overview](../assets/xlam_overview.png)"
   ]
  },
  {
   "cell_type": "code",
   "execution_count": 1,
   "id": "d50a3266",
   "metadata": {},
   "outputs": [
    {
     "name": "stderr",
     "output_type": "stream",
     "text": [
      "/home/pyml/anaconda3/envs/birefnet/lib/python3.10/site-packages/tqdm/auto.py:21: TqdmWarning: IProgress not found. Please update jupyter and ipywidgets. See https://ipywidgets.readthedocs.io/en/stable/user_install.html\n",
      "  from .autonotebook import tqdm as notebook_tqdm\n"
     ]
    }
   ],
   "source": [
    "import torch\n",
    "from transformers import AutoModelForCausalLM, AutoTokenizer\n",
    "\n",
    "tokenizer = AutoTokenizer.from_pretrained(\n",
    "    \"Salesforce/xLAM-2-1b-fc-r\"\n",
    ")\n",
    "model = AutoModelForCausalLM.from_pretrained(\n",
    "    \"Salesforce/xLAM-2-1b-fc-r\",\n",
    "    torch_dtype=torch.bfloat16, device_map=\"auto\"\n",
    ")\n"
   ]
  },
  {
   "cell_type": "code",
   "execution_count": 5,
   "id": "6dc5d942",
   "metadata": {},
   "outputs": [],
   "source": [
    "# define the list of tools that the model can use\n",
    "tools = [\n",
    "    {\n",
    "        \"name\": \"get_weather\",\n",
    "        \"description\": \"Get the current weather for a location\",\n",
    "        \"parameters\": {\n",
    "            \"type\": \"object\",\n",
    "            \"properties\": {\n",
    "                \"location\": {\"type\": \"string\", \"description\": \"The city and state, e.g. San Francisco, CA\"},\n",
    "                \"unit\": {\"type\": \"string\", \"enum\": [\"celsius\", \"fahrenheit\"], \"description\": \"The unit of temperature to return\"}\n",
    "            },\n",
    "            \"required\": [\"location\"]\n",
    "        }\n",
    "    },\n",
    "    {\n",
    "        \"name\": \"get_directions\",\n",
    "        \"description\": \"Get directions from one location to another\",\n",
    "        \"parameters\": {\n",
    "            \"type\": \"object\",\n",
    "            \"properties\": {\n",
    "                \"location1\": {\"type\": \"string\", \"description\": \"The starting location\"},\n",
    "                \"location2\": {\"type\": \"string\", \"description\": \"The destination location\"},\n",
    "                \"mode\": {\"type\": \"string\", \"enum\": [\"driving\", \"walking\", \"bicycling\"], \"description\": \"The mode of transportation\"}\n",
    "            },\n",
    "            \"required\": [\"location1\", \"location2\"]\n",
    "        }\n",
    "    }\n",
    "]"
   ]
  },
  {
   "cell_type": "code",
   "execution_count": 6,
   "id": "ed6bdd9d",
   "metadata": {},
   "outputs": [
    {
     "name": "stdout",
     "output_type": "stream",
     "text": [
      "====== prompt after applying chat template ======\n",
      "<|im_start|>system\n",
      "You are a helpful assistant that can use tools. You are developed by Salesforce xLAM team.\n",
      "You have access to a set of tools. When using tools, make calls in a single JSON array: \n",
      "\n",
      "[{\"name\": \"tool_call_name\", \"arguments\": {\"arg1\": \"value1\", \"arg2\": \"value2\"}}, ... (additional parallel tool calls as needed)]\n",
      "\n",
      "If no tool is suitable, state that explicitly. If the user's input lacks required parameters, ask for clarification. Do not interpret or respond until tool results are returned. Once they are available, process them or make additional calls if needed. For tasks that don't require tools, such as casual conversation or general advice, respond directly in plain text. The available tools are:\n",
      "\n",
      "{\n",
      "    \"name\": \"get_weather\",\n",
      "    \"description\": \"Get the current weather for a location\",\n",
      "    \"parameters\": {\n",
      "        \"type\": \"object\",\n",
      "        \"properties\": {\n",
      "            \"location\": {\n",
      "                \"type\": \"string\",\n",
      "                \"description\": \"The city and state, e.g. San Francisco, CA\"\n",
      "            },\n",
      "            \"unit\": {\n",
      "                \"type\": \"string\",\n",
      "                \"enum\": [\n",
      "                    \"celsius\",\n",
      "                    \"fahrenheit\"\n",
      "                ],\n",
      "                \"description\": \"The unit of temperature to return\"\n",
      "            }\n",
      "        },\n",
      "        \"required\": [\n",
      "            \"location\"\n",
      "        ]\n",
      "    }\n",
      "}\n",
      "\n",
      "{\n",
      "    \"name\": \"get_directions\",\n",
      "    \"description\": \"Get directions from one location to another\",\n",
      "    \"parameters\": {\n",
      "        \"type\": \"object\",\n",
      "        \"properties\": {\n",
      "            \"location1\": {\n",
      "                \"type\": \"string\",\n",
      "                \"description\": \"The starting location\"\n",
      "            },\n",
      "            \"location2\": {\n",
      "                \"type\": \"string\",\n",
      "                \"description\": \"The destination location\"\n",
      "            },\n",
      "            \"mode\": {\n",
      "                \"type\": \"string\",\n",
      "                \"enum\": [\n",
      "                    \"driving\",\n",
      "                    \"walking\",\n",
      "                    \"bicycling\"\n",
      "                ],\n",
      "                \"description\": \"The mode of transportation\"\n",
      "            }\n",
      "        },\n",
      "        \"required\": [\n",
      "            \"location1\",\n",
      "            \"location2\"\n",
      "        ]\n",
      "    }\n",
      "}\n",
      "\n",
      "<|im_end|><|im_start|>user\n",
      "Hi, how are you?<|im_end|><|im_start|>assistant\n",
      "Thanks. I am doing well. How can I help you?<|im_end|><|im_start|>user\n",
      "Can you tell me the weather in San Francisco, CA?<|im_end|><|im_start|>assistant\n",
      "\n"
     ]
    }
   ],
   "source": [
    "# Example conversation with a tool call\n",
    "messages = [\n",
    "    {\"role\": \"user\", \"content\": \"Hi, how are you?\"},\n",
    "    {\"role\": \"assistant\", \"content\": \"Thanks. I am doing well. How can I help you?\"},\n",
    "    {\"role\": \"user\", \"content\": \"Can you tell me the weather in San Francisco, CA?\"},\n",
    "]\n",
    "\n",
    "print(\"====== prompt after applying chat template ======\")\n",
    "print(tokenizer.apply_chat_template(messages, tools=tools, add_generation_prompt=True, tokenize=False))\n"
   ]
  },
  {
   "cell_type": "code",
   "execution_count": 8,
   "id": "24135267",
   "metadata": {},
   "outputs": [
    {
     "name": "stdout",
     "output_type": "stream",
     "text": [
      "====== model response ======\n",
      "[{\"name\": \"get_weather\", \"arguments\": {\"location\": \"San Francisco, CA\"}}]\n"
     ]
    }
   ],
   "source": [
    "\n",
    "def run(messages, tools):\n",
    "    inputs = tokenizer.apply_chat_template(\n",
    "        messages,\n",
    "        tools=tools,\n",
    "        add_generation_prompt=True,\n",
    "        return_dict=True,\n",
    "        return_tensors=\"pt\"\n",
    "    )\n",
    "\n",
    "    # Get the length of the input tokens\n",
    "    input_ids_len = inputs[\"input_ids\"].shape[-1]\n",
    "    inputs = {k: v.to(model.device) for k, v in inputs.items()}\n",
    "\n",
    "    print(\"====== model response ======\")\n",
    "    outputs = model.generate(**inputs, max_new_tokens=256)\n",
    "    generated_tokens = outputs[:, input_ids_len:] # Slice the output to get only the newly generated tokens\n",
    "    print(tokenizer.decode(generated_tokens[0], skip_special_tokens=True))\n",
    "\n",
    "run(messages, tools)"
   ]
  },
  {
   "cell_type": "code",
   "execution_count": 9,
   "id": "81410059",
   "metadata": {},
   "outputs": [
    {
     "name": "stdout",
     "output_type": "stream",
     "text": [
      "====== model response ======\n",
      "[{\"name\": \"get_directions\", \"arguments\": {\"location1\": \"San Francisco, CA\", \"location2\": \"Los Angeles, CA\"}}]\n"
     ]
    }
   ],
   "source": [
    "# example 2: directions\n",
    "messages = [\n",
    "    {\"role\": \"user\", \"content\": \"Hi, how are you?\"},\n",
    "    {\"role\": \"assistant\", \"content\": \"Thanks. I am doing well. How can I help you?\"},\n",
    "    {\"role\": \"user\", \"content\": \"Can you give me directions from San Francisco, CA to Los Angeles, CA?\"},\n",
    "]\n",
    "\n",
    "run(messages, tools)"
   ]
  },
  {
   "cell_type": "code",
   "execution_count": null,
   "id": "9541cf91",
   "metadata": {},
   "outputs": [],
   "source": []
  }
 ],
 "metadata": {
  "kernelspec": {
   "display_name": "birefnet",
   "language": "python",
   "name": "python3"
  },
  "language_info": {
   "codemirror_mode": {
    "name": "ipython",
    "version": 3
   },
   "file_extension": ".py",
   "mimetype": "text/x-python",
   "name": "python",
   "nbconvert_exporter": "python",
   "pygments_lexer": "ipython3",
   "version": "3.10.16"
  }
 },
 "nbformat": 4,
 "nbformat_minor": 5
}
