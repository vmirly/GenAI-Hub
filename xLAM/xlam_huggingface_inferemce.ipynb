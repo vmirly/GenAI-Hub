{
 "cells": [
  {
   "cell_type": "markdown",
   "id": "22de8481",
   "metadata": {},
   "source": [
    "xLAM\n",
    "===\n",
    "\n",
    "**xLAM: A Family of Large Action Models to Empower AI Agent Systems**\n",
    "\n",
    "* Paper: https://arxiv.org/abs/2409.03215"
   ]
  },
  {
   "cell_type": "code",
   "execution_count": null,
   "id": "d50a3266",
   "metadata": {
    "vscode": {
     "languageId": "plaintext"
    }
   },
   "outputs": [],
   "source": []
  }
 ],
 "metadata": {
  "language_info": {
   "name": "python"
  }
 },
 "nbformat": 4,
 "nbformat_minor": 5
}
