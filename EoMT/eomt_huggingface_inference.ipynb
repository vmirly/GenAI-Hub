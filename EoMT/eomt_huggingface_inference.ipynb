{
 "cells": [
  {
   "cell_type": "markdown",
   "id": "e241eb65",
   "metadata": {},
   "source": [
    "EoMT\n",
    "=====\n",
    "\n",
    "\n",
    "**Your ViT is Secretly an Image Segmentation Model**\n",
    " * Paper: https://arxiv.org/abs/2503.19108\n",
    "\n",
    "![EOMT Comparison](../assets/eomt_comparison.png)\n",
    "\n",
    "![EOMT Architecture](../assets/eomt_arch.png)"
   ]
  },
  {
   "cell_type": "code",
   "execution_count": null,
   "id": "2c3dfc75",
   "metadata": {},
   "outputs": [],
   "source": []
  }
 ],
 "metadata": {
  "kernelspec": {
   "display_name": "eomt",
   "language": "python",
   "name": "python3"
  },
  "language_info": {
   "codemirror_mode": {
    "name": "ipython",
    "version": 3
   },
   "file_extension": ".py",
   "mimetype": "text/x-python",
   "name": "python",
   "nbconvert_exporter": "python",
   "pygments_lexer": "ipython3",
   "version": "3.12.11"
  }
 },
 "nbformat": 4,
 "nbformat_minor": 5
}
