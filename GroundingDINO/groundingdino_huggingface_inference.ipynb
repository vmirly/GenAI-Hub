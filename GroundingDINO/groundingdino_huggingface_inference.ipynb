{
 "cells": [
  {
   "cell_type": "markdown",
   "metadata": {},
   "source": [
    "GroundingDINO\n",
    "====\n",
    "\n",
    "**Grounding DINO: Marrying DINO with Grounded Pre-Training for Open-Set Object Detection**\n",
    " * Paper: https://arxiv.org/abs/2303.05499\n",
    "\n",
    "![GroundingDINO](../assets/groundingdino_overview.png)\n",
    "\n",
    "```bash\n",
    "pip install torch torchvision\n",
    "pip install transformers\n",
    "pip install matplotlib\n",
    "pip install supervision\n",
    "```"
   ]
  },
  {
   "cell_type": "markdown",
   "metadata": {},
   "source": []
  }
 ],
 "metadata": {
  "language_info": {
   "name": "python"
  }
 },
 "nbformat": 4,
 "nbformat_minor": 2
}
