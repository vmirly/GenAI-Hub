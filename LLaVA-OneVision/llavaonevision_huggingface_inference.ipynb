{
 "cells": [
  {
   "cell_type": "markdown",
   "metadata": {},
   "source": [
    "LLaVA-OneVision\n",
    "===\n",
    "\n",
    "## LLaVA-OneVision: Easy Visual Task Transfer\n",
    "\n",
    "Paper: https://arxiv.org/abs/2408.03326\n",
    "\n",
    "![LLaVA-OneVision Overview](../assets/llava-onevision-overview.png)\n",
    "\n",
    "```bash\n",
    "pip install torch torchvision\n",
    "pip install transformers\n",
    "pip install matplotlib\n",
    "pip install supervision\n",
    "```"
   ]
  },
  {
   "cell_type": "markdown",
   "metadata": {},
   "source": []
  }
 ],
 "metadata": {
  "kernelspec": {
   "display_name": "py311",
   "language": "python",
   "name": "python3"
  },
  "language_info": {
   "name": "python",
   "version": "3.11.11"
  }
 },
 "nbformat": 4,
 "nbformat_minor": 2
}
