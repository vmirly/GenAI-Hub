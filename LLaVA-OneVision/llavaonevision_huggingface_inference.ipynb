{
 "cells": [
  {
   "cell_type": "markdown",
   "metadata": {},
   "source": [
    "LLaVA-OneVision\n",
    "===\n",
    "\n",
    "## LLaVA-OneVision: Easy Visual Task Transfer\n",
    "\n",
    "Paper: https://arxiv.org/abs/2408.03326\n",
    "\n",
    "![LLaVA-OneVision Overview](../assets/llava-onevision-overview.png)\n",
    "\n",
    "```bash\n",
    "pip install torch torchvision\n",
    "pip install transformers\n",
    "pip install matplotlib\n",
    "pip install supervision\n",
    "```"
   ]
  },
  {
   "cell_type": "code",
   "execution_count": 2,
   "metadata": {},
   "outputs": [
    {
     "data": {
      "application/vnd.jupyter.widget-view+json": {
       "model_id": "9a7c6681629a4b8892a99e01b3bb8f24",
       "version_major": 2,
       "version_minor": 0
      },
      "text/plain": [
       "Loading checkpoint shards:   0%|          | 0/4 [00:00<?, ?it/s]"
      ]
     },
     "metadata": {},
     "output_type": "display_data"
    }
   ],
   "source": [
    "import base64\n",
    "from io import BytesIO\n",
    "from PIL import Image\n",
    "import torch\n",
    "from transformers import AutoProcessor, LlavaOnevisionForConditionalGeneration\n",
    "\n",
    "processor = AutoProcessor.from_pretrained(\n",
    "    \"llava-hf/llava-onevision-qwen2-7b-ov-hf\"\n",
    ") \n",
    "model = LlavaOnevisionForConditionalGeneration.from_pretrained(\n",
    "    \"llava-hf/llava-onevision-qwen2-7b-ov-hf\",\n",
    "    torch_dtype=torch.float16,\n",
    "    low_cpu_mem_usage=True,\n",
    "    device_map=\"cuda:0\"\n",
    ")"
   ]
  },
  {
   "cell_type": "code",
   "execution_count": null,
   "metadata": {},
   "outputs": [
    {
     "data": {
      "text/plain": [
       "dict_keys(['input_ids', 'attention_mask', 'pixel_values', 'image_sizes'])"
      ]
     },
     "execution_count": 3,
     "metadata": {},
     "output_type": "execute_result"
    }
   ],
   "source": [
    "image1 = Image.open(\"../samples/fruits-01.jpg\")\n",
    "\n",
    "def load_image_as_base64(image):\n",
    "    buffer = BytesIO()\n",
    "    image.save(buffer, format=\"JPEG\")\n",
    "    return base64.b64encode(buffer.getvalue()).decode(\"utf-8\")\n",
    "\n",
    "image1_base64 = load_image_as_base64(image1)\n",
    "\n",
    "conversation = [\n",
    "    {\n",
    "        \"role\": \"user\",\n",
    "        \"content\": [\n",
    "            {\"type\": \"image\", \"url\": \"data:image/jpeg;base64,\" + image1_base64},\n",
    "            {\"type\": \"text\", \"text\": \"What is shown in this image?\"},\n",
    "        ],\n",
    "    },\n",
    "]\n",
    "\n",
    "inputs = processor.apply_chat_template(\n",
    "    conversation, add_generation_prompt=True,\n",
    "    tokenize=True, return_dict=True, return_tensors=\"pt\"\n",
    ")\n",
    "inputs = inputs.to(\"cuda:0\", torch.float16)\n",
    "\n",
    "inputs.keys()\n"
   ]
  },
  {
   "cell_type": "code",
   "execution_count": 4,
   "metadata": {},
   "outputs": [
    {
     "name": "stderr",
     "output_type": "stream",
     "text": [
      "Setting `pad_token_id` to `eos_token_id`:151645 for open-end generation.\n"
     ]
    },
    {
     "name": "stdout",
     "output_type": "stream",
     "text": [
      "user \n",
      "What is shown in this image?assistant\n",
      "The image shows a collection of fruits and vegetables, including blueberries, raspberries, cucumbers, and possibly some other items that are not clearly identifiable. The focus is on the fresh produce, which is arranged in a way that highlights the variety and colors of the fruits and vegetables.\n"
     ]
    }
   ],
   "source": [
    "output = model.generate(**inputs, max_new_tokens=100)\n",
    "print(processor.decode(output[0], skip_special_tokens=True))"
   ]
  },
  {
   "cell_type": "code",
   "execution_count": null,
   "metadata": {},
   "outputs": [],
   "source": []
  }
 ],
 "metadata": {
  "kernelspec": {
   "display_name": "py311",
   "language": "python",
   "name": "python3"
  },
  "language_info": {
   "codemirror_mode": {
    "name": "ipython",
    "version": 3
   },
   "file_extension": ".py",
   "mimetype": "text/x-python",
   "name": "python",
   "nbconvert_exporter": "python",
   "pygments_lexer": "ipython3",
   "version": "3.11.11"
  }
 },
 "nbformat": 4,
 "nbformat_minor": 2
}
