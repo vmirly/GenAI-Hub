{
 "cells": [
  {
   "cell_type": "markdown",
   "id": "8fcca211",
   "metadata": {},
   "source": [
    "VisionReasoner\n",
    "====\n",
    "\n",
    " **VisionReasoner: Unified Visual Perception and Reasoning via Reinforcement Learning**\n",
    "\n",
    "* Paper: https://arxiv.org/abs/2505.12081\n",
    "\n",
    "![VisionReasoner Overview](../assets/visionreasoner_overview.jpg)"
   ]
  },
  {
   "cell_type": "markdown",
   "id": "2a2e5157",
   "metadata": {},
   "source": [
    "* Installation\n",
    "\n",
    "```bash\n",
    "git clone https://github.com/dvlab-research/VisionReasoner.git VisionReasoner_repo\n",
    "cd VisionReasoner_repo\n",
    "conda create -n visionreasoner_test python=3.12\n",
    "conda activate visionreasoner_test\n",
    "pip3 install torch torchvision\n",
    "pip install -r requirements.txt\n",
    "```\n",
    "\n",
    "* FlashAttention\n",
    "If you dont have flash-attention installed, and don't want to install it, change the following lines to `\"eager\"`\n",
    "\n",
    "```\n",
    "# Line 63 - File: VisionReasoner_repo/vision_reasoner/models/vision_reasoner_model.py\n",
    "attn_implementation=\"flash_attention_2\", # -> \"eager\"\n",
    "\n",
    "# Line 11 - File VisionReasoner_repo/vision_reasoner/models/task_router.py\n",
    "attn_implementation=\"flash_attention_2\", # -> \"eager\"\n",
    "```"
   ]
  }
 ],
 "metadata": {
  "language_info": {
   "name": "python"
  }
 },
 "nbformat": 4,
 "nbformat_minor": 5
}
