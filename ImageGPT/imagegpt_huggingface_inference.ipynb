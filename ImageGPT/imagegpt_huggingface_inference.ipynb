{
 "cells": [
  {
   "cell_type": "markdown",
   "id": "cdcf4626",
   "metadata": {},
   "source": [
    "ImageGPT\n",
    "====\n",
    "\n",
    "**Generative Pretraining from Pixels**\n",
    "\n",
    " * Paper: https://cdn.openai.com/papers/Generative_Pretraining_from_Pixels_V2.pdf\n",
    "\n",
    " ![ImageGPT Overview](../assets/imagegpt_overview.png)\n",
    "\n",
    "\n",
    "```bash\n",
    "pip install torch torchvision\n",
    "pip install -U transformers\n",
    "# requires huggingface-hub >=0.30.0\n",
    "```"
   ]
  },
  {
   "cell_type": "code",
   "execution_count": 2,
   "id": "81c3d9ab",
   "metadata": {},
   "outputs": [
    {
     "data": {
      "text/plain": [
       "'0.30.2'"
      ]
     },
     "execution_count": 2,
     "metadata": {},
     "output_type": "execute_result"
    }
   ],
   "source": [
    "import huggingface_hub\n",
    "\n",
    "huggingface_hub.__version__"
   ]
  },
  {
   "cell_type": "code",
   "execution_count": 3,
   "id": "b6fd2449",
   "metadata": {},
   "outputs": [],
   "source": [
    "import torch\n",
    "import matplotlib.pyplot as plt\n",
    "import numpy as np\n",
    "from transformers import (\n",
    "    ImageGPTImageProcessor,\n",
    "    ImageGPTForCausalImageModeling\n",
    ")\n",
    "\n",
    "processor = ImageGPTImageProcessor.from_pretrained(\n",
    "   \"openai/imagegpt-small\"\n",
    ")\n",
    "model = ImageGPTForCausalImageModeling.from_pretrained(\n",
    "   \"openai/imagegpt-small\"\n",
    ")\n",
    "\n",
    "device = torch.device(\"cuda\" if torch.cuda.is_available() else \"cpu\")\n",
    "model.eval().to(device);"
   ]
  },
  {
   "cell_type": "code",
   "execution_count": 4,
   "id": "c1205263",
   "metadata": {},
   "outputs": [
    {
     "name": "stderr",
     "output_type": "stream",
     "text": [
      "/tmp/ipykernel_3224/1725894312.py:4: UserWarning: To copy construct from a tensor, it is recommended to use sourceTensor.detach().clone() or sourceTensor.detach().clone().requires_grad_(True), rather than torch.tensor(sourceTensor).\n",
      "  context = torch.tensor(context).to(device)\n"
     ]
    },
    {
     "name": "stdout",
     "output_type": "stream",
     "text": [
      "context shape: torch.Size([8, 1])\n"
     ]
    },
    {
     "name": "stderr",
     "output_type": "stream",
     "text": [
      "This is a friendly reminder - the current text generation call will exceed the model's predefined maximum length (1024). Depending on the model, you may observe exceptions, performance degradation, or nothing at all.\n"
     ]
    },
    {
     "name": "stdout",
     "output_type": "stream",
     "text": [
      "output shape: torch.Size([8, 1025])\n"
     ]
    }
   ],
   "source": [
    "# unconditional generation of 8 images\n",
    "batch_size = 8\n",
    "context = torch.full((batch_size, 1), model.config.vocab_size - 1) #initialize with SOS token\n",
    "context = torch.tensor(context).to(device)\n",
    "print(\"context shape:\", context.shape)\n",
    "\n",
    "output = model.generate(\n",
    "    inputs=context,\n",
    "    max_length=model.config.n_positions + 1,\n",
    "    temperature=1.0, do_sample=True, top_k=40\n",
    ")\n",
    "print(\"output shape:\", output.shape)"
   ]
  },
  {
   "cell_type": "code",
   "execution_count": null,
   "id": "38ecc2d4",
   "metadata": {},
   "outputs": [],
   "source": []
  }
 ],
 "metadata": {
  "kernelspec": {
   "display_name": "py311",
   "language": "python",
   "name": "python3"
  },
  "language_info": {
   "codemirror_mode": {
    "name": "ipython",
    "version": 3
   },
   "file_extension": ".py",
   "mimetype": "text/x-python",
   "name": "python",
   "nbconvert_exporter": "python",
   "pygments_lexer": "ipython3",
   "version": "3.10.16"
  }
 },
 "nbformat": 4,
 "nbformat_minor": 5
}
