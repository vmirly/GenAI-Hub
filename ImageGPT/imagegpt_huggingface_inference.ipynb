{
 "cells": [
  {
   "cell_type": "markdown",
   "id": "cdcf4626",
   "metadata": {},
   "source": [
    "ImageGPT\n",
    "====\n",
    "\n",
    "**Generative Pretraining from Pixels**\n",
    "\n",
    " * Paper: https://cdn.openai.com/papers/Generative_Pretraining_from_Pixels_V2.pdf\n",
    "\n",
    " ![ImageGPT Overview](../assets/imagegpt_overview.png)\n",
    "\n",
    "\n",
    "```bash\n",
    "pip install torch torchvision\n",
    "pip install -U transformers\n",
    "# requires huggingface-hub >=0.30.0\n",
    "```"
   ]
  },
  {
   "cell_type": "code",
   "execution_count": 2,
   "id": "81c3d9ab",
   "metadata": {},
   "outputs": [
    {
     "data": {
      "text/plain": [
       "'0.30.2'"
      ]
     },
     "execution_count": 2,
     "metadata": {},
     "output_type": "execute_result"
    }
   ],
   "source": [
    "import huggingface_hub\n",
    "\n",
    "huggingface_hub.__version__"
   ]
  },
  {
   "cell_type": "code",
   "execution_count": null,
   "id": "b6fd2449",
   "metadata": {},
   "outputs": [],
   "source": []
  }
 ],
 "metadata": {
  "kernelspec": {
   "display_name": "py311",
   "language": "python",
   "name": "python3"
  },
  "language_info": {
   "codemirror_mode": {
    "name": "ipython",
    "version": 3
   },
   "file_extension": ".py",
   "mimetype": "text/x-python",
   "name": "python",
   "nbconvert_exporter": "python",
   "pygments_lexer": "ipython3",
   "version": "3.10.16"
  }
 },
 "nbformat": 4,
 "nbformat_minor": 5
}
