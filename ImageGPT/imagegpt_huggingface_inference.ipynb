{
 "cells": [
  {
   "cell_type": "markdown",
   "id": "cdcf4626",
   "metadata": {},
   "source": [
    "ImageGPT\n",
    "====\n",
    "\n",
    "**Generative Pretraining from Pixels**\n",
    "\n",
    " * Paper: https://cdn.openai.com/papers/Generative_Pretraining_from_Pixels_V2.pdf\n",
    "\n",
    " ![ImageGPT Overview](../assets/imagegpt_overview.png)"
   ]
  },
  {
   "cell_type": "markdown",
   "id": "a0950e16",
   "metadata": {},
   "source": []
  }
 ],
 "metadata": {
  "language_info": {
   "name": "python"
  }
 },
 "nbformat": 4,
 "nbformat_minor": 5
}
