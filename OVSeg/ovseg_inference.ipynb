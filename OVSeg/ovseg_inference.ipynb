{
 "cells": [
  {
   "cell_type": "markdown",
   "id": "b6517564",
   "metadata": {},
   "source": [
    "OVSeg\n",
    "====\n",
    "\n",
    " **Open-Vocabulary Semantic Segmentation with Mask-adapted CLIP**\n",
    "\n",
    "* Paper: https://arxiv.org/abs/2210.04150\n",
    "\n",
    "![OVSeg Overview](../assets/ovseg_overview.jpg)\n",
    "![OVSeg Prompting](../assets/ovseg_prompt.jpg)\n",
    "![OVSeg Two-Stage](../assets/ovseg_twostage.jpg)\n",
    "![OVSeg Image-Text](../assets/ovseg_imgtextmatching.jpg)\n",
    "\n"
   ]
  },
  {
   "cell_type": "markdown",
   "id": "006806ea",
   "metadata": {},
   "source": [
    " * Installation\n",
    "\n",
    "```bash\n",
    "git clone https://github.com/facebookresearch/ov-seg.git OVSeg_repo\n",
    "\n",
    "cd OVSeg_repo\n",
    "\n",
    "conda create --name ovseg python=3.8 -y\n",
    "conda activate ovseg\n",
    "conda install pytorch==1.10.1 torchvision==0.11.2 torchaudio==0.10.1 cudatoolkit=11.3 -c pytorch -c conda-forge\n",
    "pip install -r requirements.txt\n",
    "\n",
    "\n",
    "python -m pip install detectron2 -f https://dl.fbaipublicfiles.com/detectron2/wheels/cu113/torch1.10/index.html\n",
    "\n",
    "\n",
    "cd third_party/CLIP\n",
    "python -m pip install -Ue .\n",
    "```"
   ]
  },
  {
   "cell_type": "markdown",
   "id": "10d5f2c4",
   "metadata": {},
   "source": []
  }
 ],
 "metadata": {
  "language_info": {
   "name": "python"
  }
 },
 "nbformat": 4,
 "nbformat_minor": 5
}
