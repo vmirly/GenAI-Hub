{
 "cells": [
  {
   "cell_type": "markdown",
   "id": "b6517564",
   "metadata": {},
   "source": [
    "OVSeg\n",
    "====\n",
    "\n",
    " **Open-Vocabulary Semantic Segmentation with Mask-adapted CLIP**\n",
    "\n",
    "* Paper: https://arxiv.org/abs/2210.04150\n",
    "\n",
    "![OVSeg Overview](../assets/ovseg_overview.jpg)\n",
    "![OVSeg Prompting](../assets/ovseg_prompt.jpg)\n",
    "![OVSeg Two-Stage](../assets/ovseg_twostage.jpg)\n",
    "![OVSeg Image-Text](../assets/ovseg_imgtextmatching.jpg)\n",
    "\n"
   ]
  },
  {
   "cell_type": "markdown",
   "id": "e724b5b9",
   "metadata": {},
   "source": []
  }
 ],
 "metadata": {
  "language_info": {
   "name": "python"
  }
 },
 "nbformat": 4,
 "nbformat_minor": 5
}
