{
 "cells": [
  {
   "cell_type": "markdown",
   "id": "0a0cecc5",
   "metadata": {},
   "source": [
    "YOLOS for Fashion\n",
    "====\n"
   ]
  },
  {
   "cell_type": "code",
   "execution_count": 1,
   "id": "e69a68ba",
   "metadata": {},
   "outputs": [
    {
     "name": "stderr",
     "output_type": "stream",
     "text": [
      "TqdmWarning: IProgress not found. Please update jupyter and ipywidgets. See https://ipywidgets.readthedocs.io/en/stable/user_install.html\n",
      "FutureWarning: The class YolosFeatureExtractor is deprecated and will be removed in version 5 of Transformers. Please use YolosImageProcessor instead.\n"
     ]
    }
   ],
   "source": [
    "from PIL import Image\n",
    "import supervision as sv\n",
    "import matplotlib.pyplot as plt\n",
    "import torch\n",
    "from transformers import YolosFeatureExtractor, YolosForObjectDetection\n",
    "\n",
    "\n",
    "device = torch.device(\"cuda\" if torch.cuda.is_available() else \"cpu\")\n",
    "feature_extractor = YolosFeatureExtractor.from_pretrained(\n",
    "    'hustvl/yolos-small'\n",
    ")\n",
    "model = YolosForObjectDetection.from_pretrained(\n",
    "    \"valentinafeve/yolos-fashionpedia\"\n",
    ").eval().to(device);\n"
   ]
  },
  {
   "cell_type": "code",
   "execution_count": 12,
   "id": "dbc86367",
   "metadata": {},
   "outputs": [],
   "source": [
    "CATS = [\n",
    "    'shirt, blouse', 'top, t-shirt, sweatshirt',\n",
    "    'sweater', 'cardigan', 'jacket', 'vest', 'pants',\n",
    "    'shorts', 'skirt', 'coat', 'dress', 'jumpsuit',\n",
    "    'cape', 'glasses', 'hat',\n",
    "    'headband, head covering, hair accessory',\n",
    "    'tie', 'glove', 'watch', 'belt', 'leg warmer',\n",
    "    'tights, stockings', 'sock', 'shoe', 'bag, wallet',\n",
    "    'scarf', 'umbrella', 'hood', 'collar', 'lapel',\n",
    "    'epaulette', 'sleeve', 'pocket', 'neckline',\n",
    "    'buckle', 'zipper', 'applique', 'bead', 'bow',\n",
    "    'flower', 'fringe', 'ribbon', 'rivet', 'ruffle',\n",
    "    'sequin', 'tassel'\n",
    "]"
   ]
  },
  {
   "cell_type": "code",
   "execution_count": 3,
   "id": "f8fad74b",
   "metadata": {},
   "outputs": [
    {
     "data": {
      "text/plain": [
       "(torch.Size([1, 100, 47]), torch.Size([1, 100, 4]))"
      ]
     },
     "execution_count": 3,
     "metadata": {},
     "output_type": "execute_result"
    }
   ],
   "source": [
    "image_path = \"../samples/person.jpg\"\n",
    "\n",
    "image = Image.open(image_path).convert(\"RGB\")\n",
    "image = image.resize((600, 800))\n",
    "\n",
    "\n",
    "inputs = feature_extractor(images=image, return_tensors=\"pt\")\n",
    "inputs = inputs.to(device)\n",
    "\n",
    "with torch.no_grad():\n",
    "    outputs = model(**inputs)\n",
    "\n",
    "outputs.logits.shape, outputs.pred_boxes.shape"
   ]
  },
  {
   "cell_type": "code",
   "execution_count": 14,
   "id": "24727566",
   "metadata": {},
   "outputs": [
    {
     "name": "stdout",
     "output_type": "stream",
     "text": [
      "torch.Size([1, 100, 47]) torch.Size([1, 100, 46])\n",
      "torch.Size([7, 4]) torch.Size([7]) torch.Size([7])\n",
      "Detected collar with confidence 0.952\n",
      "Detected lapel with confidence 0.662\n",
      "Detected jacket with confidence 0.694\n",
      "Detected sleeve with confidence 0.980\n",
      "Detected shirt, blouse with confidence 0.671\n",
      "Detected sleeve with confidence 0.990\n",
      "Detected pocket with confidence 0.803\n"
     ]
    }
   ],
   "source": [
    "import torch.nn.functional as F\n",
    "\n",
    "probas = F.softmax(outputs.logits, dim=-1)\n",
    "probs_wout_bg = probas[..., :-1]\n",
    "print(probas.shape, probs_wout_bg.shape)\n",
    "\n",
    "scores, labels = probs_wout_bg.max(dim=-1)\n",
    "\n",
    "# filter low-confidence predictions\n",
    "keep = scores[0] > 0.6\n",
    "filtered_boxes = outputs.pred_boxes[0][keep]\n",
    "filtered_scores = scores[0][keep]\n",
    "filtered_labels = labels[0][keep]\n",
    "\n",
    "print(\n",
    "    filtered_boxes.shape,\n",
    "    filtered_scores.shape,\n",
    "    filtered_labels.shape\n",
    ")\n",
    "\n",
    "# print the predicted classes:\n",
    "for score, label in zip(filtered_scores, filtered_labels):\n",
    "    print(\n",
    "        f\"Detected {CATS[label.item()]} with confidence \"\n",
    "        f\"{score.item():.3f}\"\n",
    "    )"
   ]
  },
  {
   "cell_type": "code",
   "execution_count": null,
   "id": "fa71686c",
   "metadata": {},
   "outputs": [],
   "source": []
  }
 ],
 "metadata": {
  "kernelspec": {
   "display_name": "py311",
   "language": "python",
   "name": "python3"
  },
  "language_info": {
   "codemirror_mode": {
    "name": "ipython",
    "version": 3
   },
   "file_extension": ".py",
   "mimetype": "text/x-python",
   "name": "python",
   "nbconvert_exporter": "python",
   "pygments_lexer": "ipython3",
   "version": "3.10.16"
  }
 },
 "nbformat": 4,
 "nbformat_minor": 5
}
