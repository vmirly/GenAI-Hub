{
 "cells": [
  {
   "cell_type": "markdown",
   "id": "0a0cecc5",
   "metadata": {},
   "source": [
    "YOLOS for Fashion\n",
    "====\n"
   ]
  },
  {
   "cell_type": "markdown",
   "id": "a457692d",
   "metadata": {},
   "source": []
  }
 ],
 "metadata": {
  "language_info": {
   "name": "python"
  }
 },
 "nbformat": 4,
 "nbformat_minor": 5
}
