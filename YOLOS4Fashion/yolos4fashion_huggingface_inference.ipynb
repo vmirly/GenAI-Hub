{
 "cells": [
  {
   "cell_type": "markdown",
   "id": "0a0cecc5",
   "metadata": {},
   "source": [
    "YOLOS for Fashion\n",
    "====\n"
   ]
  },
  {
   "cell_type": "code",
   "execution_count": 1,
   "id": "e69a68ba",
   "metadata": {},
   "outputs": [
    {
     "name": "stderr",
     "output_type": "stream",
     "text": [
      "TqdmWarning: IProgress not found. Please update jupyter and ipywidgets. See https://ipywidgets.readthedocs.io/en/stable/user_install.html\n",
      "FutureWarning: The class YolosFeatureExtractor is deprecated and will be removed in version 5 of Transformers. Please use YolosImageProcessor instead.\n"
     ]
    }
   ],
   "source": [
    "from PIL import Image\n",
    "import supervision as sv\n",
    "import matplotlib.pyplot as plt\n",
    "import torch\n",
    "from transformers import YolosFeatureExtractor, YolosForObjectDetection\n",
    "\n",
    "\n",
    "device = torch.device(\"cuda\" if torch.cuda.is_available() else \"cpu\")\n",
    "feature_extractor = YolosFeatureExtractor.from_pretrained(\n",
    "    'hustvl/yolos-small'\n",
    ")\n",
    "model = YolosForObjectDetection.from_pretrained(\n",
    "    \"valentinafeve/yolos-fashionpedia\"\n",
    ").eval().to(device);\n"
   ]
  },
  {
   "cell_type": "code",
   "execution_count": null,
   "id": "f8fad74b",
   "metadata": {},
   "outputs": [],
   "source": []
  }
 ],
 "metadata": {
  "kernelspec": {
   "display_name": "py311",
   "language": "python",
   "name": "python3"
  },
  "language_info": {
   "codemirror_mode": {
    "name": "ipython",
    "version": 3
   },
   "file_extension": ".py",
   "mimetype": "text/x-python",
   "name": "python",
   "nbconvert_exporter": "python",
   "pygments_lexer": "ipython3",
   "version": "3.10.16"
  }
 },
 "nbformat": 4,
 "nbformat_minor": 5
}
