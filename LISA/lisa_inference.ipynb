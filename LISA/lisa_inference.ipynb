{
 "cells": [
  {
   "cell_type": "markdown",
   "id": "b97e915d",
   "metadata": {},
   "source": [
    "LISA\n",
    "====\n",
    "\n",
    "**LISA: Reasoning Segmentation via Large Language Model**\n",
    "\n",
    " * Paper: https://arxiv.org/pdf/2308.00692\n",
    "\n",
    "![LISA overview](../assets/lisa_overview.png)\n",
    "\n",
    "```bash\n",
    "git clone https://github.com/dvlab-research/LISA.git lisa_repo\n",
    "```"
   ]
  },
  {
   "cell_type": "markdown",
   "id": "d1713c15",
   "metadata": {},
   "source": []
  }
 ],
 "metadata": {
  "language_info": {
   "name": "python"
  }
 },
 "nbformat": 4,
 "nbformat_minor": 5
}
