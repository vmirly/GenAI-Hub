{
 "cells": [
  {
   "cell_type": "markdown",
   "id": "b97e915d",
   "metadata": {},
   "source": [
    "LISA\n",
    "====\n",
    "\n",
    "**LISA: Reasoning Segmentation via Large Language Model**\n",
    "\n",
    " * Paper: https://arxiv.org/pdf/2308.00692\n",
    "\n",
    "![LISA overview](../assets/lisa_overview.png)\n",
    "\n",
    "```bash\n",
    "git clone https://github.com/dvlab-research/LISA.git lisa_repo\n",
    "\n",
    "# ubuntu 20.04, nvidia cuda 12.2\n",
    "# modeify requirements:\n",
    "# comment #--extra-index-url https://download.pytorch.org/whl/cu117\n",
    "# torch==2.1.2\n",
    "```\n",
    "\n",
    " * **Installation:**\n",
    "```bash\n",
    "conda create -n lisa python=3.10 -y\n",
    "conda activate lisa\n",
    "\n",
    "cv lisa_repo/\n",
    "pip install -r requirements.txt\n",
    "# note: cannot install flash-attn on ubuntu 20.04\n",
    "```"
   ]
  },
  {
   "cell_type": "code",
   "execution_count": 1,
   "id": "ac0816eb",
   "metadata": {},
   "outputs": [
    {
     "name": "stderr",
     "output_type": "stream",
     "text": [
      "/home/pyml/anaconda3/envs/lisa/lib/python3.10/site-packages/tqdm/auto.py:22: TqdmWarning: IProgress not found. Please update jupyter and ipywidgets. See https://ipywidgets.readthedocs.io/en/stable/user_install.html\n",
      "  from .autonotebook import tqdm as notebook_tqdm\n"
     ]
    }
   ],
   "source": [
    "import os\n",
    "import sys\n",
    "\n",
    "from PIL import Image\n",
    "import numpy as np\n",
    "import torch\n",
    "import torch.nn.functional as F\n",
    "from transformers import AutoTokenizer, BitsAndBytesConfig, CLIPImageProcessor\n",
    "\n",
    "sys.path.append(\"lisa_repo\")\n",
    "from model.LISA import LISAForCausalLM\n",
    "from model.llava import conversation as conversation_lib\n",
    "from model.llava.mm_utils import tokenizer_image_token\n",
    "from model.segment_anything.utils.transforms import ResizeLongestSide\n",
    "from utils.utils import (\n",
    "    DEFAULT_IM_END_TOKEN, DEFAULT_IM_START_TOKEN,\n",
    "    DEFAULT_IMAGE_TOKEN, IMAGE_TOKEN_INDEX\n",
    ")"
   ]
  },
  {
   "cell_type": "code",
   "execution_count": 2,
   "id": "b582efe9",
   "metadata": {},
   "outputs": [],
   "source": [
    "# set the variables according to this argument parser defaults:\n",
    "\n",
    "VERSION = \"xinlai/LISA-13B-llama2-v1\"\n",
    "OUTPUT_PATH = \"./vis_output\"\n",
    "PRECISION = \"bf16\"\n",
    "IMAGE_SIZE = 1024\n",
    "MODEL_MAX_LENGTH = 512\n",
    "LORA_R = 8\n",
    "VISION_TOWER = \"openai/clip-vit-large-patch14\"\n",
    "LOCAL_RANK = 0\n",
    "LOAD_IN_8BIT = True  # to save memory\n",
    "LOAD_IN_4BIT = False\n",
    "USE_MM_START_END = True\n",
    "CONV_TYPE = \"llava_v1\"  # choices: llava_v1 llava_llama_2\n"
   ]
  },
  {
   "cell_type": "code",
   "execution_count": 3,
   "id": "70759eaf",
   "metadata": {},
   "outputs": [
    {
     "name": "stderr",
     "output_type": "stream",
     "text": [
      "/home/pyml/anaconda3/envs/lisa/lib/python3.10/site-packages/huggingface_hub/file_download.py:943: FutureWarning: `resume_download` is deprecated and will be removed in version 1.0.0. Downloads always resume when possible. If you want to force a new download, use `force_download=True`.\n",
      "  warnings.warn(\n",
      "You are using the legacy behaviour of the <class 'transformers.models.llama.tokenization_llama.LlamaTokenizer'>. This means that tokens that come after special tokens will not be properly handled. We recommend you to read the related pull request available at https://github.com/huggingface/transformers/pull/24565\n",
      "Loading checkpoint shards: 100%|██████████| 3/3 [00:13<00:00,  4.47s/it]\n",
      "/home/pyml/anaconda3/envs/lisa/lib/python3.10/site-packages/huggingface_hub/file_download.py:943: FutureWarning: `resume_download` is deprecated and will be removed in version 1.0.0. Downloads always resume when possible. If you want to force a new download, use `force_download=True`.\n",
      "  warnings.warn(\n",
      "You shouldn't move a model that is dispatched using accelerate hooks.\n"
     ]
    }
   ],
   "source": [
    "# Create model\n",
    "tokenizer = AutoTokenizer.from_pretrained(\n",
    "    VERSION,\n",
    "    cache_dir=None,\n",
    "    model_max_length=MODEL_MAX_LENGTH,\n",
    "    padding_side=\"right\",\n",
    "    use_fast=False,\n",
    ")\n",
    "\n",
    "tokenizer.pad_token = tokenizer.unk_token\n",
    "seg_token_idx = tokenizer(\n",
    "    \"[SEG]\", add_special_tokens=False\n",
    ").input_ids[0]\n",
    "\n",
    "\n",
    "torch_dtype = torch.float32\n",
    "if PRECISION == \"bf16\":\n",
    "    torch_dtype = torch.bfloat16\n",
    "elif PRECISION == \"fp16\":\n",
    "    torch_dtype = torch.half\n",
    "\n",
    "kwargs = {\"torch_dtype\": torch_dtype}\n",
    "if LOAD_IN_4BIT:\n",
    "    kwargs.update(\n",
    "        {\n",
    "            \"torch_dtype\": torch.half,\n",
    "            \"load_in_4bit\": True,\n",
    "            \"quantization_config\": BitsAndBytesConfig(\n",
    "                load_in_4bit=True,\n",
    "                bnb_4bit_compute_dtype=torch.float16,\n",
    "                bnb_4bit_use_double_quant=True,\n",
    "                bnb_4bit_quant_type=\"nf4\",\n",
    "                llm_int8_skip_modules=[\"visual_model\"],\n",
    "            ),\n",
    "        }\n",
    "    )\n",
    "elif LOAD_IN_8BIT:\n",
    "    kwargs.update(\n",
    "        {\n",
    "            \"torch_dtype\": torch.half,\n",
    "            \"quantization_config\": BitsAndBytesConfig(\n",
    "                llm_int8_skip_modules=[\"visual_model\"],\n",
    "                load_in_8bit=True,\n",
    "            ),\n",
    "        }\n",
    "    )\n",
    "\n",
    "model = LISAForCausalLM.from_pretrained(\n",
    "    VERSION, low_cpu_mem_usage=True,\n",
    "    vision_tower=VISION_TOWER,\n",
    "    seg_token_idx=seg_token_idx,\n",
    "    **kwargs\n",
    ")\n",
    "\n",
    "model.config.eos_token_id = tokenizer.eos_token_id\n",
    "model.config.bos_token_id = tokenizer.bos_token_id\n",
    "model.config.pad_token_id = tokenizer.pad_token_id\n",
    "\n",
    "model.get_model().initialize_vision_modules(model.get_model().config)\n",
    "vision_tower = model.get_model().get_vision_tower()\n",
    "vision_tower.to(dtype=torch_dtype)\n",
    "\n",
    "if PRECISION == \"bf16\":\n",
    "    model = model.bfloat16().cuda()\n",
    "elif PRECISION == \"fp32\":\n",
    "    model = model.float().cuda()\n",
    "\n",
    "vision_tower = model.get_model().get_vision_tower()\n",
    "vision_tower.to(device=LOCAL_RANK)\n",
    "\n",
    "clip_image_processor = CLIPImageProcessor.from_pretrained(model.config.vision_tower)\n",
    "transform = ResizeLongestSide(IMAGE_SIZE)\n",
    "\n",
    "model.eval();\n"
   ]
  },
  {
   "cell_type": "code",
   "execution_count": 4,
   "id": "81fff75f",
   "metadata": {},
   "outputs": [
    {
     "name": "stdout",
     "output_type": "stream",
     "text": [
      "DEFAULT_IM_END_TOKEN: <im_end>\n",
      "DEFAULT_IM_START_TOKEN: <im_start>\n",
      "DEFAULT_IMAGE_TOKEN: <image>\n",
      "IMAGE_TOKEN_INDEX: -200\n"
     ]
    }
   ],
   "source": [
    "print(\"DEFAULT_IM_END_TOKEN:\", DEFAULT_IM_END_TOKEN)\n",
    "print(\"DEFAULT_IM_START_TOKEN:\", DEFAULT_IM_START_TOKEN)\n",
    "print(\"DEFAULT_IMAGE_TOKEN:\", DEFAULT_IMAGE_TOKEN)\n",
    "print(\"IMAGE_TOKEN_INDEX:\", IMAGE_TOKEN_INDEX)"
   ]
  },
  {
   "cell_type": "code",
   "execution_count": 5,
   "id": "63d70f04",
   "metadata": {},
   "outputs": [],
   "source": [
    "PIXEL_MEAN = torch.Tensor([123.675, 116.28, 103.53]).view(-1, 1, 1)\n",
    "PIXEL_STD = torch.Tensor([58.395, 57.12, 57.375]).view(-1, 1, 1)\n",
    "\n",
    "def preprocess(\n",
    "        x,\n",
    "        pixel_mean=PIXEL_MEAN, pixel_std=PIXEL_STD,\n",
    "        img_size=1024,\n",
    "    ) -> torch.Tensor:\n",
    "    \"\"\"Normalize pixel values and pad to a square input.\"\"\"\n",
    "    # Normalize colors\n",
    "    x = (x - pixel_mean) / pixel_std\n",
    "    # Pad\n",
    "    h, w = x.shape[-2:]\n",
    "    padh = img_size - h\n",
    "    padw = img_size - w\n",
    "    x = F.pad(x, (0, padw, 0, padh))\n",
    "    return x\n"
   ]
  },
  {
   "cell_type": "code",
   "execution_count": null,
   "id": "164daf02",
   "metadata": {},
   "outputs": [],
   "source": []
  }
 ],
 "metadata": {
  "kernelspec": {
   "display_name": "lisa",
   "language": "python",
   "name": "python3"
  },
  "language_info": {
   "codemirror_mode": {
    "name": "ipython",
    "version": 3
   },
   "file_extension": ".py",
   "mimetype": "text/x-python",
   "name": "python",
   "nbconvert_exporter": "python",
   "pygments_lexer": "ipython3",
   "version": "3.10.18"
  }
 },
 "nbformat": 4,
 "nbformat_minor": 5
}
