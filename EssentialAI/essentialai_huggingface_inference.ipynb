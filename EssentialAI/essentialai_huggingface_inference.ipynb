{
 "cells": [
  {
   "cell_type": "markdown",
   "id": "d20999b2",
   "metadata": {},
   "source": [
    "EAI-Distill\n",
    "====\n",
    "\n",
    "**ESSENTIAL-WEB V1.0: 24T tokens of organized web data**\n",
    "\n",
    " * Paper: https://arxiv.org/abs/2506.14111\n",
    "\n",
    "![EssentialAI overview](../assets/essentialai_overview.png)"
   ]
  },
  {
   "cell_type": "code",
   "execution_count": 1,
   "id": "0b715f75",
   "metadata": {},
   "outputs": [
    {
     "name": "stderr",
     "output_type": "stream",
     "text": [
      "/home/pyml/anaconda3/envs/py311/lib/python3.10/site-packages/tqdm/auto.py:21: TqdmWarning: IProgress not found. Please update jupyter and ipywidgets. See https://ipywidgets.readthedocs.io/en/stable/user_install.html\n",
      "  from .autonotebook import tqdm as notebook_tqdm\n"
     ]
    }
   ],
   "source": [
    "import random\n",
    "import torch\n",
    "from transformers import AutoTokenizer, AutoModelForCausalLM\n",
    "\n",
    "device = torch.device(\"cuda\" if torch.cuda.is_available() else \"cpu\")\n",
    "\n",
    "# Load model and tokenizer\n",
    "tokenizer = AutoTokenizer.from_pretrained(\n",
    "    \"EssentialAI/EAI-Distill-0.5b\",\n",
    "    trust_remote_code=True\n",
    ")\n",
    "model = AutoModelForCausalLM.from_pretrained(\n",
    "    \"EssentialAI/EAI-Distill-0.5b\"\n",
    ")\n",
    "\n",
    "model.eval().to(device);"
   ]
  },
  {
   "cell_type": "code",
   "execution_count": 4,
   "id": "fd7586a8",
   "metadata": {},
   "outputs": [],
   "source": [
    "def chunk_text(text, max_char_per_doc=30000):\n",
    "    if len(text) <= max_char_per_doc:\n",
    "        return text\n",
    "        \n",
    "    chunk_size = max_char_per_doc // 3\n",
    "    start = text[:chunk_size]\n",
    "    \n",
    "    middle_start = chunk_size \n",
    "    middle_end = len(text) - chunk_size \n",
    "    \n",
    "    mid_point = random.randint(\n",
    "        middle_start + chunk_size//2,\n",
    "        middle_end - chunk_size//2\n",
    "    )\n",
    "    \n",
    "    middle = text[mid_point - chunk_size//2:mid_point + chunk_size//2]\n",
    "    end = text[-chunk_size:]\n",
    "    return f\"[beginning]\\n{start}\\n[middle]\\n{middle}\\n[end]\\n{end}\"\n",
    "\n",
    "\n",
    "def classify_document(text):\n",
    "    chunked_text = chunk_text(text)\n",
    "    \n",
    "    messages = [\n",
    "        {\"role\": \"system\", \"content\": \"taxonomy\"},\n",
    "        {\"role\": \"user\", \"content\": chunked_text},\n",
    "    ]\n",
    "    \n",
    "    prompt = tokenizer.apply_chat_template(\n",
    "        messages,\n",
    "        tokenize=False,\n",
    "        add_generation_prompt=True\n",
    "    )\n",
    "    \n",
    "    inputs = tokenizer(prompt, return_tensors=\"pt\").to(device)\n",
    "    outputs = model.generate(**inputs, max_new_tokens=100)\n",
    "    return tokenizer.decode(outputs[0], skip_special_tokens=True)\n"
   ]
  },
  {
   "cell_type": "code",
   "execution_count": null,
   "id": "2e0d7450",
   "metadata": {},
   "outputs": [],
   "source": []
  }
 ],
 "metadata": {
  "kernelspec": {
   "display_name": "py311",
   "language": "python",
   "name": "python3"
  },
  "language_info": {
   "codemirror_mode": {
    "name": "ipython",
    "version": 3
   },
   "file_extension": ".py",
   "mimetype": "text/x-python",
   "name": "python",
   "nbconvert_exporter": "python",
   "pygments_lexer": "ipython3",
   "version": "3.10.16"
  }
 },
 "nbformat": 4,
 "nbformat_minor": 5
}
