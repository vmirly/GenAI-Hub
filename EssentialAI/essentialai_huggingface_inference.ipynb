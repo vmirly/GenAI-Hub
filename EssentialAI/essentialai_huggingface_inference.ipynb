{
 "cells": [
  {
   "cell_type": "markdown",
   "id": "d20999b2",
   "metadata": {},
   "source": [
    "EAI-Distill\n",
    "====\n",
    "\n",
    "**ESSENTIAL-WEB V1.0: 24T tokens of organized web data**\n",
    "\n",
    " * Paper: https://arxiv.org/abs/2506.14111\n"
   ]
  },
  {
   "cell_type": "markdown",
   "id": "5ce406a4",
   "metadata": {},
   "source": []
  }
 ],
 "metadata": {
  "language_info": {
   "name": "python"
  }
 },
 "nbformat": 4,
 "nbformat_minor": 5
}
