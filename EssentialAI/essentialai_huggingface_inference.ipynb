{
 "cells": [
  {
   "cell_type": "markdown",
   "id": "d20999b2",
   "metadata": {},
   "source": [
    "EAI-Distill\n",
    "====\n",
    "\n",
    "**ESSENTIAL-WEB V1.0: 24T tokens of organized web data**\n",
    "\n",
    " * Paper: https://arxiv.org/abs/2506.14111\n",
    "\n",
    "![EssentialAI overview](../assets/essentialai_overview.png)"
   ]
  }
 ],
 "metadata": {
  "language_info": {
   "name": "python"
  }
 },
 "nbformat": 4,
 "nbformat_minor": 5
}
