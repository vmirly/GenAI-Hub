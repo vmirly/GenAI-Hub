{
 "cells": [
  {
   "cell_type": "markdown",
   "id": "29c2d09a",
   "metadata": {},
   "source": [
    "VGGT\n",
    "====\n",
    "\n",
    "**VGGT: Visual Geometry Grounded Transformer**\n",
    "\n",
    " * Paper: https://arxiv.org/abs/2503.11651\n",
    "\n",
    "![VGG Overview](../assets/vggt_overview.png)\n",
    "\n",
    "![VGGT Model](../assets/vggt_model_overview.png)\n",
    "\n",
    "```bash\n",
    "git clone https://github.com/facebookresearch/vggt.git\n",
    "\n",
    "pip install torch torchvision\n",
    "pip install transformers\n",
    "pip install einops\n",
    "```"
   ]
  }
 ],
 "metadata": {
  "language_info": {
   "name": "python"
  }
 },
 "nbformat": 4,
 "nbformat_minor": 5
}
