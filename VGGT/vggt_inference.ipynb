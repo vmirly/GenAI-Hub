{
 "cells": [
  {
   "cell_type": "markdown",
   "id": "29c2d09a",
   "metadata": {},
   "source": [
    "VGGT\n",
    "====\n",
    "\n",
    "**VGGT: Visual Geometry Grounded Transformer**\n",
    "\n",
    " * Paper: https://arxiv.org/abs/2503.11651\n",
    "\n",
    "![VGG Overview](../assets/vggt_overview.png)\n",
    "\n",
    "![VGGT Model](../assets/vggt_model_overview.png)\n",
    "\n",
    "```bash\n",
    "git clone https://github.com/facebookresearch/vggt.git\n",
    "\n",
    "pip install torch torchvision\n",
    "pip install transformers\n",
    "pip install einops\n",
    "```"
   ]
  },
  {
   "cell_type": "code",
   "execution_count": null,
   "id": "a2a4eba9",
   "metadata": {},
   "outputs": [
    {
     "name": "stderr",
     "output_type": "stream",
     "text": [
      "/home/pyml/anaconda3/envs/py311/lib/python3.10/site-packages/tqdm/auto.py:21: TqdmWarning: IProgress not found. Please update jupyter and ipywidgets. See https://ipywidgets.readthedocs.io/en/stable/user_install.html\n",
      "  from .autonotebook import tqdm as notebook_tqdm\n"
     ]
    },
    {
     "name": "stdout",
     "output_type": "stream",
     "text": [
      "Using device: cuda, dtype: torch.bfloat16\n"
     ]
    }
   ],
   "source": [
    "import sys\n",
    "import torch\n",
    "sys.path.append(\"vggt\")  # remember to clone the repo\n",
    "from vggt.models.vggt import VGGT\n",
    "from vggt.utils.load_fn import load_and_preprocess_images\n",
    "\n",
    "device = \"cuda\" if torch.cuda.is_available() else \"cpu\"\n",
    "# bfloat16 is supported on Ampere GPUs (Compute Capability 8.0+) \n",
    "dtype = (\n",
    "    torch.bfloat16\n",
    "    if torch.cuda.get_device_capability()[0] >= 8\n",
    "    else torch.float16\n",
    ")\n",
    "print(f\"Using device: {device}, dtype: {dtype}\")\n",
    "\n",
    "model = VGGT.from_pretrained(\"facebook/VGGT-1B\")\n",
    "model.eval().to(device);"
   ]
  },
  {
   "cell_type": "code",
   "execution_count": null,
   "id": "213554a8",
   "metadata": {},
   "outputs": [],
   "source": []
  }
 ],
 "metadata": {
  "kernelspec": {
   "display_name": "py311",
   "language": "python",
   "name": "python3"
  },
  "language_info": {
   "codemirror_mode": {
    "name": "ipython",
    "version": 3
   },
   "file_extension": ".py",
   "mimetype": "text/x-python",
   "name": "python",
   "nbconvert_exporter": "python",
   "pygments_lexer": "ipython3",
   "version": "3.10.16"
  }
 },
 "nbformat": 4,
 "nbformat_minor": 5
}
