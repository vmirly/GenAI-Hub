{
 "cells": [
  {
   "cell_type": "markdown",
   "id": "51318e35",
   "metadata": {},
   "source": [
    "WebSSL\n",
    "====\n",
    "\n",
    "**Scaling Language-Free Visual Representation Learning**\n",
    "\n",
    " * Paper: https://arxiv.org/abs/2504.01017\n",
    "\n",
    "![WebSSL Improvements](../assets/webssl_overview.png)\n",
    "\n",
    "```bash\n",
    "pip install torch torchvision\n",
    "pip install transformers\n",
    "```"
   ]
  },
  {
   "cell_type": "code",
   "execution_count": null,
   "id": "69ea6e24",
   "metadata": {},
   "outputs": [],
   "source": []
  }
 ],
 "metadata": {
  "kernelspec": {
   "display_name": "py311",
   "language": "python",
   "name": "python3"
  },
  "language_info": {
   "name": "python",
   "version": "3.11.11"
  }
 },
 "nbformat": 4,
 "nbformat_minor": 5
}
