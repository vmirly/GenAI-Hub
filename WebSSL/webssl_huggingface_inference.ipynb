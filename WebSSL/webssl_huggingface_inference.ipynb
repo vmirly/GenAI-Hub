{
 "cells": [
  {
   "cell_type": "markdown",
   "id": "51318e35",
   "metadata": {},
   "source": [
    "WebSSL\n",
    "====\n",
    "\n",
    "**Scaling Language-Free Visual Representation Learning**\n",
    "\n",
    " * Paper: https://arxiv.org/abs/2504.01017\n",
    "\n",
    "![WebSSL Improvements](../assets/webssl_overview.png)\n",
    "\n",
    "```bash\n",
    "pip install torch torchvision\n",
    "pip install transformers\n",
    "```"
   ]
  },
  {
   "cell_type": "code",
   "execution_count": 2,
   "id": "69ea6e24",
   "metadata": {},
   "outputs": [
    {
     "name": "stderr",
     "output_type": "stream",
     "text": [
      "`use_fast` is set to `True` but the image processor class does not have a fast version.  Falling back to the slow version.\n"
     ]
    }
   ],
   "source": [
    "from PIL import Image\n",
    "import torch\n",
    "from transformers import AutoImageProcessor, Dinov2Model\n",
    "\n",
    "device = torch.device(\"cuda\" if torch.cuda.is_available() else \"cpu\")\n",
    "processor = AutoImageProcessor.from_pretrained(\n",
    "    \"facebook/webssl-dino1b-full2b-224\",\n",
    "    use_fast=True\n",
    ")\n",
    "# 'eager' and 'sdpa' attn_implementation supported\n",
    "model = Dinov2Model.from_pretrained(\n",
    "    \"facebook/webssl-dino1b-full2b-224\"\n",
    ").eval().to(device);"
   ]
  },
  {
   "cell_type": "code",
   "execution_count": null,
   "id": "f23cb342",
   "metadata": {},
   "outputs": [],
   "source": []
  }
 ],
 "metadata": {
  "kernelspec": {
   "display_name": "py311",
   "language": "python",
   "name": "python3"
  },
  "language_info": {
   "codemirror_mode": {
    "name": "ipython",
    "version": 3
   },
   "file_extension": ".py",
   "mimetype": "text/x-python",
   "name": "python",
   "nbconvert_exporter": "python",
   "pygments_lexer": "ipython3",
   "version": "3.10.16"
  }
 },
 "nbformat": 4,
 "nbformat_minor": 5
}
