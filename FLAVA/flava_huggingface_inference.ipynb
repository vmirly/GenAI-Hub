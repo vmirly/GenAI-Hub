{
 "cells": [
  {
   "cell_type": "markdown",
   "metadata": {},
   "source": [
    "FLAVA\n",
    "====\n",
    "\n",
    "**FLAVA: A Foundational Language And Vision Alignment Mode**\n",
    "\n",
    "* Paper: https://arxiv.org/abs/2112.04482\n",
    "\n",
    "\n",
    "![FLAVA model overview](../assets/flava-model-overview.png)\n",
    "\n",
    "```bash\n",
    "pip install torch torchvision\n",
    "pip install transformers\n",
    "pip install matplotlib\n",
    "pip install supervision\n",
    "```"
   ]
  },
  {
   "cell_type": "markdown",
   "metadata": {},
   "source": []
  }
 ],
 "metadata": {
  "language_info": {
   "name": "python"
  }
 },
 "nbformat": 4,
 "nbformat_minor": 2
}
