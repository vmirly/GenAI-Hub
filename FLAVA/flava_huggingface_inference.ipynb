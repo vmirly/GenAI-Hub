{
 "cells": [
  {
   "cell_type": "markdown",
   "metadata": {},
   "source": [
    "FLAVA\n",
    "====\n",
    "\n",
    "**FLAVA: A Foundational Language And Vision Alignment Mode**\n",
    "\n",
    "* Paper: https://arxiv.org/abs/2112.04482\n",
    "\n",
    "\n",
    "![FLAVA model overview](../assets/flava-model-overview.png)\n",
    "\n",
    "```bash\n",
    "pip install torch torchvision\n",
    "pip install transformers\n",
    "pip install matplotlib\n",
    "pip install supervision\n",
    "```"
   ]
  },
  {
   "cell_type": "code",
   "execution_count": 1,
   "metadata": {},
   "outputs": [
    {
     "name": "stderr",
     "output_type": "stream",
     "text": [
      "/home/pyml/anaconda3/envs/py311/lib/python3.11/site-packages/tqdm/auto.py:21: TqdmWarning: IProgress not found. Please update jupyter and ipywidgets. See https://ipywidgets.readthedocs.io/en/stable/user_install.html\n",
      "  from .autonotebook import tqdm as notebook_tqdm\n"
     ]
    }
   ],
   "source": [
    "from PIL import Image\n",
    "import torch\n",
    "from transformers import FlavaProcessor, FlavaModel\n",
    "\n",
    "device = torch.device(\"cuda\" if torch.cuda.is_available() else \"cpu\")\n",
    "processor = FlavaProcessor.from_pretrained(\n",
    "    \"facebook/flava-full\"\n",
    ")\n",
    "model = FlavaModel.from_pretrained(\n",
    "    \"facebook/flava-full\"\n",
    ").to(device)"
   ]
  },
  {
   "cell_type": "code",
   "execution_count": 2,
   "metadata": {},
   "outputs": [
    {
     "name": "stdout",
     "output_type": "stream",
     "text": [
      "image embeddings shape: torch.Size([2, 197, 768])\n",
      "text embeddings shape: torch.Size([2, 77, 768])\n",
      "multimodal embeddings shape: torch.Size([2, 275, 768])\n"
     ]
    },
    {
     "name": "stderr",
     "output_type": "stream",
     "text": [
      "/home/pyml/anaconda3/envs/py311/lib/python3.11/site-packages/transformers/modeling_utils.py:1072: FutureWarning: The `device` argument is deprecated and will be removed in v5 of Transformers.\n",
      "  warnings.warn(\n"
     ]
    }
   ],
   "source": [
    "image1 = Image.open(\"../samples/fruits-01.jpg\")\n",
    "image2 = Image.open(\"../samples/plants.jpg\")\n",
    "\n",
    "inputs = processor(\n",
    "    text=[\n",
    "        \"a photo of fruits and vegetables\",\n",
    "        \"a photo of indoor plants\"\n",
    "    ],\n",
    "    images=[image1, image2],\n",
    "    return_tensors=\"pt\",\n",
    "    padding=\"max_length\",\n",
    "    max_length=77\n",
    ")\n",
    "inputs = {k: v.to(device) for k, v in inputs.items()}\n",
    "with torch.no_grad():\n",
    "    outputs = model(**inputs)\n",
    "image_embeddings = outputs.image_embeddings\n",
    "text_embeddings = outputs.text_embeddings\n",
    "multimodal_embeddings = outputs.multimodal_embeddings\n",
    "print(\"image embeddings shape:\", image_embeddings.shape)\n",
    "print(\"text embeddings shape:\", text_embeddings.shape)\n",
    "print(\"multimodal embeddings shape:\", multimodal_embeddings.shape)"
   ]
  },
  {
   "cell_type": "code",
   "execution_count": 3,
   "metadata": {},
   "outputs": [
    {
     "name": "stderr",
     "output_type": "stream",
     "text": [
      "/home/pyml/anaconda3/envs/py311/lib/python3.11/site-packages/transformers/models/flava/feature_extraction_flava.py:28: FutureWarning: The class FlavaFeatureExtractor is deprecated and will be removed in version 5 of Transformers. Please use FlavaImageProcessor instead.\n",
      "  warnings.warn(\n"
     ]
    },
    {
     "name": "stdout",
     "output_type": "stream",
     "text": [
      "image embeddings shape: torch.Size([2, 197, 768])\n",
      "text embeddings shape: torch.Size([2, 77, 768])\n"
     ]
    }
   ],
   "source": [
    "## Pimage-only\n",
    "from transformers import FlavaFeatureExtractor\n",
    "## text-only\n",
    "from transformers import BertTokenizer\n",
    "\n",
    "feature_extractor = FlavaFeatureExtractor.from_pretrained(\n",
    "    \"facebook/flava-full\"\n",
    ")\n",
    "inputs = feature_extractor(\n",
    "    images=[image1, image2], return_tensors=\"pt\"\n",
    ")\n",
    "inputs = {k: v.to(device) for k, v in inputs.items()}\n",
    "with torch.no_grad():\n",
    "    outputs = model(**inputs)\n",
    "image_embeddings = outputs.image_embeddings\n",
    "\n",
    "\n",
    "tokenizer = BertTokenizer.from_pretrained(\"facebook/flava-full\")\n",
    "inputs = tokenizer(\n",
    "    [\n",
    "        \"a photo of fruits and vegetables\",\n",
    "        \"a photo of indoor plants\"\n",
    "    ],\n",
    "    return_tensors=\"pt\",\n",
    "    padding=\"max_length\",\n",
    "    max_length=77\n",
    ")\n",
    "inputs = {k: v.to(device) for k, v in inputs.items()}\n",
    "with torch.no_grad():\n",
    "    outputs = model(**inputs)\n",
    "text_embeddings = outputs.text_embeddings\n",
    "\n",
    "print(\"image embeddings shape:\", image_embeddings.shape)\n",
    "print(\"text embeddings shape:\", text_embeddings.shape)\n"
   ]
  },
  {
   "cell_type": "code",
   "execution_count": null,
   "metadata": {},
   "outputs": [],
   "source": []
  }
 ],
 "metadata": {
  "kernelspec": {
   "display_name": "py311",
   "language": "python",
   "name": "python3"
  },
  "language_info": {
   "codemirror_mode": {
    "name": "ipython",
    "version": 3
   },
   "file_extension": ".py",
   "mimetype": "text/x-python",
   "name": "python",
   "nbconvert_exporter": "python",
   "pygments_lexer": "ipython3",
   "version": "3.11.11"
  }
 },
 "nbformat": 4,
 "nbformat_minor": 2
}
