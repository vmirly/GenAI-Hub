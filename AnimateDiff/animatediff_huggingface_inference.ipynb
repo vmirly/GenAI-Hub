{
 "cells": [
  {
   "cell_type": "markdown",
   "metadata": {},
   "source": [
    "AnimateDiff\n",
    "===\n",
    "\n",
    "**AnimateDiff-Lightning: Cross-Model Diffusion Distillation**\n",
    "\n",
    "* Paper: https://arxiv.org/pdf/2403.12706"
   ]
  },
  {
   "cell_type": "markdown",
   "metadata": {},
   "source": []
  }
 ],
 "metadata": {
  "language_info": {
   "name": "python"
  }
 },
 "nbformat": 4,
 "nbformat_minor": 2
}
