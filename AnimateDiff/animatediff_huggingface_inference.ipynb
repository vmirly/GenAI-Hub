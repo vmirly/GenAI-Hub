{
 "cells": [
  {
   "cell_type": "markdown",
   "metadata": {},
   "source": [
    "AnimateDiff\n",
    "===\n",
    "\n",
    "**AnimateDiff-Lightning: Cross-Model Diffusion Distillation**\n",
    "\n",
    "* Paper: https://arxiv.org/pdf/2403.12706"
   ]
  },
  {
   "cell_type": "code",
   "execution_count": 1,
   "metadata": {},
   "outputs": [
    {
     "data": {
      "application/vnd.jupyter.widget-view+json": {
       "model_id": "e4a84ead41f94ad6a28127b9346e3818",
       "version_major": 2,
       "version_minor": 0
      },
      "text/plain": [
       "(…)ff_lightning_8step_diffusers.safetensors:   0%|          | 0.00/908M [00:00<?, ?B/s]"
      ]
     },
     "metadata": {},
     "output_type": "display_data"
    },
    {
     "data": {
      "application/vnd.jupyter.widget-view+json": {
       "model_id": "2cee7804ad634c42a58cd7682318c121",
       "version_major": 2,
       "version_minor": 0
      },
      "text/plain": [
       "Loading pipeline components...:   0%|          | 0/6 [00:00<?, ?it/s]"
      ]
     },
     "metadata": {},
     "output_type": "display_data"
    },
    {
     "name": "stderr",
     "output_type": "stream",
     "text": [
      "/home/pyml/anaconda3/envs/py311/lib/python3.11/site-packages/transformers/models/clip/feature_extraction_clip.py:28: FutureWarning: The class CLIPFeatureExtractor is deprecated and will be removed in version 5 of Transformers. Please use CLIPImageProcessor instead.\n",
      "  warnings.warn(\n"
     ]
    }
   ],
   "source": [
    "import torch\n",
    "from diffusers import AnimateDiffPipeline, MotionAdapter, EulerDiscreteScheduler\n",
    "from diffusers.utils import export_to_gif\n",
    "from huggingface_hub import hf_hub_download\n",
    "from safetensors.torch import load_file\n",
    "\n",
    "device = \"cuda\"\n",
    "dtype = torch.float16\n",
    "\n",
    "step = 8  # Options: [1,2,4,8]\n",
    "repo = \"ByteDance/AnimateDiff-Lightning\"\n",
    "ckpt = f\"animatediff_lightning_{step}step_diffusers.safetensors\"\n",
    "base = \"emilianJR/epiCRealism\"\n",
    "\n",
    "adapter = MotionAdapter().to(device, dtype)\n",
    "adapter.load_state_dict(load_file(\n",
    "    hf_hub_download(repo ,ckpt), device=device)\n",
    ")\n",
    "pipe = AnimateDiffPipeline.from_pretrained(\n",
    "    base, motion_adapter=adapter, torch_dtype=dtype\n",
    ").to(device)\n",
    "pipe.scheduler = EulerDiscreteScheduler.from_config(\n",
    "    pipe.scheduler.config,\n",
    "    timestep_spacing=\"trailing\",\n",
    "    beta_schedule=\"linear\"\n",
    ")"
   ]
  },
  {
   "cell_type": "code",
   "execution_count": 9,
   "metadata": {},
   "outputs": [
    {
     "data": {
      "application/vnd.jupyter.widget-view+json": {
       "model_id": "07bdb779945547f5bfd569bc18de49af",
       "version_major": 2,
       "version_minor": 0
      },
      "text/plain": [
       "  0%|          | 0/8 [00:00<?, ?it/s]"
      ]
     },
     "metadata": {},
     "output_type": "display_data"
    },
    {
     "data": {
      "text/plain": [
       "AnimateDiffPipelineOutput(frames=[[<PIL.Image.Image image mode=RGB size=512x512 at 0x7F48305B0150>, <PIL.Image.Image image mode=RGB size=512x512 at 0x7F4830523A10>, <PIL.Image.Image image mode=RGB size=512x512 at 0x7F4830523890>, <PIL.Image.Image image mode=RGB size=512x512 at 0x7F4830594650>, <PIL.Image.Image image mode=RGB size=512x512 at 0x7F4830597590>, <PIL.Image.Image image mode=RGB size=512x512 at 0x7F4830596290>, <PIL.Image.Image image mode=RGB size=512x512 at 0x7F4830576AD0>, <PIL.Image.Image image mode=RGB size=512x512 at 0x7F4830575A50>, <PIL.Image.Image image mode=RGB size=512x512 at 0x7F4830575B90>, <PIL.Image.Image image mode=RGB size=512x512 at 0x7F4830456950>, <PIL.Image.Image image mode=RGB size=512x512 at 0x7F4830575F90>, <PIL.Image.Image image mode=RGB size=512x512 at 0x7F4830576650>, <PIL.Image.Image image mode=RGB size=512x512 at 0x7F4830576310>, <PIL.Image.Image image mode=RGB size=512x512 at 0x7F4830574450>, <PIL.Image.Image image mode=RGB size=512x512 at 0x7F4830576190>, <PIL.Image.Image image mode=RGB size=512x512 at 0x7F4830574250>]])"
      ]
     },
     "execution_count": 9,
     "metadata": {},
     "output_type": "execute_result"
    }
   ],
   "source": [
    "output = pipe(\n",
    "    prompt=\"A dog running on the beach\",\n",
    "    guidance_scale=1.0,\n",
    "    num_inference_steps=step\n",
    ")\n",
    "output"
   ]
  },
  {
   "cell_type": "code",
   "execution_count": 10,
   "metadata": {},
   "outputs": [
    {
     "data": {
      "text/plain": [
       "'animation.gif'"
      ]
     },
     "execution_count": 10,
     "metadata": {},
     "output_type": "execute_result"
    }
   ],
   "source": [
    "export_to_gif(output.frames[0], \"animation.gif\")"
   ]
  },
  {
   "cell_type": "markdown",
   "metadata": {},
   "source": [
    "![](animation.gif)"
   ]
  },
  {
   "cell_type": "markdown",
   "metadata": {},
   "source": []
  }
 ],
 "metadata": {
  "kernelspec": {
   "display_name": "py311",
   "language": "python",
   "name": "python3"
  },
  "language_info": {
   "codemirror_mode": {
    "name": "ipython",
    "version": 3
   },
   "file_extension": ".py",
   "mimetype": "text/x-python",
   "name": "python",
   "nbconvert_exporter": "python",
   "pygments_lexer": "ipython3",
   "version": "3.11.11"
  }
 },
 "nbformat": 4,
 "nbformat_minor": 2
}
