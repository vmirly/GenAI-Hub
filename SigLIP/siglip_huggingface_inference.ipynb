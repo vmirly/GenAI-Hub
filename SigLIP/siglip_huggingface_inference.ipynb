{
 "cells": [
  {
   "cell_type": "markdown",
   "metadata": {},
   "source": [
    "SigLIP\n",
    "====\n",
    "\n",
    "* Paper: https://arxiv.org/abs/2303.15343\n",
    "\n",
    "```bash\n",
    "pip install torch torchvision\n",
    "pip install transformers\n",
    "pip install matplotlib\n",
    "pip install supervision\n",
    "\n",
    "pip install sentencepiece\n",
    "pip install protobuf\n",
    "```"
   ]
  },
  {
   "cell_type": "markdown",
   "metadata": {},
   "source": [
    "### Zero-shot classification"
   ]
  },
  {
   "cell_type": "code",
   "execution_count": 1,
   "metadata": {},
   "outputs": [
    {
     "name": "stderr",
     "output_type": "stream",
     "text": [
      "/home/pyml/anaconda3/envs/py311/lib/python3.11/site-packages/tqdm/auto.py:21: TqdmWarning: IProgress not found. Please update jupyter and ipywidgets. See https://ipywidgets.readthedocs.io/en/stable/user_install.html\n",
      "  from .autonotebook import tqdm as notebook_tqdm\n",
      "Using a slow image processor as `use_fast` is unset and a slow processor was saved with this model. `use_fast=True` will be the default behavior in v4.48, even if the model was saved with a slow processor. This will result in minor differences in outputs. You'll still be able to use a slow processor with `use_fast=False`.\n",
      "Device set to use cuda:0\n"
     ]
    },
    {
     "data": {
      "text/plain": [
       "<transformers.pipelines.zero_shot_image_classification.ZeroShotImageClassificationPipeline at 0x7f9e24242650>"
      ]
     },
     "execution_count": 1,
     "metadata": {},
     "output_type": "execute_result"
    }
   ],
   "source": [
    "from transformers import pipeline\n",
    "from PIL import Image\n",
    "import requests\n",
    "\n",
    "# load pipe\n",
    "image_classifier = pipeline(\n",
    "    task=\"zero-shot-image-classification\",\n",
    "    model=\"google/siglip-base-patch16-224\"\n",
    ")\n",
    "\n",
    "image_classifier"
   ]
  },
  {
   "cell_type": "code",
   "execution_count": 2,
   "metadata": {},
   "outputs": [
    {
     "name": "stdout",
     "output_type": "stream",
     "text": [
      "[{'score': 0.4059, 'label': 'a bicyle'}, {'score': 0.0001, 'label': 'a car'}, {'score': 0.0, 'label': 'fruits'}]\n"
     ]
    }
   ],
   "source": [
    "image_path = \"../samples/bicycle.jpg\"\n",
    "\n",
    "image = Image.open(image_path).convert(\"RGB\")\n",
    "image = image.resize((image.width // 4, image.height // 4))\n",
    "\n",
    "candidate_labels = [\"a car\", \"fruits\", \"a bicyle\"]\n",
    "outputs = image_classifier(image, candidate_labels=candidate_labels)\n",
    "outputs = [{\"score\": round(output[\"score\"], 4), \"label\": output[\"label\"] } for output in outputs]\n",
    "print(outputs)"
   ]
  },
  {
   "cell_type": "code",
   "execution_count": 3,
   "metadata": {},
   "outputs": [
    {
     "name": "stdout",
     "output_type": "stream",
     "text": [
      "[{'score': 0.0179, 'label': 'fruits'}, {'score': 0.0, 'label': 'a car'}, {'score': 0.0, 'label': 'a bicyle'}]\n"
     ]
    }
   ],
   "source": [
    "image_path = \"../samples/fruits-01.jpg\"\n",
    "\n",
    "image = Image.open(image_path).convert(\"RGB\")\n",
    "image = image.resize((image.width // 4, image.height // 4))\n",
    "\n",
    "candidate_labels = [\"a car\", \"fruits\", \"a bicyle\"]\n",
    "outputs = image_classifier(image, candidate_labels=candidate_labels)\n",
    "outputs = [{\"score\": round(output[\"score\"], 4), \"label\": output[\"label\"] } for output in outputs]\n",
    "print(outputs)"
   ]
  },
  {
   "cell_type": "code",
   "execution_count": null,
   "metadata": {},
   "outputs": [],
   "source": []
  }
 ],
 "metadata": {
  "kernelspec": {
   "display_name": "py311",
   "language": "python",
   "name": "python3"
  },
  "language_info": {
   "codemirror_mode": {
    "name": "ipython",
    "version": 3
   },
   "file_extension": ".py",
   "mimetype": "text/x-python",
   "name": "python",
   "nbconvert_exporter": "python",
   "pygments_lexer": "ipython3",
   "version": "3.11.11"
  }
 },
 "nbformat": 4,
 "nbformat_minor": 2
}
