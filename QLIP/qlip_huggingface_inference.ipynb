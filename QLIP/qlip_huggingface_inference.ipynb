{
 "cells": [
  {
   "cell_type": "markdown",
   "id": "67ab572a",
   "metadata": {},
   "source": [
    "QLIP\n",
    "====\n",
    "\n",
    "**QLIP: Text-Aligned Visual Tokenization Unifies Auto-Regressive Multimodal Understanding and Generation**\n",
    "\n",
    "* Paper: https://arxiv.org/pdf/2502.05178\n",
    "\n",
    "![QLIP Overview](../assets/qlip_overview.png)\n",
    "\n",
    "\n",
    "```bash\n",
    "git clone https://github.com/NVlabs/QLIP.git\n",
    "\n",
    "pip install torch torchvision\n",
    "pip install transformers\n",
    "```"
   ]
  }
 ],
 "metadata": {
  "language_info": {
   "name": "python"
  }
 },
 "nbformat": 4,
 "nbformat_minor": 5
}
