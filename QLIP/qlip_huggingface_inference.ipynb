{
 "cells": [
  {
   "cell_type": "markdown",
   "id": "67ab572a",
   "metadata": {},
   "source": [
    "QLIP\n",
    "====\n",
    "\n",
    "**QLIP: Text-Aligned Visual Tokenization Unifies Auto-Regressive Multimodal Understanding and Generation**\n",
    "\n",
    "* Paper: https://arxiv.org/pdf/2502.05178\n",
    "\n",
    "![QLIP Overview](../assets/qlip_overview.png)\n",
    "\n",
    "\n",
    "```bash\n",
    "git clone https://github.com/NVlabs/QLIP.git\n",
    "\n",
    "pip install torch torchvision\n",
    "pip install transformers\n",
    "```"
   ]
  },
  {
   "cell_type": "markdown",
   "id": "58bac36b",
   "metadata": {},
   "source": [
    "### Load model"
   ]
  },
  {
   "cell_type": "code",
   "execution_count": 1,
   "id": "161ef871",
   "metadata": {},
   "outputs": [
    {
     "name": "stderr",
     "output_type": "stream",
     "text": [
      "/home/pyml/anaconda3/envs/py311/lib/python3.10/site-packages/tqdm/auto.py:21: TqdmWarning: IProgress not found. Please update jupyter and ipywidgets. See https://ipywidgets.readthedocs.io/en/stable/user_install.html\n",
      "  from .autonotebook import tqdm as notebook_tqdm\n",
      "Some weights of QLIPModel were not initialized from the model checkpoint at nvidia/QLIP-B-8-256 and are newly initialized: ['vision_decoder.encoder.layers.0.self_attn.rope.freqs_cos', 'vision_decoder.encoder.layers.0.self_attn.rope.freqs_sin', 'vision_decoder.encoder.layers.1.self_attn.rope.freqs_cos', 'vision_decoder.encoder.layers.1.self_attn.rope.freqs_sin', 'vision_decoder.encoder.layers.10.self_attn.rope.freqs_cos', 'vision_decoder.encoder.layers.10.self_attn.rope.freqs_sin', 'vision_decoder.encoder.layers.11.self_attn.rope.freqs_cos', 'vision_decoder.encoder.layers.11.self_attn.rope.freqs_sin', 'vision_decoder.encoder.layers.2.self_attn.rope.freqs_cos', 'vision_decoder.encoder.layers.2.self_attn.rope.freqs_sin', 'vision_decoder.encoder.layers.3.self_attn.rope.freqs_cos', 'vision_decoder.encoder.layers.3.self_attn.rope.freqs_sin', 'vision_decoder.encoder.layers.4.self_attn.rope.freqs_cos', 'vision_decoder.encoder.layers.4.self_attn.rope.freqs_sin', 'vision_decoder.encoder.layers.5.self_attn.rope.freqs_cos', 'vision_decoder.encoder.layers.5.self_attn.rope.freqs_sin', 'vision_decoder.encoder.layers.6.self_attn.rope.freqs_cos', 'vision_decoder.encoder.layers.6.self_attn.rope.freqs_sin', 'vision_decoder.encoder.layers.7.self_attn.rope.freqs_cos', 'vision_decoder.encoder.layers.7.self_attn.rope.freqs_sin', 'vision_decoder.encoder.layers.8.self_attn.rope.freqs_cos', 'vision_decoder.encoder.layers.8.self_attn.rope.freqs_sin', 'vision_decoder.encoder.layers.9.self_attn.rope.freqs_cos', 'vision_decoder.encoder.layers.9.self_attn.rope.freqs_sin', 'vision_model.encoder.layers.0.self_attn.rope.freqs_cos', 'vision_model.encoder.layers.0.self_attn.rope.freqs_sin', 'vision_model.encoder.layers.1.self_attn.rope.freqs_cos', 'vision_model.encoder.layers.1.self_attn.rope.freqs_sin', 'vision_model.encoder.layers.10.self_attn.rope.freqs_cos', 'vision_model.encoder.layers.10.self_attn.rope.freqs_sin', 'vision_model.encoder.layers.11.self_attn.rope.freqs_cos', 'vision_model.encoder.layers.11.self_attn.rope.freqs_sin', 'vision_model.encoder.layers.2.self_attn.rope.freqs_cos', 'vision_model.encoder.layers.2.self_attn.rope.freqs_sin', 'vision_model.encoder.layers.3.self_attn.rope.freqs_cos', 'vision_model.encoder.layers.3.self_attn.rope.freqs_sin', 'vision_model.encoder.layers.4.self_attn.rope.freqs_cos', 'vision_model.encoder.layers.4.self_attn.rope.freqs_sin', 'vision_model.encoder.layers.5.self_attn.rope.freqs_cos', 'vision_model.encoder.layers.5.self_attn.rope.freqs_sin', 'vision_model.encoder.layers.6.self_attn.rope.freqs_cos', 'vision_model.encoder.layers.6.self_attn.rope.freqs_sin', 'vision_model.encoder.layers.7.self_attn.rope.freqs_cos', 'vision_model.encoder.layers.7.self_attn.rope.freqs_sin', 'vision_model.encoder.layers.8.self_attn.rope.freqs_cos', 'vision_model.encoder.layers.8.self_attn.rope.freqs_sin', 'vision_model.encoder.layers.9.self_attn.rope.freqs_cos', 'vision_model.encoder.layers.9.self_attn.rope.freqs_sin']\n",
      "You should probably TRAIN this model on a down-stream task to be able to use it for predictions and inference.\n"
     ]
    }
   ],
   "source": [
    "import sys\n",
    "import torch\n",
    "from transformers import CLIPImageProcessor, CLIPTokenizer\n",
    "from torchvision.transforms import Normalize\n",
    "from PIL import Image\n",
    "\n",
    "sys.path.append(\"QLIP/QLIP\")  # must clone repo\n",
    "from modeling_qlip import QLIPModel\n",
    "\n",
    "processor = CLIPImageProcessor.from_pretrained(\n",
    "    \"nvidia/QLIP-B-8-256\"\n",
    ")\n",
    "tokenizer = CLIPTokenizer.from_pretrained(\n",
    "    \"nvidia/QLIP-B-8-256\"\n",
    ")\n",
    "model = QLIPModel.from_pretrained(\n",
    "    \"nvidia/QLIP-B-8-256\"\n",
    ")\n",
    "\n",
    "device = torch.device(\"cuda\" if torch.cuda.is_available() else \"cpu\")\n",
    "model.eval().to(device);"
   ]
  },
  {
   "cell_type": "markdown",
   "id": "7ba41a8f",
   "metadata": {},
   "source": [
    "### Inference example"
   ]
  },
  {
   "cell_type": "code",
   "execution_count": null,
   "id": "7584d099",
   "metadata": {},
   "outputs": [
    {
     "name": "stderr",
     "output_type": "stream",
     "text": [
      "Unused or unrecognized kwargs: padding.\n"
     ]
    },
    {
     "name": "stdout",
     "output_type": "stream",
     "text": [
      "model outputs: odict_keys(['logits_per_image', 'logits_per_text', 'text_embeds', 'image_embeds', 'text_model_output', 'vision_model_output', 'reconstructions'])\n"
     ]
    }
   ],
   "source": [
    "image_path = \"../samples/plants.jpg\"\n",
    "image = Image.open(image_path)\n",
    "captions = [\"a dog\", \"a cat\", \"a plant\"]\n",
    "\n",
    "input_ids = tokenizer(\n",
    "    captions, return_tensors=\"pt\", padding=True\n",
    ").input_ids.to(device)\n",
    "input_pixels = processor(\n",
    "    images=image, return_tensors=\"pt\", padding=True\n",
    ").pixel_values.to(device)\n",
    "\n",
    "with torch.no_grad():\n",
    "    outputs = model(input_ids, input_pixels)\n",
    "\n",
    "print(f\"model outputs: {outputs.keys()}\")"
   ]
  },
  {
   "cell_type": "code",
   "execution_count": 8,
   "id": "36fceeb8",
   "metadata": {},
   "outputs": [
    {
     "name": "stdout",
     "output_type": "stream",
     "text": [
      "logits per image: [[-1.5476025  -0.23974146 11.993626  ]]\n",
      "logits per text: [[-1.5476025 ]\n",
      " [-0.23974146]\n",
      " [11.993626  ]]\n"
     ]
    }
   ],
   "source": [
    "print(\"logits per image:\", outputs.logits_per_image.cpu().numpy())\n",
    "print(\"logits per text:\", outputs.logits_per_text.cpu().numpy())"
   ]
  },
  {
   "cell_type": "code",
   "execution_count": 10,
   "id": "5c7c53d4",
   "metadata": {},
   "outputs": [
    {
     "name": "stdout",
     "output_type": "stream",
     "text": [
      "model label_probs: tensor([[1.3209e-06, 4.8831e-06, 9.9999e-01]], device='cuda:0')\n"
     ]
    }
   ],
   "source": [
    "with torch.no_grad():\n",
    "    #image_features = outputs[\"image_embeds\"]\n",
    "    image_features = model.get_image_features(input_pixels)\n",
    "    #text_features = outputs[\"text_embeds\"]\n",
    "    text_features = model.get_text_features(input_ids)\n",
    "    image_features /= image_features.norm(dim=-1, keepdim=True)\n",
    "    text_features /= text_features.norm(dim=-1, keepdim=True)\n",
    "\n",
    "label_probs = (100.0 * image_features @ text_features.T).softmax(dim=-1)\n",
    "print(f\"model label_probs: {label_probs}\")"
   ]
  },
  {
   "cell_type": "code",
   "execution_count": null,
   "id": "8b9dabb4",
   "metadata": {},
   "outputs": [],
   "source": []
  }
 ],
 "metadata": {
  "kernelspec": {
   "display_name": "py311",
   "language": "python",
   "name": "python3"
  },
  "language_info": {
   "codemirror_mode": {
    "name": "ipython",
    "version": 3
   },
   "file_extension": ".py",
   "mimetype": "text/x-python",
   "name": "python",
   "nbconvert_exporter": "python",
   "pygments_lexer": "ipython3",
   "version": "3.10.16"
  }
 },
 "nbformat": 4,
 "nbformat_minor": 5
}
