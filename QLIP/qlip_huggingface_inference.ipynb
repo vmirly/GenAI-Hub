{
 "cells": [
  {
   "cell_type": "markdown",
   "id": "67ab572a",
   "metadata": {},
   "source": [
    "QLIP\n",
    "====\n",
    "\n",
    "**QLIP: Text-Aligned Visual Tokenization Unifies Auto-Regressive Multimodal Understanding and Generation**\n",
    "\n",
    "* Paper: https://arxiv.org/pdf/2502.05178\n",
    "\n",
    "![QLIP Overview](../assets/qlip_overview.png)\n",
    "\n",
    "\n",
    "```bash\n",
    "git clone https://github.com/NVlabs/QLIP.git\n",
    "\n",
    "pip install torch torchvision\n",
    "pip install transformers\n",
    "```"
   ]
  },
  {
   "cell_type": "markdown",
   "id": "58bac36b",
   "metadata": {},
   "source": [
    "### Load model"
   ]
  },
  {
   "cell_type": "code",
   "execution_count": 1,
   "id": "161ef871",
   "metadata": {},
   "outputs": [
    {
     "name": "stderr",
     "output_type": "stream",
     "text": [
      "/home/pyml/anaconda3/envs/py311/lib/python3.10/site-packages/tqdm/auto.py:21: TqdmWarning: IProgress not found. Please update jupyter and ipywidgets. See https://ipywidgets.readthedocs.io/en/stable/user_install.html\n",
      "  from .autonotebook import tqdm as notebook_tqdm\n",
      "Some weights of QLIPModel were not initialized from the model checkpoint at nvidia/QLIP-B-8-256 and are newly initialized: ['vision_decoder.encoder.layers.0.self_attn.rope.freqs_cos', 'vision_decoder.encoder.layers.0.self_attn.rope.freqs_sin', 'vision_decoder.encoder.layers.1.self_attn.rope.freqs_cos', 'vision_decoder.encoder.layers.1.self_attn.rope.freqs_sin', 'vision_decoder.encoder.layers.10.self_attn.rope.freqs_cos', 'vision_decoder.encoder.layers.10.self_attn.rope.freqs_sin', 'vision_decoder.encoder.layers.11.self_attn.rope.freqs_cos', 'vision_decoder.encoder.layers.11.self_attn.rope.freqs_sin', 'vision_decoder.encoder.layers.2.self_attn.rope.freqs_cos', 'vision_decoder.encoder.layers.2.self_attn.rope.freqs_sin', 'vision_decoder.encoder.layers.3.self_attn.rope.freqs_cos', 'vision_decoder.encoder.layers.3.self_attn.rope.freqs_sin', 'vision_decoder.encoder.layers.4.self_attn.rope.freqs_cos', 'vision_decoder.encoder.layers.4.self_attn.rope.freqs_sin', 'vision_decoder.encoder.layers.5.self_attn.rope.freqs_cos', 'vision_decoder.encoder.layers.5.self_attn.rope.freqs_sin', 'vision_decoder.encoder.layers.6.self_attn.rope.freqs_cos', 'vision_decoder.encoder.layers.6.self_attn.rope.freqs_sin', 'vision_decoder.encoder.layers.7.self_attn.rope.freqs_cos', 'vision_decoder.encoder.layers.7.self_attn.rope.freqs_sin', 'vision_decoder.encoder.layers.8.self_attn.rope.freqs_cos', 'vision_decoder.encoder.layers.8.self_attn.rope.freqs_sin', 'vision_decoder.encoder.layers.9.self_attn.rope.freqs_cos', 'vision_decoder.encoder.layers.9.self_attn.rope.freqs_sin', 'vision_model.encoder.layers.0.self_attn.rope.freqs_cos', 'vision_model.encoder.layers.0.self_attn.rope.freqs_sin', 'vision_model.encoder.layers.1.self_attn.rope.freqs_cos', 'vision_model.encoder.layers.1.self_attn.rope.freqs_sin', 'vision_model.encoder.layers.10.self_attn.rope.freqs_cos', 'vision_model.encoder.layers.10.self_attn.rope.freqs_sin', 'vision_model.encoder.layers.11.self_attn.rope.freqs_cos', 'vision_model.encoder.layers.11.self_attn.rope.freqs_sin', 'vision_model.encoder.layers.2.self_attn.rope.freqs_cos', 'vision_model.encoder.layers.2.self_attn.rope.freqs_sin', 'vision_model.encoder.layers.3.self_attn.rope.freqs_cos', 'vision_model.encoder.layers.3.self_attn.rope.freqs_sin', 'vision_model.encoder.layers.4.self_attn.rope.freqs_cos', 'vision_model.encoder.layers.4.self_attn.rope.freqs_sin', 'vision_model.encoder.layers.5.self_attn.rope.freqs_cos', 'vision_model.encoder.layers.5.self_attn.rope.freqs_sin', 'vision_model.encoder.layers.6.self_attn.rope.freqs_cos', 'vision_model.encoder.layers.6.self_attn.rope.freqs_sin', 'vision_model.encoder.layers.7.self_attn.rope.freqs_cos', 'vision_model.encoder.layers.7.self_attn.rope.freqs_sin', 'vision_model.encoder.layers.8.self_attn.rope.freqs_cos', 'vision_model.encoder.layers.8.self_attn.rope.freqs_sin', 'vision_model.encoder.layers.9.self_attn.rope.freqs_cos', 'vision_model.encoder.layers.9.self_attn.rope.freqs_sin']\n",
      "You should probably TRAIN this model on a down-stream task to be able to use it for predictions and inference.\n"
     ]
    }
   ],
   "source": [
    "import sys\n",
    "import torch\n",
    "from transformers import CLIPImageProcessor, CLIPTokenizer\n",
    "from torchvision.transforms import Normalize\n",
    "from PIL import Image\n",
    "\n",
    "sys.path.append(\"QLIP/QLIP\")  # must clone repo\n",
    "from modeling_qlip import QLIPModel\n",
    "\n",
    "processor = CLIPImageProcessor.from_pretrained(\n",
    "    \"nvidia/QLIP-B-8-256\"\n",
    ")\n",
    "tokenizer = CLIPTokenizer.from_pretrained(\n",
    "    \"nvidia/QLIP-B-8-256\"\n",
    ")\n",
    "model = QLIPModel.from_pretrained(\n",
    "    \"nvidia/QLIP-B-8-256\"\n",
    ")\n",
    "\n",
    "device = torch.device(\"cuda\" if torch.cuda.is_available() else \"cpu\")\n",
    "model.eval().to(device);"
   ]
  },
  {
   "cell_type": "code",
   "execution_count": null,
   "id": "7584d099",
   "metadata": {},
   "outputs": [],
   "source": []
  }
 ],
 "metadata": {
  "kernelspec": {
   "display_name": "py311",
   "language": "python",
   "name": "python3"
  },
  "language_info": {
   "codemirror_mode": {
    "name": "ipython",
    "version": 3
   },
   "file_extension": ".py",
   "mimetype": "text/x-python",
   "name": "python",
   "nbconvert_exporter": "python",
   "pygments_lexer": "ipython3",
   "version": "3.10.16"
  }
 },
 "nbformat": 4,
 "nbformat_minor": 5
}
