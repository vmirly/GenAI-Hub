{
 "cells": [
  {
   "cell_type": "markdown",
   "id": "5f1b8a27",
   "metadata": {},
   "source": [
    "YOLO-World\n",
    "======\n",
    "\n",
    "\n",
    "**YOLO-World: Real-Time Open-Vocabulary Object Detection**\n",
    "\n",
    " * Paper: https://arxiv.org/abs/2401.17270\n",
    "\n",
    "\n",
    "## Installation\n",
    "\n",
    "```bash\n",
    "\n",
    "conda create -n yolow python=3.10 -y\n",
    "conda activate yolow\n",
    "\n",
    "# Install PyTorch for CUDA 11.6 from the official channels\n",
    "conda install -y pytorch==1.13.1 torchvision==0.14.1 torchaudio==0.13.1 \\\n",
    "                pytorch-cuda=11.6 -c pytorch -c nvidia\n",
    "\n",
    "# Optional: install GCC 9 for compatibility when compiling detectron2\n",
    "conda install -y gcc=9 gxx=9 -c conda-forge\n",
    "\n",
    "# install cudatoolkit-11.6\n",
    "conda install -y cudatoolkit-dev=11.6 -c conda-forge\n",
    "\n",
    "# set CUDA_HOME env-var:\n",
    "export CUDA_HOME=$CONDA_PREFIX  # since cudatoolkit-dev installs CUDA here\n",
    "export PATH=$CUDA_HOME/bin:$PATH\n",
    "export LD_LIBRARY_PATH=$CUDA_HOME/lib:$LD_LIBRARY_PATH\n",
    "\n",
    "# Verify nvcc version\n",
    "# It should report \"Cuda compilation tools, release 11.6\".\n",
    "nvcc -V\n",
    "\n",
    "# clone YOLO-World repo:\n",
    "git clone --recursive https://github.com/AILab-CVC/YOLO-World.git YOLOWorld_repo\n",
    "cd YOLOWorld_repo\n",
    "pip install -e .\n",
    "\n",
    "# OpenMMLab\n",
    "pip install -U openmim\n",
    "mim install mmengine\n",
    "mim install \"mmcv>=2.0.0\"\n",
    "\n",
    "\n",
    "# install mmdet https://github.com/open-mmlab/mmdetection\n",
    "git clone https://github.com/open-mmlab/mmdetection.git\n",
    "# if the `git clone` command fails, deactivate conda\n",
    "# somehthing got messed up after compiling previous libraries\n",
    "# re-activae conda after clone\n",
    "cd mmdetection\n",
    "pip install -v -e .\n",
    "\n",
    "# downgrade numpy < 2.0\n",
    "pip install \"numpy<2\"\n",
    "```"
   ]
  },
  {
   "cell_type": "markdown",
   "id": "2df50980",
   "metadata": {},
   "source": [
    "## Download model\n",
    "\n",
    "```bash\n",
    "wget https://huggingface.co/wondervictor/YOLO-World-V2.1/resolve/main/m_stage2-9987dcb1.pth\n",
    "```\n",
    "\n",
    "### Additional Setup\n",
    "\n",
    "```bash\n",
    "cp YOLOWorld_repo/configs/pretrain/yolo_world_v2_m_vlpan_bn_2e-3_100e_4x8gpus_obj365v1_goldg_train_1280ft_lvis_minival.py .\n",
    "```"
   ]
  },
  {
   "cell_type": "code",
   "execution_count": 1,
   "id": "7d3dc232",
   "metadata": {},
   "outputs": [
    {
     "name": "stderr",
     "output_type": "stream",
     "text": [
      "/home/pyml/anaconda3/envs/yolow/lib/python3.10/site-packages/tqdm/auto.py:21: TqdmWarning: IProgress not found. Please update jupyter and ipywidgets. See https://ipywidgets.readthedocs.io/en/stable/user_install.html\n",
      "  from .autonotebook import tqdm as notebook_tqdm\n"
     ]
    }
   ],
   "source": [
    "import os\n",
    "import sys\n",
    "import cv2\n",
    "import argparse\n",
    "from typing import List, Tuple\n",
    "import os.path as osp\n",
    "\n",
    "import cv2\n",
    "import torch\n",
    "from mmengine.config import Config, DictAction\n",
    "from mmengine.runner.amp import autocast\n",
    "from mmengine.dataset import Compose\n",
    "from mmengine.utils import ProgressBar\n",
    "from mmdet.apis import init_detector\n",
    "from mmdet.utils import get_test_pipeline_cfg\n",
    "\n",
    "sys.path.append(\"YOLOWorld_repo\")"
   ]
  },
  {
   "cell_type": "code",
   "execution_count": 2,
   "id": "b025835d",
   "metadata": {},
   "outputs": [],
   "source": [
    "CONFIG_PATH: str = (\n",
    "    #\"YOLOWorld_repo/configs/pretrain/\"\n",
    "    \"yolo_world_v2_m_vlpan_bn_2e-3_100e_4x8gpus_obj365v1_goldg_train_1280ft_lvis_minival.py\"\n",
    ")\n",
    "\n",
    "CHECKPOINT_PATH: str = \"m_stage2-9987dcb1.pth\"\n",
    "\n",
    "TOPK: int = 100\n",
    "SCORE_THRESHOLD: float = 0.1\n",
    "\n",
    "def prepare_pipeline(cfg: Config) -> Compose:\n",
    "    # Fetch a copy of the test pipeline.  ``get_test_pipeline_cfg`` will\n",
    "    # automatically convert MMYOLO specifics into an MMEngine compatible format.\n",
    "    test_pipeline_cfg = get_test_pipeline_cfg(cfg=cfg)\n",
    "    # ``LoadImageFromFile`` expects a file path; we leave it as is.\n",
    "    return Compose(test_pipeline_cfg)\n"
   ]
  },
  {
   "cell_type": "code",
   "execution_count": null,
   "id": "6ee7fdcc",
   "metadata": {},
   "outputs": [],
   "source": []
  }
 ],
 "metadata": {
  "kernelspec": {
   "display_name": "yolow",
   "language": "python",
   "name": "python3"
  },
  "language_info": {
   "codemirror_mode": {
    "name": "ipython",
    "version": 3
   },
   "file_extension": ".py",
   "mimetype": "text/x-python",
   "name": "python",
   "nbconvert_exporter": "python",
   "pygments_lexer": "ipython3",
   "version": "3.10.18"
  }
 },
 "nbformat": 4,
 "nbformat_minor": 5
}
