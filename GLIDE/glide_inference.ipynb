{
 "cells": [
  {
   "cell_type": "markdown",
   "id": "843ea22d",
   "metadata": {},
   "source": [
    "GLIDE\n",
    "====\n",
    "\n",
    "**GLIDE: Towards Photorealistic Image Generation and Editing with Text-Guided Diffusion Models**\n",
    "\n",
    " * Paper: https://arxiv.org/abs/2112.10741\n",
    " * Code: https://github.com/openai/glide-text2im\n",
    "\n",
    "![GLIDE Examples](../assets/glide_examples.jpg)\n",
    "\n",
    "\n",
    "```bash\n",
    "conda create -n glide python=3.11 -y\n",
    "conda activate glide\n",
    "pip install git+https://github.com/openai/glide-text2im\n",
    "pip install pyyaml\n",
    "```"
   ]
  },
  {
   "cell_type": "markdown",
   "id": "8ffe7693",
   "metadata": {},
   "source": []
  }
 ],
 "metadata": {
  "language_info": {
   "name": "python"
  }
 },
 "nbformat": 4,
 "nbformat_minor": 5
}
