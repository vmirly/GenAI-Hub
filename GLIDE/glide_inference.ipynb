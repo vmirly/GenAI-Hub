{
 "cells": [
  {
   "cell_type": "markdown",
   "id": "843ea22d",
   "metadata": {},
   "source": [
    "GLIDE\n",
    "====\n",
    "\n",
    "**GLIDE: Towards Photorealistic Image Generation and Editing with Text-Guided Diffusion Models**\n",
    "\n",
    " * Paper: https://arxiv.org/abs/2112.10741\n",
    " * Code: https://github.com/openai/glide-text2im\n",
    "\n",
    "![GLIDE Examples](../assets/glide_examples.jpg)\n",
    "\n",
    "\n",
    "```bash\n",
    "conda create -n glide python=3.11 -y\n",
    "conda activate glide\n",
    "pip install git+https://github.com/openai/glide-text2im\n",
    "pip install pyyaml\n",
    "```"
   ]
  },
  {
   "cell_type": "markdown",
   "id": "8ffe7693",
   "metadata": {},
   "source": [
    "## text-to-image"
   ]
  },
  {
   "cell_type": "code",
   "execution_count": null,
   "id": "7345a271",
   "metadata": {},
   "outputs": [
    {
     "name": "stderr",
     "output_type": "stream",
     "text": [
      "/home/pyml/anaconda3/envs/glide/lib/python3.11/site-packages/tqdm/auto.py:21: TqdmWarning: IProgress not found. Please update jupyter and ipywidgets. See https://ipywidgets.readthedocs.io/en/stable/user_install.html\n",
      "  from .autonotebook import tqdm as notebook_tqdm\n"
     ]
    }
   ],
   "source": [
    "from PIL import Image\n",
    "import torch\n",
    "\n",
    "from glide_text2im.download import load_checkpoint\n",
    "from glide_text2im.model_creation import (\n",
    "    create_model_and_diffusion,\n",
    "    model_and_diffusion_defaults,\n",
    "    model_and_diffusion_defaults_upsampler\n",
    ")"
   ]
  },
  {
   "cell_type": "code",
   "execution_count": 2,
   "id": "40f95eea",
   "metadata": {},
   "outputs": [
    {
     "name": "stderr",
     "output_type": "stream",
     "text": [
      "100%|██████████| 1.54G/1.54G [01:56<00:00, 13.2MiB/s]\n"
     ]
    },
    {
     "name": "stdout",
     "output_type": "stream",
     "text": [
      " * total base parameters 385030726\n"
     ]
    },
    {
     "name": "stderr",
     "output_type": "stream",
     "text": [
      "100%|██████████| 1.59G/1.59G [02:01<00:00, 13.1MiB/s]\n"
     ]
    },
    {
     "name": "stdout",
     "output_type": "stream",
     "text": [
      " * total upsampler parameters 398361286\n"
     ]
    }
   ],
   "source": [
    "has_cuda = torch.cuda.is_available()\n",
    "base_steps = \"100\"  # number of diffusion steps to use for sampling\n",
    "upsample_steps = \"fast27\"  # number of diffusion steps to use for upsampling\n",
    "device = torch.device(\"cuda\" if has_cuda else \"cpu\")\n",
    "\n",
    "# Create base model.\n",
    "options = model_and_diffusion_defaults()\n",
    "options['use_fp16'] = has_cuda\n",
    "options['timestep_respacing'] = str(base_steps)\n",
    "\n",
    "model, diffusion = create_model_and_diffusion(**options)\n",
    "model.eval()\n",
    "if has_cuda:\n",
    "    model.convert_to_fp16()\n",
    "model.to(device)\n",
    "model.load_state_dict(load_checkpoint('base', device))\n",
    "print(' * total base parameters', sum(x.numel() for x in model.parameters()))\n",
    "\n",
    "\n",
    "\n",
    "# Create upsampler model.\n",
    "options_up = model_and_diffusion_defaults_upsampler()\n",
    "options_up['use_fp16'] = has_cuda\n",
    "options_up['timestep_respacing'] = upsample_steps\n",
    "model_up, diffusion_up = create_model_and_diffusion(**options_up)\n",
    "model_up.eval()\n",
    "if has_cuda:\n",
    "    model_up.convert_to_fp16()\n",
    "model_up.to(device)\n",
    "model_up.load_state_dict(load_checkpoint('upsample', device))\n",
    "print(' * total upsampler parameters', sum(x.numel() for x in model_up.parameters()))\n"
   ]
  },
  {
   "cell_type": "code",
   "execution_count": null,
   "id": "e2d50b47",
   "metadata": {},
   "outputs": [],
   "source": []
  }
 ],
 "metadata": {
  "kernelspec": {
   "display_name": "glide",
   "language": "python",
   "name": "python3"
  },
  "language_info": {
   "codemirror_mode": {
    "name": "ipython",
    "version": 3
   },
   "file_extension": ".py",
   "mimetype": "text/x-python",
   "name": "python",
   "nbconvert_exporter": "python",
   "pygments_lexer": "ipython3",
   "version": "3.11.13"
  }
 },
 "nbformat": 4,
 "nbformat_minor": 5
}
