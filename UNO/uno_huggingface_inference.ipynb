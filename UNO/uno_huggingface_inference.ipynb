{
 "cells": [
  {
   "cell_type": "markdown",
   "id": "2b22b9b2",
   "metadata": {},
   "source": [
    "UNO\n",
    "====\n",
    "\n",
    "**Less-to-More Generalization: Unlocking More Controllability by In-Context Generation**\n",
    "\n",
    " * Paper: https://arxiv.org/abs/2504.02160\n",
    "\n",
    "![UNO Overview](../assets/uno_overview.png)\n",
    "\n",
    "\n",
    "```bash\n",
    "# installation\n",
    "git clone https://github.com/bytedance/UNO.git\n",
    "pip install -r requirements.txt\n",
    "```"
   ]
  },
  {
   "cell_type": "code",
   "execution_count": null,
   "id": "d7e49499",
   "metadata": {},
   "outputs": [
    {
     "name": "stderr",
     "output_type": "stream",
     "text": [
      "/home/pyml/anaconda3/envs/py311/lib/python3.10/site-packages/tqdm/auto.py:21: TqdmWarning: IProgress not found. Please update jupyter and ipywidgets. See https://ipywidgets.readthedocs.io/en/stable/user_install.html\n",
      "  from .autonotebook import tqdm as notebook_tqdm\n",
      "Loading checkpoint shards: 100%|██████████| 2/2 [00:00<00:00, 13.27it/s]\n"
     ]
    },
    {
     "name": "stdout",
     "output_type": "stream",
     "text": [
      "Init AE\n",
      "Init model\n",
      "Loading lora\n",
      "Loading main checkpoint\n",
      "####\n",
      "We are in fp8 mode right now, since the fp8 checkpoint of XLabs-AI/flux-dev-fp8 seems broken\n",
      "we convert the fp8 checkpoint on flight from bf16 checkpoint\n",
      "If your storage is constrainedyou can save the fp8 checkpoint and replace the bf16 checkpoint by yourself\n",
      "\n"
     ]
    },
    {
     "data": {
      "text/plain": [
       "<uno.flux.pipeline.UNOPipeline at 0x7f107b760f10>"
      ]
     },
     "execution_count": 1,
     "metadata": {},
     "output_type": "execute_result"
    }
   ],
   "source": [
    "import os\n",
    "import sys\n",
    "import dataclasses\n",
    "from typing import Literal\n",
    "\n",
    "from accelerate import Accelerator\n",
    "from transformers import HfArgumentParser\n",
    "from PIL import Image\n",
    "import matplotlib.pyplot as plt\n",
    "\n",
    "import itertools\n",
    "\n",
    "sys.path.append(\"./UNO\")\n",
    "from uno.flux.pipeline import UNOPipeline, preprocess_ref\n",
    "\n",
    "\n",
    "def horizontal_concat(images):\n",
    "    widths, heights = zip(*(img.size for img in images))\n",
    "\n",
    "    total_width = sum(widths)\n",
    "    max_height = max(heights)\n",
    "\n",
    "    new_im = Image.new('RGB', (total_width, max_height))\n",
    "\n",
    "    x_offset = 0\n",
    "    for img in images:\n",
    "        new_im.paste(img, (x_offset, 0))\n",
    "        x_offset += img.size[0]\n",
    "\n",
    "    return new_im\n",
    "\n",
    "\n",
    "@dataclasses.dataclass\n",
    "class InferenceArgs:\n",
    "    prompt: str | None = None\n",
    "    image_paths: list[str] | None = None\n",
    "    eval_json_path: str | None = None\n",
    "    offload: bool = False\n",
    "    num_images_per_prompt: int = 3\n",
    "    model_type: Literal[\"flux-dev\", \"flux-dev-fp8\", \"flux-schnell\"] = \"flux-dev-fp8\"\n",
    "    width: int = 256\n",
    "    height: int = 256\n",
    "    ref_size: int = -1\n",
    "    num_steps: int = 25\n",
    "    guidance: float = 4\n",
    "    seed: int = 3407\n",
    "    save_path: str = \"output/inference\"\n",
    "    only_lora: bool = True\n",
    "    concat_refs: bool = False\n",
    "    lora_rank: int = 512\n",
    "    data_resolution: int = 256\n",
    "    pe: Literal['d', 'h', 'w', 'o'] = 'd'\n",
    "\n",
    "\n",
    "accelerator = Accelerator()\n",
    "\n",
    "# build model args:\n",
    "parser = HfArgumentParser([InferenceArgs])\n",
    "model_args = parser.parse_args_into_dataclasses(args=[])[0]\n",
    "\n",
    "# load pipeline:\n",
    "pipeline = UNOPipeline(\n",
    "    model_args.model_type,\n",
    "    accelerator.device,\n",
    "    model_args.offload,\n",
    "    only_lora=model_args.only_lora,\n",
    "    lora_rank=model_args.lora_rank\n",
    ")\n",
    "\n",
    "pipeline"
   ]
  },
  {
   "cell_type": "code",
   "execution_count": null,
   "id": "56db83f6",
   "metadata": {},
   "outputs": [],
   "source": []
  }
 ],
 "metadata": {
  "kernelspec": {
   "display_name": "py311",
   "language": "python",
   "name": "python3"
  },
  "language_info": {
   "codemirror_mode": {
    "name": "ipython",
    "version": 3
   },
   "file_extension": ".py",
   "mimetype": "text/x-python",
   "name": "python",
   "nbconvert_exporter": "python",
   "pygments_lexer": "ipython3",
   "version": "3.10.16"
  }
 },
 "nbformat": 4,
 "nbformat_minor": 5
}
