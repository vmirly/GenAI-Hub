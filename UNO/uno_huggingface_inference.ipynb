{
 "cells": [
  {
   "cell_type": "markdown",
   "id": "2b22b9b2",
   "metadata": {},
   "source": [
    "UNO\n",
    "====\n",
    "\n",
    "**Less-to-More Generalization: Unlocking More Controllability by In-Context Generation**\n",
    "\n",
    " * Paper: https://arxiv.org/abs/2504.02160\n",
    "\n",
    "![UNO Overview](../assets/uno_overview.png)"
   ]
  },
  {
   "cell_type": "code",
   "execution_count": null,
   "id": "62b9fceb",
   "metadata": {
    "vscode": {
     "languageId": "plaintext"
    }
   },
   "outputs": [],
   "source": []
  }
 ],
 "metadata": {
  "language_info": {
   "name": "python"
  }
 },
 "nbformat": 4,
 "nbformat_minor": 5
}
