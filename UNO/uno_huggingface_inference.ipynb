{
 "cells": [
  {
   "cell_type": "markdown",
   "id": "2b22b9b2",
   "metadata": {},
   "source": [
    "UNO\n",
    "====\n",
    "\n",
    "**Less-to-More Generalization: Unlocking More Controllability by In-Context Generation**\n",
    "\n",
    " * Paper: https://arxiv.org/abs/2504.02160\n",
    "\n",
    "![UNO Overview](../assets/uno_overview.png)\n",
    "\n",
    "\n",
    "```bash\n",
    "# installation\n",
    "git clone https://github.com/bytedance/UNO.git\n",
    "pip install -r requirements.txt\n",
    "```"
   ]
  },
  {
   "cell_type": "code",
   "execution_count": null,
   "id": "d7e49499",
   "metadata": {},
   "outputs": [],
   "source": []
  }
 ],
 "metadata": {
  "kernelspec": {
   "display_name": "py311",
   "language": "python",
   "name": "python3"
  },
  "language_info": {
   "codemirror_mode": {
    "name": "ipython",
    "version": 3
   },
   "file_extension": ".py",
   "mimetype": "text/x-python",
   "name": "python",
   "nbconvert_exporter": "python",
   "pygments_lexer": "ipython3",
   "version": "3.10.16"
  }
 },
 "nbformat": 4,
 "nbformat_minor": 5
}
