{
 "cells": [
  {
   "cell_type": "markdown",
   "id": "ae2dc12e",
   "metadata": {},
   "source": [
    "LLaMA 2\n",
    "===\n",
    "\n",
    "**Llama 2: Open Foundation and Fine-Tuned Chat Models**\n",
    "\n",
    " * Paper: https://arxiv.org/abs/2307.09288\n",
    "\n",
    "![Llama 2 Overview](../assets/llama2_overview.png)\n",
    "\n",
    "```bash\n",
    "git clone https://github.com/facebookresearch/llama/ llama_repo\n",
    "```\n",
    "\n",
    "Folder structure:\n",
    "```bash\n",
    "llama_repo/\n",
    "├── CODE_OF_CONDUCT.md\n",
    "├── CONTRIBUTING.md\n",
    "├── download.sh\n",
    "├── example_chat_completion.py\n",
    "├── example_text_completion.py\n",
    "├── LICENSE\n",
    "├── llama\n",
    "│   ├── generation.py\n",
    "│   ├── __init__.py\n",
    "│   ├── model.py\n",
    "│   └── tokenizer.py\n",
    "├── MODEL_CARD.md\n",
    "├── README.md\n",
    "├── requirements.txt\n",
    "├── Responsible-Use-Guide.pdf\n",
    "├── setup.py\n",
    "├── UPDATES.md\n",
    "└── USE_POLICY.md\n",
    "```\n",
    "\n",
    "* Insrallation\n",
    "```bash\n",
    "pip install torch\n",
    "cd llama_repo\n",
    "pip install -e .\n",
    "```"
   ]
  },
  {
   "cell_type": "markdown",
   "id": "ed1febd4",
   "metadata": {},
   "source": [
    " * Getting the model\n",
    "\n",
    "# Feel out the request form at https://www.llama.com/llama-downloads/\n",
    "\n",
    "![Llama Request Form](../assets/llama_request_form.png)\n",
    "\n",
    "```bash\n",
    "pip install llama-stack -U\n",
    "\n",
    "llama download --source huggingface --model-id Llama-2-7b\n",
    "# Successfully downloaded model to /home/pyml/.llama/checkpoints/Llama-2-7b\n",
    "```"
   ]
  }
 ],
 "metadata": {
  "kernelspec": {
   "display_name": "llama",
   "language": "python",
   "name": "python3"
  },
  "language_info": {
   "codemirror_mode": {
    "name": "ipython",
    "version": 3
   },
   "file_extension": ".py",
   "mimetype": "text/x-python",
   "name": "python",
   "nbconvert_exporter": "python",
   "pygments_lexer": "ipython3",
   "version": "3.12.11"
  }
 },
 "nbformat": 4,
 "nbformat_minor": 5
}
