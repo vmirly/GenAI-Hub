{
 "cells": [
  {
   "cell_type": "markdown",
   "id": "af9fc23a",
   "metadata": {},
   "source": [
    "OWL-ViT\n",
    "====\n",
    "\n",
    "**Simple Open-Vocabulary Object Detection with Vision Transformers**\n",
    "\n",
    " * Paper: https://arxiv.org/abs/2205.06230\n",
    "\n",
    "![OWL-ViT training](../assets/owlvit_training.jpg)\n",
    "\n",
    "\n",
    "\n",
    "OWL-ViT is an open-vocabulary object detector that performs detection in a **class-agnostic** manner. \n",
    " * Given an input image, it first identifies regions that may contain objects without assuming any predefined categories.\n",
    " * Then, using a list of free-text queries, the model scores each region based on how likely it is to match each query.\n"
   ]
  },
  {
   "cell_type": "markdown",
   "id": "f75c48d1",
   "metadata": {},
   "source": [
    "**Instalation**\n",
    "\n",
    "```bash\n",
    "pip install torch torchvision\n",
    "pip install -q git+https://github.com/huggingface/transformers.git\n",
    "pip install matplotlib\n",
    "```"
   ]
  },
  {
   "cell_type": "code",
   "execution_count": null,
   "id": "1bed68ab",
   "metadata": {},
   "outputs": [
    {
     "name": "stderr",
     "output_type": "stream",
     "text": [
      "/home/pyml/anaconda3/envs/owlvit/lib/python3.11/site-packages/tqdm/auto.py:21: TqdmWarning: IProgress not found. Please update jupyter and ipywidgets. See https://ipywidgets.readthedocs.io/en/stable/user_install.html\n",
      "  from .autonotebook import tqdm as notebook_tqdm\n"
     ]
    }
   ],
   "source": [
    "from PIL import Image\n",
    "import matplotlib.pyplot as plt\n",
    "import torch\n",
    "from transformers import OwlViTProcessor, OwlViTForObjectDetection\n",
    "\n",
    "device = torch.device(\"cuda\" if torch.cuda.is_available() else \"cpu\")\n",
    "processor = OwlViTProcessor.from_pretrained(\n",
    "    \"google/owlvit-base-patch32\"\n",
    ")\n",
    "model = OwlViTForObjectDetection.from_pretrained(\n",
    "    \"google/owlvit-base-patch32\"\n",
    ")\n",
    "\n",
    "model.eval().to(device);"
   ]
  },
  {
   "cell_type": "code",
   "execution_count": 6,
   "id": "47ad4af7",
   "metadata": {},
   "outputs": [
    {
     "name": "stdout",
     "output_type": "stream",
     "text": [
      "input_ids: torch.Size([4, 16])\n",
      "attention_mask: torch.Size([4, 16])\n",
      "pixel_values: torch.Size([1, 3, 768, 768])\n"
     ]
    }
   ],
   "source": [
    "from PIL import Image\n",
    "import matplotlib.pyplot as plt\n",
    "\n",
    "image_path = \"../samples/plants.jpg\"\n",
    "text_queries = [\"a plant\", \"a flower\", \"a tree\", \"a vase\"]\n",
    "image = Image.open(image_path).convert(\"RGB\")\n",
    "\n",
    "# Process image and text inputs\n",
    "inputs = processor(\n",
    "    text=text_queries, images=image,\n",
    "    return_tensors=\"pt\"\n",
    ").to(device)\n",
    "\n",
    "# Print input names and shapes\n",
    "for key, val in inputs.items():\n",
    "    print(f\"{key}: {val.shape}\")\n"
   ]
  },
  {
   "cell_type": "code",
   "execution_count": 7,
   "id": "59ada998",
   "metadata": {},
   "outputs": [
    {
     "name": "stdout",
     "output_type": "stream",
     "text": [
      "logits: shape of torch.Size([1, 576, 4])\n",
      "pred_boxes: shape of torch.Size([1, 576, 4])\n",
      "text_embeds: shape of torch.Size([1, 4, 512])\n",
      "image_embeds: shape of torch.Size([1, 24, 24, 768])\n",
      "class_embeds: shape of torch.Size([1, 576, 512])\n",
      "\n",
      "Text model outputs\n",
      "last_hidden_state: shape of torch.Size([4, 16, 512])\n",
      "pooler_output: shape of torch.Size([4, 512])\n",
      "\n",
      "Vision model outputs\n",
      "last_hidden_state: shape of torch.Size([1, 577, 768])\n",
      "pooler_output: shape of torch.Size([1, 768])\n"
     ]
    }
   ],
   "source": [
    "# Get predictions\n",
    "with torch.no_grad():\n",
    "  outputs = model(**inputs)\n",
    "\n",
    "for k, val in outputs.items():\n",
    "    if k not in {\"text_model_output\", \"vision_model_output\"}:\n",
    "        print(f\"{k}: shape of {val.shape}\")\n",
    "\n",
    "print(\"\\nText model outputs\")\n",
    "for k, val in outputs.text_model_output.items():\n",
    "    print(f\"{k}: shape of {val.shape}\")\n",
    "\n",
    "print(\"\\nVision model outputs\")\n",
    "for k, val in outputs.vision_model_output.items():\n",
    "    print(f\"{k}: shape of {val.shape}\") "
   ]
  },
  {
   "cell_type": "code",
   "execution_count": null,
   "id": "615e32de",
   "metadata": {},
   "outputs": [],
   "source": []
  }
 ],
 "metadata": {
  "kernelspec": {
   "display_name": "owlvit",
   "language": "python",
   "name": "python3"
  },
  "language_info": {
   "codemirror_mode": {
    "name": "ipython",
    "version": 3
   },
   "file_extension": ".py",
   "mimetype": "text/x-python",
   "name": "python",
   "nbconvert_exporter": "python",
   "pygments_lexer": "ipython3",
   "version": "3.11.13"
  }
 },
 "nbformat": 4,
 "nbformat_minor": 5
}
