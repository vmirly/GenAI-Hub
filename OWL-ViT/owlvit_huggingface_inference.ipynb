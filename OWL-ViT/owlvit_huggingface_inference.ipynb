{
 "cells": [
  {
   "cell_type": "markdown",
   "id": "af9fc23a",
   "metadata": {},
   "source": [
    "OWL-ViT\n",
    "====\n",
    "\n",
    "**Simple Open-Vocabulary Object Detection with Vision Transformers**\n",
    "\n",
    " * Paper: https://arxiv.org/abs/2205.06230\n",
    "\n",
    "![OWL-ViT training](../assets/owlvit_training.jpg)"
   ]
  },
  {
   "cell_type": "markdown",
   "id": "f75c48d1",
   "metadata": {},
   "source": [
    "**Instalation**\n",
    "\n",
    "```bash\n",
    "pip install torch torchvision\n",
    "pip install -q git+https://github.com/huggingface/transformers.git\n",
    "pip install matplotlib\n",
    "```"
   ]
  },
  {
   "cell_type": "markdown",
   "id": "ac274e78",
   "metadata": {},
   "source": []
  }
 ],
 "metadata": {
  "kernelspec": {
   "display_name": "owlvit",
   "language": "python",
   "name": "python3"
  },
  "language_info": {
   "name": "python",
   "version": "3.11.13"
  }
 },
 "nbformat": 4,
 "nbformat_minor": 5
}
