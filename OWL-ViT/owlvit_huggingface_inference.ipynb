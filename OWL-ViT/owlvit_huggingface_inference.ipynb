{
 "cells": [
  {
   "cell_type": "markdown",
   "id": "af9fc23a",
   "metadata": {},
   "source": [
    "OWL-ViT\n",
    "====\n",
    "\n",
    "**Simple Open-Vocabulary Object Detection with Vision Transformers**\n",
    "\n",
    " * Paper: https://arxiv.org/abs/2205.06230\n",
    "\n",
    "![OWL-ViT training](../assets/owlvit_training.jpg)"
   ]
  },
  {
   "cell_type": "markdown",
   "id": "f75c48d1",
   "metadata": {},
   "source": [
    "**Instalation**\n",
    "\n",
    "```bash\n",
    "pip install torch torchvision\n",
    "pip install -q git+https://github.com/huggingface/transformers.git\n",
    "pip install matplotlib\n",
    "```"
   ]
  },
  {
   "cell_type": "code",
   "execution_count": null,
   "id": "1bed68ab",
   "metadata": {},
   "outputs": [
    {
     "name": "stderr",
     "output_type": "stream",
     "text": [
      "/home/pyml/anaconda3/envs/owlvit/lib/python3.11/site-packages/tqdm/auto.py:21: TqdmWarning: IProgress not found. Please update jupyter and ipywidgets. See https://ipywidgets.readthedocs.io/en/stable/user_install.html\n",
      "  from .autonotebook import tqdm as notebook_tqdm\n"
     ]
    }
   ],
   "source": [
    "from PIL import Image\n",
    "import matplotlib.pyplot as plt\n",
    "import torch\n",
    "from transformers import OwlViTProcessor, OwlViTForObjectDetection\n",
    "\n",
    "device = torch.device(\"cuda\" if torch.cuda.is_available() else \"cpu\")\n",
    "processor = OwlViTProcessor.from_pretrained(\n",
    "    \"google/owlvit-base-patch32\"\n",
    ")\n",
    "model = OwlViTForObjectDetection.from_pretrained(\n",
    "    \"google/owlvit-base-patch32\"\n",
    ")\n",
    "\n",
    "model.eval().to(device);"
   ]
  },
  {
   "cell_type": "code",
   "execution_count": null,
   "id": "47ad4af7",
   "metadata": {},
   "outputs": [],
   "source": []
  }
 ],
 "metadata": {
  "kernelspec": {
   "display_name": "owlvit",
   "language": "python",
   "name": "python3"
  },
  "language_info": {
   "codemirror_mode": {
    "name": "ipython",
    "version": 3
   },
   "file_extension": ".py",
   "mimetype": "text/x-python",
   "name": "python",
   "nbconvert_exporter": "python",
   "pygments_lexer": "ipython3",
   "version": "3.11.13"
  }
 },
 "nbformat": 4,
 "nbformat_minor": 5
}
