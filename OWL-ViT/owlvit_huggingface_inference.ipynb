{
 "cells": [
  {
   "cell_type": "markdown",
   "id": "af9fc23a",
   "metadata": {},
   "source": [
    "OWL-ViT\n",
    "====\n",
    "\n",
    "**Simple Open-Vocabulary Object Detection with Vision Transformers**\n",
    "\n",
    " * Paper: https://arxiv.org/abs/2205.06230\n",
    "\n",
    "![OWL-ViT training](../assets/owlvit_training.jpg)\n",
    "\n",
    "\n",
    "\n",
    "OWL-ViT is an open-vocabulary object detector that performs detection in a **class-agnostic** manner. \n",
    " * Given an input image, it first identifies regions that may contain objects without assuming any predefined categories.\n",
    " * Then, using a list of free-text queries, the model scores each region based on how likely it is to match each query.\n"
   ]
  },
  {
   "cell_type": "markdown",
   "id": "f75c48d1",
   "metadata": {},
   "source": [
    "**Instalation**\n",
    "\n",
    "```bash\n",
    "pip install torch torchvision\n",
    "pip install -q git+https://github.com/huggingface/transformers.git\n",
    "pip install matplotlib\n",
    "pip install supervision\n",
    "```"
   ]
  },
  {
   "cell_type": "code",
   "execution_count": 1,
   "id": "1bed68ab",
   "metadata": {},
   "outputs": [
    {
     "name": "stderr",
     "output_type": "stream",
     "text": [
      "TqdmWarning: IProgress not found. Please update jupyter and ipywidgets. See https://ipywidgets.readthedocs.io/en/stable/user_install.html\n"
     ]
    }
   ],
   "source": [
    "from PIL import Image\n",
    "import matplotlib.pyplot as plt\n",
    "import numpy as np\n",
    "import supervision as sv\n",
    "\n",
    "import torch\n",
    "from transformers import OwlViTProcessor, OwlViTForObjectDetection\n",
    "\n",
    "device = torch.device(\"cuda\" if torch.cuda.is_available() else \"cpu\")\n",
    "processor = OwlViTProcessor.from_pretrained(\n",
    "    \"google/owlvit-base-patch32\"\n",
    ")\n",
    "model = OwlViTForObjectDetection.from_pretrained(\n",
    "    \"google/owlvit-base-patch32\"\n",
    ")\n",
    "\n",
    "model.eval().to(device);"
   ]
  },
  {
   "cell_type": "code",
   "execution_count": 2,
   "id": "47ad4af7",
   "metadata": {},
   "outputs": [
    {
     "name": "stdout",
     "output_type": "stream",
     "text": [
      "input_ids: torch.Size([4, 16])\n",
      "attention_mask: torch.Size([4, 16])\n",
      "pixel_values: torch.Size([1, 3, 768, 768])\n"
     ]
    }
   ],
   "source": [
    "from PIL import Image\n",
    "import matplotlib.pyplot as plt\n",
    "\n",
    "image_path = \"../samples/plants.jpg\"\n",
    "text_queries = [\"a plant\", \"a flower\", \"a tree\", \"a vase\"]\n",
    "image = Image.open(image_path).convert(\"RGB\")\n",
    "w, h = image.size\n",
    "image = image.resize((w // 4, h // 4))\n",
    "\n",
    "# Process image and text inputs\n",
    "inputs = processor(\n",
    "    text=[text_queries], images=image,\n",
    "    return_tensors=\"pt\"\n",
    ").to(device)\n",
    "\n",
    "# Print input names and shapes\n",
    "for key, val in inputs.items():\n",
    "    print(f\"{key}: {val.shape}\")\n"
   ]
  },
  {
   "cell_type": "code",
   "execution_count": 3,
   "id": "59ada998",
   "metadata": {},
   "outputs": [
    {
     "name": "stdout",
     "output_type": "stream",
     "text": [
      "logits: shape of torch.Size([1, 576, 4])\n",
      "pred_boxes: shape of torch.Size([1, 576, 4])\n",
      "text_embeds: shape of torch.Size([1, 4, 512])\n",
      "image_embeds: shape of torch.Size([1, 24, 24, 768])\n",
      "class_embeds: shape of torch.Size([1, 576, 512])\n",
      "\n",
      "Text model outputs\n",
      "last_hidden_state: shape of torch.Size([4, 16, 512])\n",
      "pooler_output: shape of torch.Size([4, 512])\n",
      "\n",
      "Vision model outputs\n",
      "last_hidden_state: shape of torch.Size([1, 577, 768])\n",
      "pooler_output: shape of torch.Size([1, 768])\n"
     ]
    }
   ],
   "source": [
    "# Get predictions\n",
    "with torch.no_grad():\n",
    "  outputs = model(**inputs)\n",
    "\n",
    "for k, val in outputs.items():\n",
    "    if k not in {\"text_model_output\", \"vision_model_output\"}:\n",
    "        print(f\"{k}: shape of {val.shape}\")\n",
    "\n",
    "print(\"\\nText model outputs\")\n",
    "for k, val in outputs.text_model_output.items():\n",
    "    print(f\"{k}: shape of {val.shape}\")\n",
    "\n",
    "print(\"\\nVision model outputs\")\n",
    "for k, val in outputs.vision_model_output.items():\n",
    "    print(f\"{k}: shape of {val.shape}\") "
   ]
  },
  {
   "cell_type": "code",
   "execution_count": 4,
   "id": "615e32de",
   "metadata": {},
   "outputs": [
    {
     "name": "stdout",
     "output_type": "stream",
     "text": [
      "Detected a plant with confidence 0.107 at location [102.39, 22.71, 201.05, 270.97]\n",
      "Detected a vase with confidence 0.155 at location [38.44, 157.63, 99.93, 267.99]\n",
      "Detected a vase with confidence 0.172 at location [38.09, 158.26, 100.21, 267.0]\n",
      "Detected a vase with confidence 0.238 at location [116.19, 127.45, 196.1, 271.34]\n",
      "Detected a vase with confidence 0.178 at location [116.73, 124.51, 195.9, 270.6]\n"
     ]
    }
   ],
   "source": [
    "# rescale boxes to image size\n",
    "target_sizes = torch.tensor([(image.height, image.width)])\n",
    "\n",
    "# Convert bboxes to xyxy format\n",
    "results = processor.post_process_grounded_object_detection(\n",
    "    outputs=outputs, target_sizes=target_sizes,\n",
    "    threshold=0.1, text_labels=[text_queries]\n",
    ")\n",
    "\n",
    "\n",
    "boxes = results[0][\"boxes\"]\n",
    "scores = results[0][\"scores\"]\n",
    "text_labels = results[0][\"text_labels\"]\n",
    "\n",
    "for box, score, text_label in zip(boxes, scores, text_labels):\n",
    "    box = [round(i, 2) for i in box.tolist()]\n",
    "    print(\n",
    "        f\"Detected {text_label} \"\n",
    "        f\"with confidence {round(score.item(), 3)} \"\n",
    "        f\"at location {box}\"\n",
    "    )"
   ]
  },
  {
   "cell_type": "code",
   "execution_count": null,
   "id": "9c027add",
   "metadata": {},
   "outputs": [],
   "source": []
  }
 ],
 "metadata": {
  "kernelspec": {
   "display_name": "owlvit",
   "language": "python",
   "name": "python3"
  },
  "language_info": {
   "codemirror_mode": {
    "name": "ipython",
    "version": 3
   },
   "file_extension": ".py",
   "mimetype": "text/x-python",
   "name": "python",
   "nbconvert_exporter": "python",
   "pygments_lexer": "ipython3",
   "version": "3.11.13"
  }
 },
 "nbformat": 4,
 "nbformat_minor": 5
}
