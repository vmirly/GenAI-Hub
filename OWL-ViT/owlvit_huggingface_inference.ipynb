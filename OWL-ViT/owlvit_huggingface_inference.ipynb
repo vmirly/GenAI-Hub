{
 "cells": [
  {
   "cell_type": "markdown",
   "id": "af9fc23a",
   "metadata": {},
   "source": [
    "OWL-ViT\n",
    "====\n",
    "\n",
    "**Simple Open-Vocabulary Object Detection with Vision Transformers**\n",
    "\n",
    " * Paper: https://arxiv.org/abs/2205.06230\n",
    "\n"
   ]
  }
 ],
 "metadata": {
  "language_info": {
   "name": "python"
  }
 },
 "nbformat": 4,
 "nbformat_minor": 5
}
