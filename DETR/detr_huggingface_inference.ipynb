{
 "cells": [
  {
   "cell_type": "markdown",
   "id": "74a188f4",
   "metadata": {},
   "source": [
    "DETR\n",
    "====\n",
    "\n",
    "**End-to-End Object Detection with Transformers**\n",
    "\n",
    " * Paper: https://arxiv.org/abs/2005.12872\n",
    "\n",
    "![DETR Overview](../assets/detr_overview.png)\n",
    "\n",
    "```bash\n",
    "pip install torch torchvision\n",
    "pip install transformers\n",
    "pip install timm\n",
    "pip install supervision\n",
    "```"
   ]
  }
 ],
 "metadata": {
  "kernelspec": {
   "display_name": "py311",
   "language": "python",
   "name": "python3"
  },
  "language_info": {
   "codemirror_mode": {
    "name": "ipython",
    "version": 3
   },
   "file_extension": ".py",
   "mimetype": "text/x-python",
   "name": "python",
   "nbconvert_exporter": "python",
   "pygments_lexer": "ipython3",
   "version": "3.10.16"
  }
 },
 "nbformat": 4,
 "nbformat_minor": 5
}
