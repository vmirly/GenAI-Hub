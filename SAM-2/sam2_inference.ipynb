{
 "cells": [
  {
   "cell_type": "markdown",
   "metadata": {},
   "source": [
    "SAM-2\n",
    "===\n",
    "\n",
    " * Paper: https://arxiv.org/abs/2408.00714\n",
    "\n",
    "![SAM-2 overview](../assets/sam2-overview.png)"
   ]
  },
  {
   "cell_type": "markdown",
   "metadata": {},
   "source": [
    "```bash\n",
    "pip install torch torchvision\n",
    "pip install matplotlib\n",
    "pip install supervision\n",
    "```\n",
    "\n",
    "```bash\n",
    "git clone https://github.com/facebookresearch/sam2.git && cd sam2\n",
    "# installation without CUDA\n",
    "SAM2_BUILD_CUDA=0 pip install -e \".[notebooks]\"\n",
    "````"
   ]
  },
  {
   "cell_type": "code",
   "execution_count": 2,
   "metadata": {},
   "outputs": [],
   "source": [
    "import os\n",
    "import numpy as np\n",
    "from PIL import Image\n",
    "import supervision as sv\n",
    "import matplotlib.pyplot as plt\n",
    "import torch\n",
    "import torchvision\n",
    "\n",
    "from sam2.sam2_image_predictor import SAM2ImagePredictor\n",
    "predictor = SAM2ImagePredictor.from_pretrained(\n",
    "    \"facebook/sam2-hiera-large\"\n",
    ")"
   ]
  },
  {
   "cell_type": "code",
   "execution_count": 8,
   "metadata": {},
   "outputs": [
    {
     "name": "stdout",
     "output_type": "stream",
     "text": [
      "masks: (3, 1137, 1068)\n",
      "scores: (3,)\n",
      "raw_logits: (3, 256, 256)\n"
     ]
    }
   ],
   "source": [
    "image_path = \"../samples/plants.jpg\"\n",
    "image = Image.open(image_path).convert(\"RGB\")\n",
    "input_points = np.array([(650, 200)])\n",
    "\n",
    "with torch.inference_mode():\n",
    "    predictor.set_image(image)\n",
    "    masks, scores, raw_logits = predictor.predict(\n",
    "        point_coords=input_points,\n",
    "        point_labels=[1],\n",
    "    )\n",
    "\n",
    "print(\"masks:\", masks.shape)\n",
    "print(\"scores:\", scores.shape)\n",
    "print(\"raw_logits:\", raw_logits.shape)"
   ]
  },
  {
   "cell_type": "code",
   "execution_count": null,
   "metadata": {},
   "outputs": [],
   "source": []
  },
  {
   "cell_type": "code",
   "execution_count": null,
   "metadata": {},
   "outputs": [],
   "source": []
  }
 ],
 "metadata": {
  "kernelspec": {
   "display_name": "py311",
   "language": "python",
   "name": "python3"
  },
  "language_info": {
   "codemirror_mode": {
    "name": "ipython",
    "version": 3
   },
   "file_extension": ".py",
   "mimetype": "text/x-python",
   "name": "python",
   "nbconvert_exporter": "python",
   "pygments_lexer": "ipython3",
   "version": "3.11.11"
  }
 },
 "nbformat": 4,
 "nbformat_minor": 2
}
