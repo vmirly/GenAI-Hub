{
 "cells": [
  {
   "cell_type": "markdown",
   "id": "b714a807",
   "metadata": {},
   "source": [
    "deepset/BERT\n",
    "===\n",
    "\n",
    "QA with BERT\n",
    "\n",
    "```bash\n",
    "pip install haystack-ai\n",
    "pip install transformers[torch,sentencepiece]\n",
    "```"
   ]
  },
  {
   "cell_type": "code",
   "execution_count": 1,
   "id": "85290210",
   "metadata": {},
   "outputs": [
    {
     "name": "stderr",
     "output_type": "stream",
     "text": [
      "Some weights of the model checkpoint at deepset/bert-base-cased-squad2 were not used when initializing BertForQuestionAnswering: ['bert.pooler.dense.bias', 'bert.pooler.dense.weight']\n",
      "- This IS expected if you are initializing BertForQuestionAnswering from the checkpoint of a model trained on another task or with another architecture (e.g. initializing a BertForSequenceClassification model from a BertForPreTraining model).\n",
      "- This IS NOT expected if you are initializing BertForQuestionAnswering from the checkpoint of a model that you expect to be exactly identical (initializing a BertForSequenceClassification model from a BertForSequenceClassification model).\n"
     ]
    }
   ],
   "source": [
    "# After running pip install haystack-ai \"transformers[torch,sentencepiece]\"\n",
    "\n",
    "from haystack import Document\n",
    "from haystack.components.readers import ExtractiveReader\n",
    "\n",
    "reader = ExtractiveReader(model=\"deepset/bert-base-cased-squad2\")\n",
    "reader.warm_up()\n"
   ]
  },
  {
   "cell_type": "code",
   "execution_count": 8,
   "id": "2e020eef",
   "metadata": {},
   "outputs": [
    {
     "data": {
      "text/plain": [
       "{'answers': [ExtractedAnswer(query='What is a popular programming language?', score=0.3417983651161194, data='Python', document=Document(id=db7f24c54f2476f5d0c438cfcbbea5e45de37124ff7de69a5bf8e82413c3f614, content: 'Python is a popular programming language'), context=None, document_offset=ExtractedAnswer.Span(start=0, end=6), context_offset=None, meta={}),\n",
       "  ExtractedAnswer(query='What is a popular programming language?', score=0.33067330718040466, data='Eiffel Tower', document=Document(id=7f4c75fc62d2858c879bd56b89c43b24aecd93815e55e725d3fd5880fab059c3, content: 'The Eiffel Tower is located in Paris'), context=None, document_offset=ExtractedAnswer.Span(start=4, end=16), context_offset=None, meta={}),\n",
       "  ExtractedAnswer(query='What is a popular programming language?', score=0.295074462890625, data='programming language', document=Document(id=db7f24c54f2476f5d0c438cfcbbea5e45de37124ff7de69a5bf8e82413c3f614, content: 'Python is a popular programming language'), context=None, document_offset=ExtractedAnswer.Span(start=20, end=40), context_offset=None, meta={}),\n",
       "  ExtractedAnswer(query='What is a popular programming language?', score=0.2124277502298355, data='popular', document=Document(id=db7f24c54f2476f5d0c438cfcbbea5e45de37124ff7de69a5bf8e82413c3f614, content: 'Python is a popular programming language'), context=None, document_offset=ExtractedAnswer.Span(start=12, end=19), context_offset=None, meta={}),\n",
       "  ExtractedAnswer(query='What is a popular programming language?', score=0.19623875617980957, data='a', document=Document(id=db7f24c54f2476f5d0c438cfcbbea5e45de37124ff7de69a5bf8e82413c3f614, content: 'Python is a popular programming language'), context=None, document_offset=ExtractedAnswer.Span(start=10, end=11), context_offset=None, meta={}),\n",
       "  ExtractedAnswer(query='What is a popular programming language?', score=0.17485825717449188, data='is', document=Document(id=db7f24c54f2476f5d0c438cfcbbea5e45de37124ff7de69a5bf8e82413c3f614, content: 'Python is a popular programming language'), context=None, document_offset=ExtractedAnswer.Span(start=7, end=9), context_offset=None, meta={}),\n",
       "  ExtractedAnswer(query='What is a popular programming language?', score=0.16221326669471134, data=None, document=None, context=None, document_offset=None, context_offset=None, meta={})]}"
      ]
     },
     "execution_count": 8,
     "metadata": {},
     "output_type": "execute_result"
    }
   ],
   "source": [
    "docs = [\n",
    "    Document(content=\"Python is a popular programming language\"),\n",
    "    Document(content=\"The Eiffel Tower is located in Paris\"),\n",
    "]\n",
    "\n",
    "\n",
    "question = \"What is a popular programming language?\"\n",
    "result = reader.run(query=question, documents=docs)\n",
    "result"
   ]
  },
  {
   "cell_type": "code",
   "execution_count": 10,
   "id": "9c036cff",
   "metadata": {},
   "outputs": [
    {
     "data": {
      "text/plain": [
       "[('Python', 0.3417983651161194),\n",
       " ('Eiffel Tower', 0.33067330718040466),\n",
       " ('programming language', 0.295074462890625),\n",
       " ('popular', 0.2124277502298355),\n",
       " ('a', 0.19623875617980957),\n",
       " ('is', 0.17485825717449188),\n",
       " (None, 0.16221326669471134)]"
      ]
     },
     "execution_count": 10,
     "metadata": {},
     "output_type": "execute_result"
    }
   ],
   "source": [
    "[(r.data, r.score) for r in result[\"answers\"]]"
   ]
  },
  {
   "cell_type": "code",
   "execution_count": null,
   "id": "1339a46c",
   "metadata": {},
   "outputs": [],
   "source": []
  }
 ],
 "metadata": {
  "kernelspec": {
   "display_name": "py311",
   "language": "python",
   "name": "python3"
  },
  "language_info": {
   "codemirror_mode": {
    "name": "ipython",
    "version": 3
   },
   "file_extension": ".py",
   "mimetype": "text/x-python",
   "name": "python",
   "nbconvert_exporter": "python",
   "pygments_lexer": "ipython3",
   "version": "3.11.11"
  }
 },
 "nbformat": 4,
 "nbformat_minor": 5
}
