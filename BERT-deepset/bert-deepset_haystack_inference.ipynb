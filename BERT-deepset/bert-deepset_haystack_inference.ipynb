{
 "cells": [
  {
   "cell_type": "markdown",
   "id": "b714a807",
   "metadata": {},
   "source": [
    "deepset/BERT\n",
    "===\n",
    "\n",
    "QA with BERT\n",
    "\n",
    "```bash\n",
    "pip install haystack-ai\n",
    "pip install transformers[torch,sentencepiece]\n",
    "```"
   ]
  },
  {
   "cell_type": "code",
   "execution_count": 1,
   "id": "85290210",
   "metadata": {},
   "outputs": [
    {
     "name": "stderr",
     "output_type": "stream",
     "text": [
      "Some weights of the model checkpoint at deepset/bert-base-cased-squad2 were not used when initializing BertForQuestionAnswering: ['bert.pooler.dense.bias', 'bert.pooler.dense.weight']\n",
      "- This IS expected if you are initializing BertForQuestionAnswering from the checkpoint of a model trained on another task or with another architecture (e.g. initializing a BertForSequenceClassification model from a BertForPreTraining model).\n",
      "- This IS NOT expected if you are initializing BertForQuestionAnswering from the checkpoint of a model that you expect to be exactly identical (initializing a BertForSequenceClassification model from a BertForSequenceClassification model).\n"
     ]
    }
   ],
   "source": [
    "# After running pip install haystack-ai \"transformers[torch,sentencepiece]\"\n",
    "\n",
    "from haystack import Document\n",
    "from haystack.components.readers import ExtractiveReader\n",
    "\n",
    "reader = ExtractiveReader(model=\"deepset/bert-base-cased-squad2\")\n",
    "reader.warm_up()\n"
   ]
  },
  {
   "cell_type": "code",
   "execution_count": null,
   "id": "2e020eef",
   "metadata": {},
   "outputs": [],
   "source": []
  }
 ],
 "metadata": {
  "kernelspec": {
   "display_name": "py311",
   "language": "python",
   "name": "python3"
  },
  "language_info": {
   "codemirror_mode": {
    "name": "ipython",
    "version": 3
   },
   "file_extension": ".py",
   "mimetype": "text/x-python",
   "name": "python",
   "nbconvert_exporter": "python",
   "pygments_lexer": "ipython3",
   "version": "3.11.11"
  }
 },
 "nbformat": 4,
 "nbformat_minor": 5
}
