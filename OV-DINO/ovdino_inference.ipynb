{
 "cells": [
  {
   "cell_type": "markdown",
   "id": "3c0ce11f",
   "metadata": {},
   "source": [
    "OV-DINO\n",
    "=====\n",
    "\n",
    "**OV-DINO: Unified Open-Vocabulary Detection with Language-Aware Selective Fusion**\n",
    "\n",
    "* Paper: https://arxiv.org/abs/2407.07844\n",
    "\n",
    "![OV-DINO vs Previous Models](../assets/ovdino_vs_previous.jpg)\n",
    "\n",
    "![OV-DINO's LASF](../assets/ovdino_lasf_overview.jpg)\n",
    "\n",
    "![OV-DINO Overview](../assets/ovdino_overview.jpg)"
   ]
  },
  {
   "cell_type": "markdown",
   "id": "bf359672",
   "metadata": {},
   "source": [
    "## Installation\n",
    "\n",
    "```bash\n",
    "conda create -n ovdino python=3.10 -y\n",
    "conda activate ovdino\n",
    "\n",
    "# Install PyTorch for CUDA 11.6 from the official channels\n",
    "conda install -y pytorch==1.13.1 torchvision==0.14.1 torchaudio==0.13.1 \\\n",
    "                pytorch-cuda=11.6 -c pytorch -c nvidia\n",
    "\n",
    "# Optional: install GCC 9 for compatibility when compiling detectron2\n",
    "conda install -y gcc=9 gxx=9 -c conda-forge\n",
    "\n",
    "# install cudatoolkit-11.6\n",
    "conda install -y cudatoolkit-dev=11.6 -c conda-forge\n",
    "\n",
    "# set CUDA_HOME env-var:\n",
    "export CUDA_HOME=$CONDA_PREFIX  # since cudatoolkit-dev installs CUDA here\n",
    "export PATH=$CUDA_HOME/bin:$PATH\n",
    "export LD_LIBRARY_PATH=$CUDA_HOME/lib:$LD_LIBRARY_PATH\n",
    "\n",
    "# Verify nvcc version\n",
    "nvcc -V\n",
    "# It should report \"Cuda compilation tools, release 11.6\".\n",
    "```\n",
    " \n",
    "```bash\n",
    "git clone https://github.com/wanghao9610/OV-DINO.git OVDINO_repo\n",
    "cd OVDINO_repo\n",
    "export root_dir=$(realpath ./)\n",
    "cd $root_dir/ovdino\n",
    "\n",
    "# build and install detectron2\n",
    "python -m pip install -e detectron2-717ab9\n",
    "\n",
    "# install OV-DINO itself\n",
    "pip install -e .\n",
    "```"
   ]
  },
  {
   "cell_type": "markdown",
   "id": "c02d3572",
   "metadata": {},
   "source": []
  }
 ],
 "metadata": {
  "kernelspec": {
   "display_name": "ovdino",
   "language": "python",
   "name": "python3"
  },
  "language_info": {
   "name": "python",
   "version": "3.10.18"
  }
 },
 "nbformat": 4,
 "nbformat_minor": 5
}
