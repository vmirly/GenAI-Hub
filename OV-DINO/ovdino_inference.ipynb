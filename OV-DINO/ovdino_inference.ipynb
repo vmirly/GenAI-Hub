{
 "cells": [
  {
   "cell_type": "markdown",
   "id": "3c0ce11f",
   "metadata": {},
   "source": [
    "OV-DINO\n",
    "=====\n",
    "\n",
    "**OV-DINO: Unified Open-Vocabulary Detection with Language-Aware Selective Fusion**\n",
    "\n",
    "* Paper: https://arxiv.org/abs/2407.07844\n",
    "\n",
    "![OV-DINO vs Previous Models](../assets/ovdino_vs_previous.jpg)\n",
    "\n",
    "![OV-DINO's LASF](../assets/ovdino_lasf_overview.jpg)\n",
    "\n",
    "![OV-DINO Overview](../assets/ovdino_overview.jpg)"
   ]
  },
  {
   "cell_type": "markdown",
   "id": "bf359672",
   "metadata": {},
   "source": []
  }
 ],
 "metadata": {
  "kernelspec": {
   "display_name": "ovdino",
   "language": "python",
   "name": "python3"
  },
  "language_info": {
   "name": "python",
   "version": "3.10.18"
  }
 },
 "nbformat": 4,
 "nbformat_minor": 5
}
