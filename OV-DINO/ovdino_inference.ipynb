{
 "cells": [
  {
   "cell_type": "markdown",
   "id": "3c0ce11f",
   "metadata": {},
   "source": [
    "OV-DINO\n",
    "=====\n",
    "\n",
    "**OV-DINO: Unified Open-Vocabulary Detection with Language-Aware Selective Fusion**\n",
    "\n",
    "* Paper: https://arxiv.org/abs/2407.07844\n",
    "\n",
    "![OV-DINO vs Previous Models](../assets/ovdino_vs_previous.jpg)\n",
    "\n",
    "![OV-DINO's LASF](../assets/ovdino_lasf_overview.jpg)\n",
    "\n",
    "![OV-DINO Overview](../assets/ovdino_overview.jpg)"
   ]
  },
  {
   "cell_type": "markdown",
   "id": "bf359672",
   "metadata": {},
   "source": [
    "## Installation\n",
    "\n",
    "```bash\n",
    "conda create -n ovdino python=3.10 -y\n",
    "conda activate ovdino\n",
    "\n",
    "# Install PyTorch for CUDA 11.6 from the official channels\n",
    "conda install -y pytorch==1.13.1 torchvision==0.14.1 torchaudio==0.13.1 \\\n",
    "                pytorch-cuda=11.6 -c pytorch -c nvidia\n",
    "\n",
    "# Optional: install GCC 9 for compatibility when compiling detectron2\n",
    "conda install -y gcc=9 gxx=9 -c conda-forge\n",
    "\n",
    "# install cudatoolkit-11.6\n",
    "conda install -y cudatoolkit-dev=11.6 -c conda-forge\n",
    "\n",
    "# set CUDA_HOME env-var:\n",
    "export CUDA_HOME=$CONDA_PREFIX  # since cudatoolkit-dev installs CUDA here\n",
    "export PATH=$CUDA_HOME/bin:$PATH\n",
    "export LD_LIBRARY_PATH=$CUDA_HOME/lib:$LD_LIBRARY_PATH\n",
    "\n",
    "# Verify nvcc version\n",
    "nvcc -V\n",
    "# It should report \"Cuda compilation tools, release 11.6\".\n",
    "```\n",
    " \n",
    "```bash\n",
    "git clone https://github.com/wanghao9610/OV-DINO.git OVDINO_repo\n",
    "cd OVDINO_repo\n",
    "export root_dir=$(realpath ./)\n",
    "cd $root_dir/ovdino\n",
    "\n",
    "# build and install detectron2\n",
    "python -m pip install -e detectron2-717ab9\n",
    "\n",
    "pip install addict\n",
    "\n",
    "# install OV-DINO itself\n",
    "pip install -e .\n",
    "```\n",
    "\n",
    "\n",
    " * Later warning about numpy version\n",
    " ```\n",
    " pip install \"numpy<2\"\n",
    " ```"
   ]
  },
  {
   "cell_type": "markdown",
   "id": "61f43187",
   "metadata": {},
   "source": [
    "## Download model\n",
    "\n",
    "```bash\n",
    "wget https://huggingface.co/hao9610/OV-DINO/resolve/main/ovdino_swint_ogc-coco50.2_lvismv40.1_lvis32.9.pth  -p OVDINO_repo/inits/\n",
    "```"
   ]
  },
  {
   "cell_type": "code",
   "execution_count": 4,
   "id": "074d6e74",
   "metadata": {},
   "outputs": [
    {
     "data": {
      "text/plain": [
       "'1.26.4'"
      ]
     },
     "execution_count": 4,
     "metadata": {},
     "output_type": "execute_result"
    }
   ],
   "source": [
    "import numpy as np\n",
    "np.__version__"
   ]
  },
  {
   "cell_type": "code",
   "execution_count": 1,
   "id": "3b81cf05",
   "metadata": {},
   "outputs": [
    {
     "name": "stderr",
     "output_type": "stream",
     "text": [
      "/home/pyml/anaconda3/envs/ovdino/lib/python3.10/site-packages/tqdm/auto.py:21: TqdmWarning: IProgress not found. Please update jupyter and ipywidgets. See https://ipywidgets.readthedocs.io/en/stable/user_install.html\n",
      "  from .autonotebook import tqdm as notebook_tqdm\n",
      "/home/pyml/anaconda3/envs/ovdino/lib/python3.10/site-packages/timm/models/layers/__init__.py:48: FutureWarning: Importing from timm.models.layers is deprecated, please import via timm.layers\n",
      "  warnings.warn(f\"Importing from {__name__} is deprecated, please import via timm.layers\", FutureWarning)\n",
      "/home/pyml/anaconda3/envs/ovdino/lib/python3.10/site-packages/torch/functional.py:504: UserWarning: torch.meshgrid: in an upcoming release, it will be required to pass the indexing argument. (Triggered internally at /opt/conda/conda-bld/pytorch_1670525552843/work/aten/src/ATen/native/TensorShape.cpp:3190.)\n",
      "  return _VF.meshgrid(tensors, **kwargs)  # type: ignore[attr-defined]\n",
      "/home/pyml/anaconda3/envs/ovdino/lib/python3.10/site-packages/huggingface_hub/file_download.py:945: FutureWarning: `resume_download` is deprecated and will be removed in version 1.0.0. Downloads always resume when possible. If you want to force a new download, use `force_download=True`.\n",
      "  warnings.warn(\n",
      "Some weights of the model checkpoint at bert-base-uncased were not used when initializing BertModel: ['cls.predictions.transform.dense.weight', 'cls.predictions.transform.LayerNorm.weight', 'cls.predictions.transform.LayerNorm.bias', 'cls.predictions.transform.dense.bias', 'cls.predictions.bias', 'cls.seq_relationship.bias', 'cls.seq_relationship.weight', 'bert.pooler.dense.bias', 'bert.pooler.dense.weight']\n",
      "- This IS expected if you are initializing BertModel from the checkpoint of a model trained on another task or with another architecture (e.g. initializing a BertForSequenceClassification model from a BertForPreTraining model).\n",
      "- This IS NOT expected if you are initializing BertModel from the checkpoint of a model that you expect to be exactly identical (initializing a BertForSequenceClassification model from a BertForSequenceClassification model).\n"
     ]
    }
   ],
   "source": [
    "import os\n",
    "import cv2\n",
    "import torch\n",
    "import detectron2.data.transforms as T\n",
    "from detectron2.checkpoint import DetectionCheckpointer\n",
    "from detectron2.config import LazyConfig, instantiate\n",
    "from detrex.data.datasets import clean_words_or_phrase\n",
    "\n",
    "def filter_predictions_with_confidence(predictions, threshold=0.5):\n",
    "    \"\"\"\n",
    "    Keep only instances above a given confidence threshold.\n",
    "    \"\"\"\n",
    "    if \"instances\" in predictions:\n",
    "        preds = predictions[\"instances\"]\n",
    "        keep_idxs = preds.scores > threshold\n",
    "        predictions = predictions.copy()  # avoid modifying in place\n",
    "        predictions[\"instances\"] = preds[keep_idxs]\n",
    "    return predictions\n",
    "\n",
    "# ---------------------------------------------------------------------\n",
    "# 1. Load config and build model\n",
    "# ---------------------------------------------------------------------\n",
    "# Ensure MODEL_ROOT points to the directory containing your checkpoints\n",
    "os.environ[\"MODEL_ROOT\"] = \"./inits\"\n",
    "cfg = LazyConfig.load(\n",
    "    \"OVDINO_repo/ovdino/projects/ovdino/configs/ovdino_swin_tiny224_bert_base_eval_coco.py\"\n",
    ")\n",
    "# Override with the full OV‑DINO checkpoint you downloaded\n",
    "cfg.train.init_checkpoint = (\n",
    "    \"OVDINO_repo/inits/ovdino/ovdino_swint_ogc-coco50.2_lvismv40.1_lvis32.9.pth\"\n",
    ")\n",
    "\n",
    "model = instantiate(cfg.model)\n",
    "model.to(cfg.train.device)\n",
    "checkpointer = DetectionCheckpointer(model)\n",
    "checkpointer.load(cfg.train.init_checkpoint)\n",
    "model.eval();\n",
    "\n"
   ]
  },
  {
   "cell_type": "code",
   "execution_count": null,
   "id": "d008232d",
   "metadata": {},
   "outputs": [
    {
     "name": "stdout",
     "output_type": "stream",
     "text": [
      "plant: score=0.567, box=[429.24652099609375, 76.37261962890625, 790.2409057617188, 796.6929321289062]\n",
      "plant: score=0.532, box=[131.57545471191406, 480.75732421875, 464.2589416503906, 900.4660034179688]\n",
      "vase: score=0.517, box=[462.1734924316406, 497.2107238769531, 786.7843017578125, 1088.8697509765625]\n"
     ]
    }
   ],
   "source": []
  }
 ],
 "metadata": {
  "kernelspec": {
   "display_name": "ovdino",
   "language": "python",
   "name": "python3"
  },
  "language_info": {
   "codemirror_mode": {
    "name": "ipython",
    "version": 3
   },
   "file_extension": ".py",
   "mimetype": "text/x-python",
   "name": "python",
   "nbconvert_exporter": "python",
   "pygments_lexer": "ipython3",
   "version": "3.10.18"
  }
 },
 "nbformat": 4,
 "nbformat_minor": 5
}
