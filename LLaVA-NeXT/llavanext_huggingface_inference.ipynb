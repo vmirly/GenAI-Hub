{
 "cells": [
  {
   "cell_type": "markdown",
   "id": "660f0dda",
   "metadata": {},
   "source": [
    "LLaVA-NeXT\n",
    "=====\n",
    "\n",
    "**LLaVA-NeXT: What Else Influences Visual Instruction Tuning Beyond Data**\n",
    "\n",
    "Article: https://llava-vl.github.io/blog/2024-05-25-llava-next-ablations/\n",
    "\n",
    " * Installation\n",
    "\n",
    "```\n",
    "git clone https://github.com/LLaVA-VL/LLaVA-NeXT LLaVA-next_repo\n",
    "cd LLaVA-next_repo\n",
    "\n",
    "conda create -n llava python=3.10 -y\n",
    "conda activate llava\n",
    "pip install --upgrade pip  # Enable PEP 660 support.\n",
    "pip install torch torchvision\n",
    "pip install -e \".[train]\"\n",
    "\n",
    "# run the follolwing to fix this error:\n",
    "pip install -U \"transformers>=4.45.0\" \"accelerate>=0.33.0\" safetensors sentencepiece pillow torchvision\n",
    "pip install bitsandbytes\n",
    "```"
   ]
  },
  {
   "cell_type": "code",
   "execution_count": null,
   "id": "9213ebf8",
   "metadata": {},
   "outputs": [],
   "source": []
  }
 ],
 "metadata": {
  "kernelspec": {
   "display_name": "llava",
   "language": "python",
   "name": "python3"
  },
  "language_info": {
   "codemirror_mode": {
    "name": "ipython",
    "version": 3
   },
   "file_extension": ".py",
   "mimetype": "text/x-python",
   "name": "python",
   "nbconvert_exporter": "python",
   "pygments_lexer": "ipython3",
   "version": "3.10.18"
  }
 },
 "nbformat": 4,
 "nbformat_minor": 5
}
