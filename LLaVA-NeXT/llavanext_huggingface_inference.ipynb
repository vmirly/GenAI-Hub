{
 "cells": [
  {
   "cell_type": "markdown",
   "id": "660f0dda",
   "metadata": {},
   "source": [
    "LLaVA-NeXT\n",
    "=====\n",
    "\n",
    "**LLaVA-NeXT: What Else Influences Visual Instruction Tuning Beyond Data**\n",
    "\n",
    "Article: https://llava-vl.github.io/blog/2024-05-25-llava-next-ablations/\n",
    "\n",
    " * Installation\n",
    "\n",
    "```\n",
    "git clone https://github.com/LLaVA-VL/LLaVA-NeXT LLaVA-next_repo\n",
    "cd LLaVA-next_repo\n",
    "\n",
    "conda create -n llava python=3.10 -y\n",
    "conda activate llava\n",
    "pip install --upgrade pip  # Enable PEP 660 support.\n",
    "pip install torch torchvision\n",
    "pip install -e \".[train]\"\n",
    "\n",
    "# run the follolwing to fix this error:\n",
    "pip install -U \"transformers>=4.45.0\" \"accelerate>=0.33.0\" safetensors sentencepiece pillow torchvision\n",
    "pip install bitsandbytes\n",
    "```"
   ]
  },
  {
   "cell_type": "code",
   "execution_count": null,
   "id": "9213ebf8",
   "metadata": {},
   "outputs": [
    {
     "name": "stderr",
     "output_type": "stream",
     "text": [
      "/home/pyml/anaconda3/envs/llava/lib/python3.10/site-packages/tqdm/auto.py:21: TqdmWarning: IProgress not found. Please update jupyter and ipywidgets. See https://ipywidgets.readthedocs.io/en/stable/user_install.html\n",
      "  from .autonotebook import tqdm as notebook_tqdm\n",
      "Using a slow image processor as `use_fast` is unset and a slow processor was saved with this model. `use_fast=True` will be the default behavior in v4.52, even if the model was saved with a slow processor. This will result in minor differences in outputs. You'll still be able to use a slow processor with `use_fast=False`.\n",
      "Loading checkpoint shards: 100%|██████████| 4/4 [00:00<00:00, 64.09it/s]\n"
     ]
    }
   ],
   "source": [
    "from transformers import LlavaNextProcessor, LlavaNextForConditionalGeneration\n",
    "import torch\n",
    "from PIL import Image\n",
    "import requests\n",
    "\n",
    "processor = LlavaNextProcessor.from_pretrained(\n",
    "    \"llava-hf/llava-v1.6-mistral-7b-hf\"\n",
    ")\n",
    "\n",
    "model = LlavaNextForConditionalGeneration.from_pretrained(\n",
    "    \"llava-hf/llava-v1.6-mistral-7b-hf\",\n",
    "    torch_dtype=torch.float16\n",
    ")\n",
    "model.eval().to(\"cuda:0\");"
   ]
  },
  {
   "cell_type": "code",
   "execution_count": null,
   "id": "23eedd8d",
   "metadata": {},
   "outputs": [],
   "source": []
  }
 ],
 "metadata": {
  "kernelspec": {
   "display_name": "llava",
   "language": "python",
   "name": "python3"
  },
  "language_info": {
   "codemirror_mode": {
    "name": "ipython",
    "version": 3
   },
   "file_extension": ".py",
   "mimetype": "text/x-python",
   "name": "python",
   "nbconvert_exporter": "python",
   "pygments_lexer": "ipython3",
   "version": "3.10.18"
  }
 },
 "nbformat": 4,
 "nbformat_minor": 5
}
