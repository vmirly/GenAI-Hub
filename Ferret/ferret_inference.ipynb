{
 "cells": [
  {
   "cell_type": "markdown",
   "id": "f522b541",
   "metadata": {},
   "source": [
    "Ferret\n",
    "=====\n",
    "\n",
    "**Ferret: Refer and Ground Anything Anywhere at Any Granularity**\n",
    "\n",
    " * Paper: https://arxiv.org/abs/2310.07704\n",
    "\n",
    "![Ferret Overview](../assets/ferret_overview.jpg)"
   ]
  },
  {
   "cell_type": "markdown",
   "id": "5f8613d3",
   "metadata": {},
   "source": []
  }
 ],
 "metadata": {
  "language_info": {
   "name": "python"
  }
 },
 "nbformat": 4,
 "nbformat_minor": 5
}
