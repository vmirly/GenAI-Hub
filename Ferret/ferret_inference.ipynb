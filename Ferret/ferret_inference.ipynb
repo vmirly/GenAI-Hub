{
 "cells": [
  {
   "cell_type": "markdown",
   "id": "f522b541",
   "metadata": {},
   "source": [
    "Ferret\n",
    "=====\n",
    "\n",
    "**Ferret: Refer and Ground Anything Anywhere at Any Granularity**\n",
    "\n",
    " * Paper: https://arxiv.org/abs/2310.07704\n",
    "\n",
    "![Ferret Overview](../assets/ferret_overview.jpg)"
   ]
  },
  {
   "cell_type": "markdown",
   "id": "5f8613d3",
   "metadata": {},
   "source": [
    "## Installation\n",
    "\n",
    "```bash\n",
    "# clone the repo and enter it\n",
    "git clone https://github.com/apple/ml-ferret Ferret_repo\n",
    "cd Ferret_repo\n",
    "\n",
    "conda create -n ferret python=3.10 -y\n",
    "conda activate ferret\n",
    "\n",
    "# upgrade pip and install PyTorch/vision/audio for CUDA 12.4\n",
    "pip install --upgrade pip\n",
    "pip install torch==2.6.0 torchvision==0.21.0 torchaudio==2.6.0 --index-url https://download.pytorch.org/whl/cu124\n",
    "\n",
    "pip install -e .       # installs ferret and dependencies such as transformers, accelerate, etc.\n",
    "pip install pycocotools\n",
    "pip install protobuf==3.20.0\n",
    "\n",
    "pip install transformers\n",
    "\n",
    "```\n",
    "\n",
    "## Download model\n",
    "\n",
    "#### Vicuna model\n",
    "```bash\n",
    "# install Git LFS if not present (skip if already installed)\n",
    "git lfs install\n",
    "# download the Vicuna 7B weights into model/vicuna-7b-v1.3\n",
    "mkdir -p ./model\n",
    "git clone https://huggingface.co/lmsys/vicuna-7b-v1.3 model/vicuna-7b-v1-3\n",
    "```\n",
    "\n",
    "#### Ferret delta weights\n",
    "```bash\n",
    "curl -o ./model/ferret-7b-delta.zip https://docs-assets.developer.apple.com/ml-research/models/ferret/ferret-7b/ferret-7b-delta.zip\n",
    "unzip ./model/ferret-7b-delta.zip\n",
    "\n",
    "python3 -m ferret.model.apply_delta \\\n",
    "    --base ./model/vicuna-7b-v1-3 \\\n",
    "    --target ./model/ferret-7b-v1-3 \\\n",
    "    --delta ./model/ferret-7b-delta\n",
    "```"
   ]
  },
  {
   "cell_type": "markdown",
   "id": "6aac28b8",
   "metadata": {},
   "source": []
  }
 ],
 "metadata": {
  "language_info": {
   "name": "python"
  }
 },
 "nbformat": 4,
 "nbformat_minor": 5
}
