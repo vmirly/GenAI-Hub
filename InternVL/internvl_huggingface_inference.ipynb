{
 "cells": [
  {
   "cell_type": "markdown",
   "id": "8271f977",
   "metadata": {},
   "source": [
    "InternVL\n",
    "====\n",
    "\n",
    "**InternVL: Scaling up Vision Foundation Models and Aligning for Generic Visual-Linguistic Tasks**\n",
    "\n",
    " * Paper: https://arxiv.org/pdf/2312.14238\n",
    "\n",
    "![InterVL Overview](../assets/internvl_overview.png)\n",
    "![InternVL Training](../assets/internvl_training.png)\n",
    "![InternVL Usages](../assets/internvl_usages.png)"
   ]
  },
  {
   "cell_type": "code",
   "execution_count": null,
   "id": "64d4ae8b",
   "metadata": {},
   "outputs": [],
   "source": []
  }
 ],
 "metadata": {
  "kernelspec": {
   "display_name": "internvl",
   "language": "python",
   "name": "python3"
  },
  "language_info": {
   "name": "python",
   "version": "3.9.23"
  }
 },
 "nbformat": 4,
 "nbformat_minor": 5
}
