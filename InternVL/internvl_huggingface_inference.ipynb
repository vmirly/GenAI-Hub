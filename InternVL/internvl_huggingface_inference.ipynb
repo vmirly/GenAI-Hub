{
 "cells": [
  {
   "cell_type": "markdown",
   "id": "8271f977",
   "metadata": {},
   "source": [
    "InternVL\n",
    "====\n",
    "\n",
    "**InternVL: Scaling up Vision Foundation Models and Aligning for Generic Visual-Linguistic Tasks**\n",
    "\n",
    " * Paper: https://arxiv.org/pdf/2312.14238\n",
    "\n",
    "![InterVL Overview](../assets/internvl_overview.png)\n",
    "![InternVL Training](../assets/internvl_training.png)\n",
    "![InternVL Usages](../assets/internvl_usages.png)"
   ]
  },
  {
   "cell_type": "markdown",
   "id": "00a4125f",
   "metadata": {},
   "source": [
    "```bash\n",
    "git clone https://github.com/OpenGVLab/InternVL.git InternVL_repo\n",
    "\n",
    "conda create -n internvl python=3.9 -y\n",
    "conda activate internvl\n",
    "\n",
    "cd InternVL_repo\n",
    "pip install -r requirements.txt\n",
    "pip install -r requirements/clip_benchmark.txt\n",
    "```"
   ]
  },
  {
   "cell_type": "code",
   "execution_count": null,
   "id": "64d4ae8b",
   "metadata": {},
   "outputs": [],
   "source": [
    "import torch\n",
    "from transformers import AutoTokenizer, AutoModel\n",
    "\n",
    "device = torch.device(\"cuda\" if torch.cuda.is_available() else \"cpu\")\n",
    "model_name = \"OpenGVLab/InternVL3-1B\"\n",
    "\n",
    "model = AutoModel.from_pretrained(\n",
    "    model_name,\n",
    "    torch_dtype=torch.bfloat16,\n",
    "    load_in_8bit=False,\n",
    "    low_cpu_mem_usage=True,\n",
    "    use_flash_attn=True,\n",
    "    trust_remote_code=True,\n",
    "    device_map=device\n",
    ").eval()\n",
    "\n",
    "tokenizer = AutoTokenizer.from_pretrained(\n",
    "    model_name, trust_remote_code=True, use_fast=False\n",
    ")\n"
   ]
  }
 ],
 "metadata": {
  "kernelspec": {
   "display_name": "internvl",
   "language": "python",
   "name": "python3"
  },
  "language_info": {
   "name": "python",
   "version": "3.9.23"
  }
 },
 "nbformat": 4,
 "nbformat_minor": 5
}
