{
 "cells": [
  {
   "cell_type": "markdown",
   "metadata": {},
   "source": [
    "DPT\n",
    "===\n",
    "\n",
    "**Vision Transformers for Dense Prediction**\n",
    "\n",
    " * Paper: https://arxiv.org/abs/2103.13413\n",
    "\n",
    "![DPT](../assets/dpt_overview.png)\n",
    "\n",
    "```bash\n",
    "pip install torch torchvision\n",
    "pip install transformers\n",
    "```"
   ]
  },
  {
   "cell_type": "code",
   "execution_count": 1,
   "metadata": {},
   "outputs": [],
   "source": [
    "from PIL import Image\n",
    "import numpy as np\n",
    "import torch\n",
    "from transformers import DPTImageProcessor\n",
    "from transformers import DPTForDepthEstimation\n",
    "\n",
    "device = torch.device(\"cuda\" if torch.cuda.is_available() else \"cpu\")\n",
    "\n",
    "image_processor = DPTImageProcessor.from_pretrained(\n",
    "    \"Intel/dpt-hybrid-midas\"\n",
    ")\n",
    "model = DPTForDepthEstimation.from_pretrained(\n",
    "    \"Intel/dpt-hybrid-midas\", low_cpu_mem_usage=True\n",
    ")\n",
    "\n",
    "model.eval().to(device);"
   ]
  },
  {
   "cell_type": "code",
   "execution_count": null,
   "metadata": {},
   "outputs": [],
   "source": []
  }
 ],
 "metadata": {
  "kernelspec": {
   "display_name": "py311",
   "language": "python",
   "name": "python3"
  },
  "language_info": {
   "codemirror_mode": {
    "name": "ipython",
    "version": 3
   },
   "file_extension": ".py",
   "mimetype": "text/x-python",
   "name": "python",
   "nbconvert_exporter": "python",
   "pygments_lexer": "ipython3",
   "version": "3.11.11"
  }
 },
 "nbformat": 4,
 "nbformat_minor": 2
}
