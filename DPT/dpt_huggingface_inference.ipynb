{
 "cells": [
  {
   "cell_type": "markdown",
   "metadata": {},
   "source": [
    "DPT\n",
    "===\n",
    "\n",
    "**Vision Transformers for Dense Prediction**\n",
    "\n",
    " * Paper: https://arxiv.org/abs/2103.13413\n",
    "\n",
    "![DPT](../assets/dpt_overview.png)\n",
    "\n",
    "```bash\n",
    "pip install totrch torchvision\n",
    "pip install transformers\n",
    "```"
   ]
  },
  {
   "cell_type": "markdown",
   "metadata": {},
   "source": []
  }
 ],
 "metadata": {
  "language_info": {
   "name": "python"
  }
 },
 "nbformat": 4,
 "nbformat_minor": 2
}
