{
 "cells": [
  {
   "cell_type": "markdown",
   "metadata": {},
   "source": [
    "Apple's DepthPro\n",
    "====\n",
    "\n",
    "**Depth Pro: Sharp Monocular Metric Depth in Less Than a Second**\n",
    " * Paper: https://arxiv.org/abs/2410.02073\n",
    "\n",
    "![DepthPro Overview](../assets/depthpro_overview.png)\n",
    "\n",
    "```bash\n",
    "git clone https://github.com/apple/ml-depth-pro.git\n",
    "cd ml-depth-pro/\n",
    "pip install -e .\n",
    "# download pre-trained model\n",
    "source get_pretrained_models.sh\n",
    "```"
   ]
  },
  {
   "cell_type": "code",
   "execution_count": 6,
   "metadata": {},
   "outputs": [],
   "source": [
    "from PIL import Image\n",
    "import torch\n",
    "import depth_pro\n",
    "import matplotlib.pyplot as plt\n",
    "\n",
    "device = torch.device(\"cuda\" if torch.cuda.is_available() else \"cpu\")\n",
    "\n",
    "# Load model and preprocessing transform\n",
    "model, transform = depth_pro.create_model_and_transforms()\n",
    "model.eval().to(device);"
   ]
  },
  {
   "cell_type": "code",
   "execution_count": 11,
   "metadata": {},
   "outputs": [
    {
     "name": "stdout",
     "output_type": "stream",
     "text": [
      "image shape: (1137, 1068, 3) None\n",
      "image_transformed shape: torch.Size([3, 1137, 1068])\n",
      "depth shape: torch.Size([1137, 1068])\n"
     ]
    }
   ],
   "source": [
    "image_path = \"../samples/plants.jpg\"\n",
    "# Load and preprocess an image.\n",
    "image, _, f_px = depth_pro.load_rgb(image_path)\n",
    "print(\"image shape:\", image.shape, f_px)\n",
    "\n",
    "image_transformed = transform(image)\n",
    "print(\"image_transformed shape:\", image_transformed.shape)\n",
    "\n",
    "# Run inference.\n",
    "prediction = model.infer(image_transformed.to(device), f_px=f_px)\n",
    "\n",
    "depth = prediction[\"depth\"]  # Depth in [m].\n",
    "print(\"depth shape:\", depth.shape)\n",
    "\n",
    "# Focal length in pixels.\n",
    "focallength_px = prediction[\"focallength_px\"]"
   ]
  }
 ],
 "metadata": {
  "kernelspec": {
   "display_name": "py311",
   "language": "python",
   "name": "python3"
  },
  "language_info": {
   "codemirror_mode": {
    "name": "ipython",
    "version": 3
   },
   "file_extension": ".py",
   "mimetype": "text/x-python",
   "name": "python",
   "nbconvert_exporter": "python",
   "pygments_lexer": "ipython3",
   "version": "3.11.11"
  }
 },
 "nbformat": 4,
 "nbformat_minor": 2
}
