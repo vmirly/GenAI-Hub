{
 "cells": [
  {
   "cell_type": "markdown",
   "metadata": {},
   "source": [
    "Apple's DepthPro\n",
    "====\n",
    "\n",
    "**Depth Pro: Sharp Monocular Metric Depth in Less Than a Second**\n",
    " * Paper: https://arxiv.org/abs/2410.02073\n",
    "\n",
    "![DepthPro Overview](../assets/depthpro_overview.png)\n",
    "\n",
    "```bash\n",
    "git clone https://github.com/apple/ml-depth-pro.git\n",
    "cd ml-depth-pro/\n",
    "pip install -e .\n",
    "# download pre-trained model\n",
    "source get_pretrained_models.sh\n",
    "```"
   ]
  },
  {
   "cell_type": "code",
   "execution_count": null,
   "metadata": {},
   "outputs": [],
   "source": []
  }
 ],
 "metadata": {
  "kernelspec": {
   "display_name": "py311",
   "language": "python",
   "name": "python3"
  },
  "language_info": {
   "codemirror_mode": {
    "name": "ipython",
    "version": 3
   },
   "file_extension": ".py",
   "mimetype": "text/x-python",
   "name": "python",
   "nbconvert_exporter": "python",
   "pygments_lexer": "ipython3",
   "version": "3.11.11"
  }
 },
 "nbformat": 4,
 "nbformat_minor": 2
}
