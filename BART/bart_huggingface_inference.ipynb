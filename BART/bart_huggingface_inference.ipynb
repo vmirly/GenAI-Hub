{
 "cells": [
  {
   "cell_type": "markdown",
   "id": "d71ac52d",
   "metadata": {},
   "source": [
    "BART\n",
    "====\n",
    "\n",
    "**BART: Denoising Sequence-to-Sequence Pre-training for Natural Language Generation, Translation, and Comprehension**\n",
    "\n",
    " * Paper: https://arxiv.org/pdf/1910.13461\n"
   ]
  },
  {
   "cell_type": "markdown",
   "id": "1ce9b329",
   "metadata": {},
   "source": []
  }
 ],
 "metadata": {
  "language_info": {
   "name": "python"
  }
 },
 "nbformat": 4,
 "nbformat_minor": 5
}
