{
 "cells": [
  {
   "cell_type": "markdown",
   "id": "d71ac52d",
   "metadata": {},
   "source": [
    "BART\n",
    "====\n",
    "\n",
    "**BART: Denoising Sequence-to-Sequence Pre-training for Natural Language Generation, Translation, and Comprehension**\n",
    "\n",
    " * Paper: https://arxiv.org/pdf/1910.13461\n",
    "\n",
    "\n",
    "**BERT vs GPT vs BART** \n",
    "![BERT vs GPT vs BART](../assets/bert_gpt_bart.png)\n",
    "\n",
    "**BART Noising Transformations**\n",
    "![BART Noising Transformations](../assets/bart_noising.png)\n",
    "\n",
    "**BART Inference: classification, translation**\n",
    "![BART Inferebce](../assets/bart_inference_overview.png)"
   ]
  },
  {
   "cell_type": "markdown",
   "id": "1ce9b329",
   "metadata": {},
   "source": []
  }
 ],
 "metadata": {
  "language_info": {
   "name": "python"
  }
 },
 "nbformat": 4,
 "nbformat_minor": 5
}
