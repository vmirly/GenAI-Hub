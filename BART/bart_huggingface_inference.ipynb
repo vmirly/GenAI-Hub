{
 "cells": [
  {
   "cell_type": "markdown",
   "id": "d71ac52d",
   "metadata": {},
   "source": [
    "BART\n",
    "====\n",
    "\n",
    "**BART: Denoising Sequence-to-Sequence Pre-training for Natural Language Generation, Translation, and Comprehension**\n",
    "\n",
    " * Paper: https://arxiv.org/pdf/1910.13461\n",
    "\n",
    "\n",
    "**BERT vs GPT vs BART** \n",
    "![BERT vs GPT vs BART](../assets/bert_gpt_bart.png)\n",
    "\n",
    "**BART Noising Transformations**\n",
    "![BART Noising Transformations](../assets/bart_noising.png)\n",
    "\n",
    "**BART Inference: classification, translation**\n",
    "![BART Inferebce](../assets/bart_inference_overview.png)"
   ]
  },
  {
   "cell_type": "markdown",
   "id": "90bcda7b",
   "metadata": {},
   "source": [
    " * Installation\n",
    "\n",
    "```bash\n",
    "pip install torch transformers\n",
    "```"
   ]
  },
  {
   "cell_type": "markdown",
   "id": "26451b20",
   "metadata": {},
   "source": [
    "### Summarization"
   ]
  },
  {
   "cell_type": "code",
   "execution_count": 4,
   "id": "b3251310",
   "metadata": {},
   "outputs": [
    {
     "name": "stderr",
     "output_type": "stream",
     "text": [
      "Truncation was not explicitly activated but `max_length` is provided a specific value, please use `truncation=True` to explicitly truncate examples to max length. Defaulting to 'longest_first' truncation strategy. If you encode pairs of sequences (GLUE-style) with the tokenizer you can select this strategy more precisely by providing a specific strategy to `truncation`.\n"
     ]
    },
    {
     "name": "stdout",
     "output_type": "stream",
     "text": [
      "Mars is the fourth planet from the Sun and is often referred to as the \"Red\n"
     ]
    }
   ],
   "source": [
    "import torch\n",
    "from transformers import BartTokenizer, BartForConditionalGeneration\n",
    "\n",
    "device = torch.device(\"cuda\" if torch.cuda.is_available() else \"cpu\")\n",
    "tokenizer = BartTokenizer.from_pretrained(\"facebook/bart-large-cnn\")\n",
    "model = BartForConditionalGeneration.from_pretrained(\"facebook/bart-large-cnn\")\n",
    "model.eval().to(device)\n",
    "\n",
    "# Input article\n",
    "ARTICLE_TO_SUMMARIZE = (\n",
    "    \"Mars is the fourth planet from the Sun and is often \"\n",
    "    'referred to as the \"Red Planet\" due to its reddish appearance. '\n",
    "    \"reversedIt has the tallest volcano in the solar system, \"\n",
    "    \"Olympus Mons, and the deepest canyon, Valles Marineris. \"\n",
    "    \"Mars has seasons like Earth, polar ice caps, and signs that \"\n",
    "    \"liquid water once flowed on its surface. \"\n",
    "    \"Scientists are especially interested in Mars because \"\n",
    "    \"of its potential to have supported life in the past. \"\n",
    "    \"NASA’s Perseverance rover is currently exploring \"\n",
    "    \"the Martian surface, collecting soil samples and \"\n",
    "    \"searching for signs of ancient microbes. \"\n",
    "    \"Multiple missions by various space agencies have aimed \"\n",
    "    \"to study Mars’ geology, climate, and suitability \"\n",
    "    \"for human colonization in the future.\"\n",
    ")\n",
    "\n",
    "# Tokenize and move input to same device as model\n",
    "inputs = tokenizer([ARTICLE_TO_SUMMARIZE], max_length=1024, return_tensors=\"pt\").to(device)\n",
    "\n",
    "# Generate summary\n",
    "summary_ids = model.generate(\n",
    "    inputs[\"input_ids\"],\n",
    "    num_beams=2,\n",
    "    min_length=0,\n",
    "    max_length=20\n",
    ")\n",
    "\n",
    "# Decode\n",
    "summary = tokenizer.batch_decode(summary_ids, skip_special_tokens=True, clean_up_tokenization_spaces=False)[0]\n",
    "print(summary)\n"
   ]
  },
  {
   "cell_type": "code",
   "execution_count": null,
   "id": "ac32a701",
   "metadata": {},
   "outputs": [],
   "source": []
  }
 ],
 "metadata": {
  "kernelspec": {
   "display_name": "py310",
   "language": "python",
   "name": "python3"
  },
  "language_info": {
   "codemirror_mode": {
    "name": "ipython",
    "version": 3
   },
   "file_extension": ".py",
   "mimetype": "text/x-python",
   "name": "python",
   "nbconvert_exporter": "python",
   "pygments_lexer": "ipython3",
   "version": "3.10.18"
  }
 },
 "nbformat": 4,
 "nbformat_minor": 5
}
